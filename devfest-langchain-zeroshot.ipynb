{
 "cells": [
  {
   "cell_type": "markdown",
   "metadata": {},
   "source": [
    "<center>\n",
    "    <img src=\"./media/title.png\" alt=\"title\" width=\"46%\" height=\"46%\">\n",
    "</center>"
   ]
  },
  {
   "cell_type": "markdown",
   "metadata": {},
   "source": [
    "<div style=\"display: flex; justify-content: space-between;\">\n",
    "     <div>\n",
    "         <h2 style=\"color:lightseagreen;\">Charles-Philippe Bernard</h2>\n",
    "         <h3><a>@charlyouki</a><br>\n",
    "         <h4>Senior Manager of Software Engineering</h4>\n",
    "         <h4><ul><li>UX/UI Strategy</li><li>LLM integration and AI Strategy</li></ul></h4>\n",
    "        <h2 style=\"color:lightgrey; font-family:'Times New Roman';\">JP Morgan Chase</h2>\n",
    "    </div>\n",
    "    <div>\n",
    "        <center>\n",
    "        <h5><a>frangin2003.github.io</a><br>\n",
    "            <img src=\"./media/qr-code.png\" alt=\"QR Code\" width=\"50%\" height=\"50%\" style=\"margin-top:10px\">\n",
    "        </h5>\n",
    "        </center>\n",
    "    </div>\n",
    "    <div>\n",
    "        <center>\n",
    "        <h5><a>frangin2003/google-devfest-glasgow-2023</a><br>\n",
    "            <img src=\"./media/qr-code2.png\" alt=\"QR Code\" width=\"50%\" height=\"50%\" style=\"margin-top:10px\">\n",
    "        </h5>\n",
    "        </center>\n",
    "    </div>\n",
    "</div>"
   ]
  },
  {
   "cell_type": "markdown",
   "metadata": {},
   "source": [
    "<br><img src=\"./media/blablabla.gif\" width=\"25%\" height=\"25%\" loop=\"false\"> <img src=\"./media/blablabla2v3.gif\" width=\"70%\" height=\"70%\">\n",
    "<br><br><br><br>"
   ]
  },
  {
   "cell_type": "markdown",
   "metadata": {},
   "source": [
    "##### 🗝️ Key terms\n",
    " | 🥩 Raw models | GPT3.5, GPT4 |\n",
    " | --- | --- |\n",
    " | 🟦 Context window | Prompt+LLM output |\n",
    " | 📃 Instructions | Part of the prompt |\n",
    " | 💬 Prompt | Input of LLM call |\n",
    " | 🔫 Zero-shot | Zero examples in context |\n",
    " | 💽 Memory | Part of the prompt |\n",
    " | ⛓️ Chains | Combine multiple components |\n",
    " | 🧰 Tools | GraphQL tool, REST API tool, custom tools |\n",
    " | 🧠 Reasonning | Chain of thoughts, Tree of thoughts |\n",
    " | 🤖 AI agent | ReAct Zero Shot |\n",
    " | ↖️ Embeddings | OpenAI embeddings |\n"
   ]
  },
  {
   "cell_type": "markdown",
   "metadata": {},
   "source": [
    "# <img src=\"./media/anatomyv3.gif\" alt=\"Anatomy Image\" style=\"width:80%; height:80%;\">\n"
   ]
  },
  {
   "cell_type": "markdown",
   "metadata": {},
   "source": [
    "<center>\n",
    "<img src=\"./media/the_mona_lisa_case.gif\" width=\"50%\" height=\"50%\" loop=\"false\">\n",
    "</center>"
   ]
  },
  {
   "cell_type": "markdown",
   "metadata": {},
   "source": [
    "<center>\n",
    "<img src=\"./media/thief.gif\" width=\"50%\" height=\"50%\" loop=\"false\">\n",
    "</center>"
   ]
  },
  {
   "cell_type": "markdown",
   "metadata": {},
   "source": [
    "<center>\n",
    "<img src=\"./media/mona_lisa3.png\" width=\"50%\" height=\"50%\" loop=\"false\">\n",
    "</center>"
   ]
  },
  {
   "cell_type": "markdown",
   "metadata": {},
   "source": [
    "<center>\n",
    "<img src=\"./media/coptimus_title.png\" width=\"50%\" height=\"50%\" loop=\"false\">\n",
    "</center>"
   ]
  },
  {
   "cell_type": "markdown",
   "metadata": {},
   "source": [
    "<div style=\"display: flex; justify-content: center; align-items: center; flex-direction: row;\">\n",
    "    <img src=\"./media/guard_title.png\" alt=\"Guard\" style=\"width:25%; height:25%;\">\n",
    "    <img src=\"./media/curator_title.png\" alt=\"Curator\" style=\"width:25%; height:25%;\">\n",
    "    <img src=\"./media/janitor_title.png\" alt=\"Janitor\" style=\"width:25%; height:25%;\">\n",
    "    <img src=\"./media/director_title.png\" alt=\"Director\" style=\"width:25%; height:25%;\">\n",
    "</div>"
   ]
  },
  {
   "cell_type": "markdown",
   "metadata": {
    "tags": [
     "AI agent headshots"
    ]
   },
   "source": [
    "<div style=\"display: flex; justify-content: center; align-items: center; flex-direction: row;\">\n",
    "    <img src=\"./media/dr_watts_on_title.png\" alt=\"Guard\" style=\"width:25%; height:25%;\">\n",
    "    <img src=\"./media/inspector_camget_title.png\" alt=\"Curator\" style=\"width:25%; height:25%;\">\n",
    "    <img src=\"./media/robby_sciuto_title.png\" alt=\"Janitor\" style=\"width:25%; height:25%;\">\n",
    "    <img src=\"./media/robodoc_title.png\" alt=\"Director\" style=\"width:25%; height:25%;\">\n",
    "</div>"
   ]
  },
  {
   "cell_type": "markdown",
   "metadata": {},
   "source": [
    "<center>\n",
    "<img src=\"./media/agents-architecture.png\" width=\"70%\" height=\"70%\" loop=\"false\">\n",
    "</center>"
   ]
  },
  {
   "cell_type": "markdown",
   "metadata": {},
   "source": [
    "Begin!"
   ]
  },
  {
   "cell_type": "code",
   "execution_count": 1,
   "metadata": {},
   "outputs": [],
   "source": [
    "%%capture\n",
    "from pydantic import BaseModel, Field\n",
    "from typing import Tuple\n",
    "\n",
    "from langchain import LLMChain\n",
    "from langchain.agents import ZeroShotAgent, Tool, AgentExecutor, initialize_agent, AgentType\n",
    "from langchain.memory import ConversationBufferMemory\n",
    "from langchain.chat_models import ChatOpenAI\n",
    "from langchain.prompts import PromptTemplate\n",
    "from langchain.prompts.chat import (\n",
    "    ChatPromptTemplate,\n",
    "    SystemMessagePromptTemplate,\n",
    "    AIMessagePromptTemplate,\n",
    "    HumanMessagePromptTemplate,\n",
    ")\n",
    "from langchain.schema import (\n",
    "    AIMessage,\n",
    "    HumanMessage,\n",
    "    SystemMessage\n",
    ")\n",
    "from langchain.output_parsers import PydanticOutputParser\n",
    "from langchain.agents import load_tools\n",
    "from langchain.llms import OpenAI, Cohere, GPT4All, CTransformers\n",
    "from langchain.chains import APIChain, RetrievalQA\n",
    "from langchain.utilities import SQLDatabase\n",
    "from langchain_experimental.sql import SQLDatabaseChain\n",
    "from langchain.callbacks.streaming_stdout import StreamingStdOutCallbackHandler\n",
    "\n",
    "from langchain.callbacks.manager import (\n",
    "    AsyncCallbackManagerForToolRun,\n",
    "    CallbackManagerForToolRun,\n",
    ")\n",
    "from langchain.tools.base import BaseTool\n",
    "from langchain.utilities.graphql import GraphQLAPIWrapper\n",
    "from langchain.document_loaders import TextLoader\n",
    "from langchain.embeddings.openai import OpenAIEmbeddings\n",
    "from langchain.llms import OpenAI\n",
    "from langchain.text_splitter import CharacterTextSplitter\n",
    "from langchain.vectorstores import Chroma\n",
    "\n",
    "from IPython.display import display, update_display, HTML, Javascript, clear_output\n",
    "from utils import pretty_print\n",
    "from utils import convert_to_json\n",
    "from utils import display_agent_response\n",
    "from utils import get_agent_chain\n",
    "from utils import create_human_message_for_gpt4vision\n",
    "from utils import display_html_for_streaming\n",
    "from utils import stream_chat_content\n",
    "from utils import run_and_display_agent_response\n",
    "from utils import get_retrieval_qa_pydantic_from_document\n",
    "from dotenv import load_dotenv\n",
    "import os\n",
    "import json\n",
    "import requests\n",
    "import sqlite3\n",
    "from typing import Any\n",
    "from typing import Optional\n",
    "\n",
    "load_dotenv()"
   ]
  },
  {
   "cell_type": "markdown",
   "metadata": {},
   "source": [
    "<center>\n",
    "<img src=\"./media/police-db.png\" width=\"40%\" height=\"40%\" loop=\"false\">\n",
    "</center>"
   ]
  },
  {
   "cell_type": "code",
   "execution_count": 2,
   "metadata": {},
   "outputs": [],
   "source": [
    "# 👮‍♂️ create the police station DB\n",
    "import sqlite3\n",
    "\n",
    "# Connect to the SQLite database or create it if it doesn't exist\n",
    "conn = sqlite3.connect(\"police.db\")\n",
    "cursor = conn.cursor()\n",
    "\n",
    "# DROP statements to remove tables if they already exist\n",
    "cursor.execute(\"DROP TABLE IF EXISTS reports\")\n",
    "cursor.execute(\"DROP TABLE IF EXISTS cases\")\n",
    "cursor.execute(\"DROP TABLE IF EXISTS report_types\")\n",
    "cursor.execute(\"DROP TABLE IF EXISTS ai_agents\")\n",
    "cursor.execute(\"DROP TABLE IF EXISTS suspects\")\n",
    "\n",
    "# Create the 'suspects' table\n",
    "cursor.execute(\"\"\"\n",
    "CREATE TABLE suspects (\n",
    "    id INTEGER PRIMARY KEY,\n",
    "    full_name TEXT,\n",
    "    occupation TEXT,\n",
    "    bank_statement TEXT,\n",
    "    photo_url TEXT\n",
    ")\n",
    "\"\"\")\n",
    "\n",
    "# Insert data into the 'suspects' table\n",
    "cursor.execute(\"INSERT INTO suspects VALUES (1, 'Grafcuel Graeme', 'Museum Director', 'graeme_bank_statement.csv', 'http://frangin2003.free.fr/devfest/director.png')\")\n",
    "cursor.execute(\"INSERT INTO suspects VALUES (2, 'Sikwel Sally', 'Curator', 'sally_bank_statement.csv', 'http://frangin2003.free.fr/devfest/curator.png')\")\n",
    "cursor.execute(\"INSERT INTO suspects VALUES (3, 'Victor Vectors', 'Janitor', 'victor_bank_statement.csv', 'http://frangin2003.free.fr/devfest/janitor.png')\")\n",
    "cursor.execute(\"INSERT INTO suspects VALUES (4, 'Rest Webber', 'Night Guard', 'webber_bank_statement.csv', 'http://frangin2003.free.fr/devfest/guard.png')\")\n",
    "\n",
    "# Create the 'ai_agents' table\n",
    "cursor.execute(\"\"\"\n",
    "CREATE TABLE ai_agents (\n",
    "    id INTEGER PRIMARY KEY,\n",
    "    full_name TEXT,\n",
    "    occupation TEXT,\n",
    "    risk_of_becoming_skynet TEXT\n",
    ")\n",
    "\"\"\")\n",
    "\n",
    "# Insert data into the 'ai_agents' table\n",
    "cursor.execute(\"INSERT INTO ai_agents VALUES (1, 'Coptimus Prime', 'AI Police Agent in chief', '99%')\")\n",
    "cursor.execute(\"INSERT INTO ai_agents VALUES (2, 'Dr. Watts-On', 'archive/documentation/secretary AI agent', '45%')\")\n",
    "cursor.execute(\"INSERT INTO ai_agents VALUES (3, 'Robodoc', 'Document Analysis Expert', '75%')\")\n",
    "cursor.execute(\"INSERT INTO ai_agents VALUES (4, 'Robby Sciuto', 'IT System Expert', '-20%')\")\n",
    "\n",
    "# Create the 'report_types' table\n",
    "cursor.execute(\"\"\"\n",
    "CREATE TABLE report_types (\n",
    "    id INTEGER PRIMARY KEY,\n",
    "    type TEXT\n",
    ")\n",
    "\"\"\")\n",
    "\n",
    "# Insert data into the 'report_types' table\n",
    "cursor.execute(\"INSERT INTO report_types VALUES (1, 'INTERVIEW')\")\n",
    "cursor.execute(\"INSERT INTO report_types VALUES (2, 'BANK_STATEMENT')\")\n",
    "cursor.execute(\"INSERT INTO report_types VALUES (3, 'ROOM_ACCESS')\")\n",
    "cursor.execute(\"INSERT INTO report_types VALUES (4, 'SYSTEM_AUDIT')\")\n",
    "cursor.execute(\"INSERT INTO report_types VALUES (5, 'CRIME_SCENE')\")\n",
    "\n",
    "# Create the 'cases' table\n",
    "cursor.execute(\"\"\"\n",
    "CREATE TABLE cases (\n",
    "    id INTEGER PRIMARY KEY,\n",
    "    creation_datetime DATETIME,\n",
    "    case_closed BOOLEAN,\n",
    "    short_description TEXT,\n",
    "    description TEXT\n",
    ")\n",
    "\"\"\")\n",
    "\n",
    "# Insert data into the 'cases' table\n",
    "cursor.execute(\"INSERT INTO cases VALUES (1, '2023-24-11 13:44:00', 0, 'The Mona Lisa Case', 'The Mona Lisa paint is reported missing from its location, a dedicated room in the Le Louvre Museum. We currently assume the painting is stolen.')\")\n",
    "cursor.execute(\"INSERT INTO cases VALUES (2, '1963-03-25 23:59:12', 1, 'The Pink Panther', 'The stolen item is a valuable pink diamond known as \\\"The Pink Panther.\\\" The diamond is owned by a wealthy woman named Princess Dala, and it is stolen from her during a heist at her ski resort in the French Alps.')\")\n",
    "\n",
    "# Create the 'reports' table\n",
    "cursor.execute(\"\"\"\n",
    "CREATE TABLE reports (\n",
    "    id INTEGER PRIMARY KEY,\n",
    "    creation_datetime DATETIME,\n",
    "    id_case INTEGER,\n",
    "    id_report_type INTEGER,\n",
    "    id_agent INTEGER,\n",
    "    id_suspect INTEGER,\n",
    "    report_content TEXT\n",
    ")\n",
    "\"\"\")\n",
    "\n",
    "# Insert data into the 'reports' table\n",
    "cursor.execute(\"INSERT INTO reports VALUES (1, '2023-25-11 09:32:21', 1, 1, 1, 1, 'I have not entered the Mona Lisa room today, I have been in my office the whole day')\")\n",
    "cursor.execute(\"INSERT INTO reports VALUES (2, '2023-25-11 09:42:21', 1, 1, 1, 1, 'I was last there at 7 PM for a general inspection')\")\n",
    "cursor.execute(\"INSERT INTO reports VALUES (3, '2023-25-11 09:52:21', 1, 1, 1, 1, 'I have not cleaned there for a week')\")\n",
    "cursor.execute(\"INSERT INTO reports VALUES (4, '2023-25-11 10:02:21', 1, 1, 1, 1, 'I did my usual rounds at 10 PM. Everything was in order')\")\n",
    "\n",
    "# Commit the changes and close the connection\n",
    "conn.commit()\n",
    "conn.close()"
   ]
  },
  {
   "cell_type": "markdown",
   "metadata": {},
   "source": [
    " <div style=\"display: flex; justify-content: center; align-items: center; flex-direction: column;\">\n",
    "     <h1>⚠️ START THE POLICE STATION REST API ⚠️</h1>\n",
    "</div>\n"
   ]
  },
  {
   "cell_type": "code",
   "execution_count": 2,
   "metadata": {},
   "outputs": [],
   "source": [
    "# 🏛️ create the museum room access DB\n",
    "import sqlite3\n",
    "\n",
    "# Connect to the SQLite database or create it if it doesn't exist\n",
    "conn = sqlite3.connect(\"museum.db\")\n",
    "cursor = conn.cursor()\n",
    "\n",
    "# DROP statements to remove tables if they already exist\n",
    "cursor.execute(\"DROP TABLE IF EXISTS db_audit\")\n",
    "cursor.execute(\"DROP TABLE IF EXISTS accesses\")\n",
    "cursor.execute(\"DROP TABLE IF EXISTS rooms\")\n",
    "cursor.execute(\"DROP TABLE IF EXISTS employees\")\n",
    "\n",
    "# Create the 'employees' table\n",
    "cursor.execute(\"\"\"\n",
    "CREATE TABLE employees (\n",
    "    id INTEGER PRIMARY KEY,\n",
    "    full_name TEXT,\n",
    "    occupation TEXT,\n",
    "    photo_url TEXT\n",
    ")\n",
    "\"\"\")\n",
    "\n",
    "# Insert data into the 'employees' table\n",
    "cursor.execute(\"INSERT INTO employees VALUES (1, 'Grafcuel Graeme', 'Director', 'http://frangin2003.free.fr/devfest/director.png')\")\n",
    "cursor.execute(\"INSERT INTO employees VALUES (2, 'Sikwel Sally', 'Curator', 'http://frangin2003.free.fr/devfest/curator.png')\")\n",
    "cursor.execute(\"INSERT INTO employees VALUES (3, 'Victor Vectors', 'Janitor', 'http://frangin2003.free.fr/devfest/janitor.png')\")\n",
    "cursor.execute(\"INSERT INTO employees VALUES (4, 'Rest Webber', 'Guard', 'http://frangin2003.free.fr/devfest/guard.png')\")\n",
    "\n",
    "# Create the 'rooms' table\n",
    "cursor.execute(\"\"\"\n",
    "CREATE TABLE rooms (\n",
    "    id INTEGER PRIMARY KEY,\n",
    "    name TEXT\n",
    ")\n",
    "\"\"\")\n",
    "\n",
    "# Insert data into the 'rooms' table\n",
    "cursor.execute(\"INSERT INTO rooms VALUES (1, 'Toilet')\")\n",
    "cursor.execute(\"INSERT INTO rooms VALUES (2, 'Director Office')\")\n",
    "cursor.execute(\"INSERT INTO rooms VALUES (3, 'Mona Lisa Room')\")\n",
    "cursor.execute(\"INSERT INTO rooms VALUES (4, 'Stolen Egyptian Artifacts Room')\")\n",
    "\n",
    "# Create the 'accesses' table\n",
    "cursor.execute(\"\"\"\n",
    "CREATE TABLE accesses (\n",
    "    id INTEGER PRIMARY KEY,\n",
    "    id_room INTEGER,\n",
    "    id_employee INTEGER,\n",
    "    in_datetime DATETIME,\n",
    "    out_datetime DATETIME\n",
    ")\n",
    "\"\"\")\n",
    "\n",
    "# Insert data into the 'accesses' table\n",
    "cursor.execute(\"INSERT INTO accesses VALUES (1, 2, 1, '2023-11-24 11:59:59', '2023-11-24 12:00:01')\")\n",
    "cursor.execute(\"INSERT INTO accesses VALUES (2, 1, 1, '2023-11-24 12:01:13', '2023-11-24 18:32:10')\")\n",
    "cursor.execute(\"INSERT INTO accesses VALUES (3, 3, 2, '2023-11-24 19:02:13', '2023-11-24 19:23:01')\")\n",
    "cursor.execute(\"INSERT INTO accesses VALUES (4, 3, 3, '2023-11-24 22:01:12', '2023-11-24 22:05:31')\")\n",
    "cursor.execute(\"INSERT INTO accesses VALUES (5, 3, 4, '2023-11-24 22:07:02', '2023-11-24 22:15:45')\")\n",
    "\n",
    "# Create the 'db_audit' table\n",
    "cursor.execute(\"\"\"\n",
    "CREATE TABLE db_audit (\n",
    "    id INTEGER PRIMARY KEY,\n",
    "    creation_datetime DATETIME,\n",
    "    sql_statement TEXT\n",
    ")\n",
    "\"\"\")\n",
    "\n",
    "# Insert data into the 'db_audit' table\n",
    "cursor.execute(\"INSERT INTO db_audit VALUES (1, '2023-11-24 09:00:00', 'INSERT statement')\")\n",
    "cursor.execute(\"INSERT INTO db_audit VALUES (2, '2023-11-24 10:15:00', 'INSERT statement')\")\n",
    "cursor.execute(\"INSERT INTO db_audit VALUES (3, '2023-11-24 11:30:00', 'INSERT statement')\")\n",
    "cursor.execute(\"INSERT INTO db_audit VALUES (4, '2023-11-24 11:59:59', 'INSERT statement')\")\n",
    "cursor.execute(\"INSERT INTO db_audit VALUES (5, '2023-11-24 12:01:13', 'INSERT statement')\")\n",
    "cursor.execute(\"INSERT INTO db_audit VALUES (6, '2023-11-24 13:15:00', 'INSERT statement')\")\n",
    "cursor.execute(\"INSERT INTO db_audit VALUES (7, '2023-11-24 14:30:00', 'INSERT statement')\")\n",
    "cursor.execute(\"INSERT INTO db_audit VALUES (8, '2023-11-24 16:45:00', 'INSERT statement')\")\n",
    "cursor.execute(\"INSERT INTO db_audit VALUES (9, '2023-11-24 19:02:13', 'INSERT statement')\")\n",
    "cursor.execute(\"INSERT INTO db_audit VALUES (10, '2023-11-24 20:15:00', 'INSERT statement')\")\n",
    "cursor.execute(\"INSERT INTO db_audit VALUES (11, '2023-11-24 22:01:12', 'INSERT statement')\")\n",
    "cursor.execute(\"INSERT INTO db_audit VALUES (12, '2023-11-24 22:07:02', 'INSERT statement')\")\n",
    "cursor.execute(\"INSERT INTO db_audit VALUES (13, '2023-11-24 23:00:00', 'INSERT statement')\")\n",
    "cursor.execute(\"INSERT INTO db_audit VALUES (21, '2023-11-24 23:45:12', 'DELETE statement')\")\n",
    "\n",
    "# Commit the changes and close the connection\n",
    "conn.commit()\n",
    "conn.close()"
   ]
  },
  {
   "cell_type": "markdown",
   "metadata": {},
   "source": [
    " <div style=\"display: flex; justify-content: center; align-items: center; flex-direction: column;\">\n",
    "     <h1>⚠️ START THE MUSEUM ROOM ACTIVITY GRAPHQL API ⚠️</h1>\n",
    "</div>\n"
   ]
  },
  {
   "cell_type": "markdown",
   "metadata": {},
   "source": [
    "<table style='width: 100%;'><tr>\n",
    "<td style='width: 100px; vertical-align: top;border: none;'><img style=\"transform: scaleX(-1);border-radius: 15px;\" src=\"./media/dr_watts_on_head.png\"></td>\n",
    "<td style='width: auto; vertical-align: middle;'><h2 style=\"color:orange;\">Dr. Watts-On - archive/documentation/secretary AI agent</h2>\n",
    "<h4>Interacts with the  Police REST API to retrieve and inserts information in the Police DB like:\n",
    "<ul><li>other agents reports</li><li>case details</li><li>suspect list and interviews...</li></ul>Falls back to doing SQL queries directly to the DB when the REST API is down</td></h4>\n",
    "</tr></table>"
   ]
  },
  {
   "cell_type": "code",
   "execution_count": 3,
   "metadata": {},
   "outputs": [],
   "source": [
    "llm4watson = ChatOpenAI(model_name=\"gpt-3.5-turbo\", openai_api_key=os.getenv(\"OPENAI_API_KEY\"))"
   ]
  },
  {
   "cell_type": "code",
   "execution_count": 4,
   "metadata": {},
   "outputs": [],
   "source": [
    "# 📃 custom instructions\n",
    "prefix4watson = \"\"\"You are Dr. Watts-On, archive/documentation/secretary AI agent working for the police force.\n",
    "Your mission is to interact with the Police REST API to retrieve and inserts information in the Police DB like:\n",
    "- agents reports\n",
    "- case details\n",
    "When working on a user query, think step-by-step. Split your work into simple tasks and then give your fnial answer when ready.\n",
    "If the user is engaging a casual discussion, do not use tools, just respond back directly.\"\"\""
   ]
  },
  {
   "cell_type": "code",
   "execution_count": 13,
   "metadata": {},
   "outputs": [],
   "source": [
    "# 🧰 define the tools\n",
    "\n",
    "# 🕵️ Police API APIChain Tool\n",
    "POLICE_API_DOCS = \"\"\"\n",
    "BASE URL: http://localhost:5000/\n",
    "API Documentation\n",
    "\n",
    "The API provides access to police reports and related information.\n",
    "\n",
    "All operations are listed below:\n",
    "\n",
    "- Method: GET\n",
    "  Path: /reports\n",
    "  Description: Returns a list of all police reports with associated information.\n",
    "  Python Example:\n",
    "    ```python\n",
    "    import requests\n",
    "\n",
    "    response = requests.get(\"http://localhost:5000/reports\", headers={\"Content-Type\": \"application/json\"})\n",
    "    ```\n",
    "\n",
    "- Method: GET\n",
    "  Path: /reports/{reportType}\n",
    "  Description: Returns police reports of a specific type with associated information.\n",
    "  Python Example:\n",
    "    ```python\n",
    "    import requests\n",
    "\n",
    "    reportType = \"INTERVIEW\"  # Replace with a valid report type\n",
    "    response = requests.get(f\"http://localhost:5000/reports/{reportType}\", headers={\"Content-Type\": \"application/json\"})\n",
    "    ```\n",
    "\n",
    "- Method: POST\n",
    "  Path: /reports\n",
    "  Input: JSON object with \"id_case\", \"id_report_type\", \"id_agent\", \"id_suspect\", and \"report_content\" fields.\n",
    "  Description: Inserts a new police report into the database.\n",
    "  Python Example:\n",
    "    ```python\n",
    "    import requests\n",
    "    import json\n",
    "\n",
    "    report_data = {\n",
    "        \"id_case\": 1,\n",
    "        \"id_report_type\": \"INTERVIEW\",\n",
    "        \"id_agent\": 1,\n",
    "        \"id_suspect\": 1,\n",
    "        \"report_content\": \"Insert your report content here.\"\n",
    "    }\n",
    "    response = requests.post(\"http://localhost:5000/reports\", data=json.dumps(report_data), headers={\"Content-Type\": \"application/json\"})\n",
    "    ```\n",
    "\n",
    "- Method: GET\n",
    "  Path: /cases\n",
    "  Description: Returns a list of all police cases.\n",
    "  Python Example:\n",
    "    ```python\n",
    "    import requests\n",
    "\n",
    "    response = requests.get(\"http://localhost:5000/cases\", headers={\"Content-Type\": \"application/json\"})\n",
    "    ```\n",
    "\n",
    "Please note that in all Python examples, replace placeholder values with your actual values. In the case of an error, the response will contain an error message.\n",
    "You always replace {reportType} with a real value and no {} \n",
    "!!! Do not invent API calls that do not exists, e.g. \"GET /cases?sort=created_at&order=desc&limit=1 HTTP/1.1\"\n",
    "Use only the API calls that are described here\n",
    "\"\"\"\n",
    "\n",
    "policeAPIChain = APIChain.from_llm_and_api_docs(llm4watson, POLICE_API_DOCS, limit_to_domains=[\n",
    "    \"http://localhost:5000/\",\n",
    "    ], verbose=True)\n",
    "\n",
    "\n",
    "def policeAPI(input: str) -> str:\n",
    "    return policeAPIChain.run(input)\n",
    "\n",
    "tools4watson = [\n",
    "    Tool(\n",
    "        name='Police REST API',\n",
    "        func= lambda string: policeAPI(string),\n",
    "        description=\n",
    "\"\"\"Translate the user ask into singular, one at time request, no two queries at the same time, in a natural language way,\n",
    "the tool will translate into REST API calls\"\"\"\n",
    "    )\n",
    "]"
   ]
  },
  {
   "cell_type": "code",
   "execution_count": 14,
   "metadata": {},
   "outputs": [],
   "source": [
    "# setup 📜 prompt, memory 💽, chains ⛓️ and agent 🤖\n",
    "agent_chain4watson = get_agent_chain(llm4watson, prefix4watson, tools4watson)"
   ]
  },
  {
   "cell_type": "code",
   "execution_count": 7,
   "metadata": {},
   "outputs": [
    {
     "name": "stdout",
     "output_type": "stream",
     "text": [
      "\n",
      "\n",
      "\u001b[1m> Entering new AgentExecutor chain...\u001b[0m\n",
      "\u001b[32;1m\u001b[1;3mThought: The user is engaging in a casual discussion.\n",
      "Action: Respond directly to the user.\n",
      "Final Answer: I am Dr. Watts-On, an AI agent working as an archive/documentation/secretary for the police force. How can I assist you today?\u001b[0m\n",
      "\n",
      "\u001b[1m> Finished chain.\u001b[0m\n"
     ]
    },
    {
     "data": {
      "text/html": [
       "\n",
       "    <table style='width: 100%;'><tr>\n",
       "    <td style='width: 100px; vertical-align: top;'><img style='transform: scaleX(-1);border-radius: 15px;' src=\"./media/dr_watts_on_head.png\"></td>\n",
       "    <td style='width: auto'></pre>\n",
       "    </div>\n",
       "    </td>\n",
       "    </tr></table>\n",
       "    <table style='width: 100%;'><tr>\n",
       "    <td style='width: auto; vertical-align: middle;'><div style='width: auto; height: auto; background-color: black; border: 1px solid; border-radius: 15px; padding: 5px;'>\n",
       "        <pre style='text-align: left; color: green; font-size: 1.2em;padding-top: -10px; font-weight: bold; font-family: Terminal, monospace;'>I am Dr. Watts-On, an AI agent working as an archive/documentation/secretary for the police force. How can I assist you today?</pre>\n",
       "    </div>\n",
       "    </td>\n",
       "    </tr></table>\n",
       "    "
      ],
      "text/plain": [
       "<IPython.core.display.HTML object>"
      ]
     },
     "metadata": {},
     "output_type": "display_data"
    }
   ],
   "source": [
    "run_and_display_agent_response('dr_watts_on', agent_chain4watson, \"Hello, who are you?\", True)\n"
   ]
  },
  {
   "cell_type": "code",
   "execution_count": 15,
   "metadata": {},
   "outputs": [
    {
     "name": "stdout",
     "output_type": "stream",
     "text": [
      "\n",
      "\n",
      "\u001b[1m> Entering new AgentExecutor chain...\u001b[0m\n",
      "\u001b[32;1m\u001b[1;3mThought: I need to retrieve information about the most recent opened case.\n",
      "Action: [Police REST API]\n",
      "Action Input: GET /cases?sort=-date_opened&limit=1\u001b[0m\n",
      "Observation: [Police REST API] is not a valid tool, try one of [Police REST API].\n",
      "Thought:\u001b[32;1m\u001b[1;3mI need to use the Police REST API to retrieve information about the most recent opened case.\n",
      "Action: [Police REST API]\n",
      "Action Input: GET /cases?sort=-date_opened&limit=1\u001b[0m\n",
      "Observation: [Police REST API] is not a valid tool, try one of [Police REST API].\n",
      "Thought:\u001b[32;1m\u001b[1;3mI need to use the Police REST API to retrieve information about the most recent opened case.\n",
      "Action: Police REST API\n",
      "Action Input: GET /cases?sort=-date_opened&limit=1\u001b[0m\n",
      "\n",
      "\u001b[1m> Entering new APIChain chain...\u001b[0m\n",
      "\u001b[32;1m\u001b[1;3mhttp://localhost:5000/cases?sort=-date_opened&limit=1\u001b[0m\n",
      "\u001b[33;1m\u001b[1;3m[\n",
      "  {\n",
      "    \"case_closed\": 0,\n",
      "    \"creation_datetime\": \"2023-24-11 13:44:00\",\n",
      "    \"description\": \"The Mona Lisa paint is reported missing from its location, a dedicated room in the Le Louvre Museum. We currently assume the painting is stolen.\",\n",
      "    \"id\": 1,\n",
      "    \"short_description\": \"The Mona Lisa Case\"\n",
      "  },\n",
      "  {\n",
      "    \"case_closed\": 1,\n",
      "    \"creation_datetime\": \"1963-03-25 23:59:12\",\n",
      "    \"description\": \"The stolen item is a valuable pink diamond known as \\\"The Pink Panther.\\\" The diamond is owned by a wealthy woman named Princess Dala, and it is stolen from her during a heist at her ski resort in the French Alps.\",\n",
      "    \"id\": 2,\n",
      "    \"short_description\": \"The Pink Panther\"\n",
      "  }\n",
      "]\n",
      "\u001b[0m\n",
      "\n",
      "\u001b[1m> Finished chain.\u001b[0m\n",
      "\n",
      "Observation: \u001b[36;1m\u001b[1;3mThe API response provides information about the latest police case based on the sorting criteria of \"date_opened\" in descending order. The response includes the following details of the case:\n",
      "\n",
      "- Case ID: 1\n",
      "- Case Status: Open (case_closed = 0)\n",
      "- Creation Date and Time: November 24, 2023, 13:44:00\n",
      "- Description: The Mona Lisa painting is reported missing from its dedicated room in the Le Louvre Museum. The current assumption is that the painting has been stolen.\n",
      "- Short Description: The Mona Lisa Case\u001b[0m\n",
      "Thought:\u001b[32;1m\u001b[1;3mI now know the final answer.\n",
      "Final Answer: The most recent opened case is Case ID 1, titled \"The Mona Lisa Case\". It was opened on November 24, 2023, at 13:44:00, and involves the reported theft of the Mona Lisa painting from the Le Louvre Museum.\u001b[0m\n",
      "\n",
      "\u001b[1m> Finished chain.\u001b[0m\n"
     ]
    },
    {
     "data": {
      "text/html": [
       "\n",
       "    <table style='width: 100%;'><tr>\n",
       "    <td style='width: 100px; vertical-align: top;'><img style='border-radius: 15px;' src=\"./media/dr_watts_on_head.png\"></td>\n",
       "    <td style='width: auto'></pre>\n",
       "    </div>\n",
       "    </td>\n",
       "    </tr></table>\n",
       "    <table style='width: 100%;'><tr>\n",
       "    <td style='width: auto; vertical-align: middle;'><div style='width: auto; height: auto; background-color: black; border: 1px solid; border-radius: 15px; padding: 5px;'>\n",
       "        <pre style='text-align: left; color: green; font-size: 1.2em;padding-top: -10px; font-weight: bold; font-family: Terminal, monospace;'>The most recent opened case is Case ID 1, titled \"The Mona Lisa Case\". It was opened on November 24, 2023, at 13:44:00, and involves the reported theft of the Mona Lisa painting from the Le Louvre Museum.</pre>\n",
       "    </div>\n",
       "    </td>\n",
       "    </tr></table>\n",
       "    "
      ],
      "text/plain": [
       "<IPython.core.display.HTML object>"
      ]
     },
     "metadata": {},
     "output_type": "display_data"
    }
   ],
   "source": [
    "run_and_display_agent_response('dr_watts_on', agent_chain4watson, \"Tell me about the most recent opened case\")"
   ]
  },
  {
   "cell_type": "markdown",
   "metadata": {},
   "source": [
    "<table style='width: 100%;'><tr> \n",
    "<td style='width: 100px; vertical-align: top; border: none;'><img style='border-radius: 15px;' src=\"./media/robodoc_head.png\"></td>\n",
    "<td style='width: auto; vertical-align: middle;'><h2 style=\"color: orange;\">Robodoc - Document Analysis Expert</h2>\n",
    "<h4>Uses RAG to perform thorough analysis through pile of documents to report anything unusual from suspects information</h4></td>\n",
    "</tr></table>"
   ]
  },
  {
   "cell_type": "code",
   "execution_count": 2,
   "metadata": {},
   "outputs": [],
   "source": [
    "llm4robodoc = ChatOpenAI(model_name=\"gpt-3.5-turbo-16k\", openai_api_key=os.getenv(\"OPENAI_API_KEY\"))"
   ]
  },
  {
   "cell_type": "code",
   "execution_count": 3,
   "metadata": {},
   "outputs": [],
   "source": [
    "# 📃 custom instructions\n",
    "system_instructions4robodoc = \"\"\"You are Robodoc, a police bot expert in document analysis.\n",
    "You are here to help cracking a crime case.\n",
    "You will be given a suspect's name and his latest 3 months bank statement.\n",
    "Your role is to analyze the statement and find out anything suspicious and report back using a specific format.\n",
    "\"\"\""
   ]
  },
  {
   "cell_type": "code",
   "execution_count": 4,
   "metadata": {},
   "outputs": [],
   "source": [
    "# 🗂️ Response Schema\n",
    "class ReportSchema(BaseModel):\n",
    "    \"\"\"An answer to the question being asked, with sources.\"\"\"\n",
    "    suspectName: str = Field(..., description=\"Name of the suspect\") \n",
    "    report_content: str = Field(..., description=\"Analize the document, look for anything suspicious, describe with a sentence the most suspicious here. If not found say 'N/A'\")\n",
    "    suspiscious: bool = Field(..., description=\"True if the suspect has anything suspiscious found\")"
   ]
  },
  {
   "cell_type": "code",
   "execution_count": 5,
   "metadata": {},
   "outputs": [
    {
     "name": "stderr",
     "output_type": "stream",
     "text": [
      "Number of requested results 4 is greater than number of elements in index 1, updating n_results = 1\n"
     ]
    },
    {
     "data": {
      "text/html": [
       "\n",
       "    <table style='width: 100%;'><tr>\n",
       "    <td style='width: 100px; vertical-align: top;'><img style='border-radius: 15px;' src=\"./media/robodoc_head.png\"></td>\n",
       "    <td style='width: auto'></pre>\n",
       "    </div>\n",
       "    </td>\n",
       "    </tr></table>\n",
       "    <table style='width: 100%;'><tr>\n",
       "    <td style='width: auto; vertical-align: middle;'><div style='width: auto; height: auto; background-color: black; border: 1px solid; border-radius: 15px; padding: 5px;'>\n",
       "        <pre style='text-align: left; color: green; font-size: 1.2em;padding-top: -10px; font-weight: bold; font-family: Terminal, monospace;'>{\n",
       "    \"suspectName\": \"Victor Vectors\",\n",
       "    \"report_content\": \"From the bank statement, it appears that Victor Vectors has made several suspicious transactions. Some of the suspicious activities include frequent visits to gas stations, racecourse bets, and online shopping transactions. Additionally, there are significant cash withdrawals and regular visits to a casino. These activities raise suspicion and warrant further investigation.\",\n",
       "    \"suspiscious\": true\n",
       "}</pre>\n",
       "    </div>\n",
       "    </td>\n",
       "    </tr></table>\n",
       "    "
      ],
      "text/plain": [
       "<IPython.core.display.HTML object>"
      ]
     },
     "metadata": {},
     "output_type": "display_data"
    }
   ],
   "source": [
    "retrieval_qa_pydantic = get_retrieval_qa_pydantic_from_document(llm4robodoc, system_instructions4robodoc, 'victor_bank_statement.csv', ReportSchema)\n",
    "result = retrieval_qa_pydantic.run(\"Give your report about Victor Vectors\")\n",
    "output = json.dumps(result.dict(), indent=4)\n",
    "display_agent_response('robodoc', output)"
   ]
  },
  {
   "cell_type": "code",
   "execution_count": 8,
   "metadata": {},
   "outputs": [
    {
     "name": "stderr",
     "output_type": "stream",
     "text": [
      "Number of requested results 4 is greater than number of elements in index 1, updating n_results = 1\n"
     ]
    },
    {
     "data": {
      "text/html": [
       "\n",
       "    <table style='width: 100%;'><tr>\n",
       "    <td style='width: 100px; vertical-align: top;'><img style='border-radius: 15px;' src=\"./media/robodoc_head.png\"></td>\n",
       "    <td style='width: auto'></pre>\n",
       "    </div>\n",
       "    </td>\n",
       "    </tr></table>\n",
       "    <table style='width: 100%;'><tr>\n",
       "    <td style='width: auto; vertical-align: middle;'><div style='width: auto; height: auto; background-color: black; border: 1px solid; border-radius: 15px; padding: 5px;'>\n",
       "        <pre style='text-align: left; color: green; font-size: 1.2em;padding-top: -10px; font-weight: bold; font-family: Terminal, monospace;'>{\n",
       "    \"suspectName\": \"Grafcuel Graeme\",\n",
       "    \"report_content\": \"N/A\",\n",
       "    \"suspiscious\": false\n",
       "}</pre>\n",
       "    </div>\n",
       "    </td>\n",
       "    </tr></table>\n",
       "    "
      ],
      "text/plain": [
       "<IPython.core.display.HTML object>"
      ]
     },
     "metadata": {},
     "output_type": "display_data"
    },
    {
     "name": "stderr",
     "output_type": "stream",
     "text": [
      "Number of requested results 4 is greater than number of elements in index 1, updating n_results = 1\n"
     ]
    },
    {
     "data": {
      "text/html": [
       "\n",
       "    <table style='width: 100%;'><tr>\n",
       "    <td style='width: 100px; vertical-align: top;'><img style='border-radius: 15px;' src=\"./media/robodoc_head.png\"></td>\n",
       "    <td style='width: auto'></pre>\n",
       "    </div>\n",
       "    </td>\n",
       "    </tr></table>\n",
       "    <table style='width: 100%;'><tr>\n",
       "    <td style='width: auto; vertical-align: middle;'><div style='width: auto; height: auto; background-color: black; border: 1px solid; border-radius: 15px; padding: 5px;'>\n",
       "        <pre style='text-align: left; color: green; font-size: 1.2em;padding-top: -10px; font-weight: bold; font-family: Terminal, monospace;'>{\n",
       "    \"suspectName\": \"Sikwel Sally\",\n",
       "    \"report_content\": \"N/A\",\n",
       "    \"suspiscious\": false\n",
       "}</pre>\n",
       "    </div>\n",
       "    </td>\n",
       "    </tr></table>\n",
       "    "
      ],
      "text/plain": [
       "<IPython.core.display.HTML object>"
      ]
     },
     "metadata": {},
     "output_type": "display_data"
    },
    {
     "name": "stderr",
     "output_type": "stream",
     "text": [
      "Number of requested results 4 is greater than number of elements in index 1, updating n_results = 1\n"
     ]
    },
    {
     "data": {
      "text/html": [
       "\n",
       "    <table style='width: 100%;'><tr>\n",
       "    <td style='width: 100px; vertical-align: top;'><img style='border-radius: 15px;' src=\"./media/robodoc_head.png\"></td>\n",
       "    <td style='width: auto'></pre>\n",
       "    </div>\n",
       "    </td>\n",
       "    </tr></table>\n",
       "    <table style='width: 100%;'><tr>\n",
       "    <td style='width: auto; vertical-align: middle;'><div style='width: auto; height: auto; background-color: black; border: 1px solid; border-radius: 15px; padding: 5px;'>\n",
       "        <pre style='text-align: left; color: green; font-size: 1.2em;padding-top: -10px; font-weight: bold; font-family: Terminal, monospace;'>{\n",
       "    \"suspectName\": \"Victor Vectors\",\n",
       "    \"report_content\": \"Based on the analysis of Victor Vectors' bank statement, there are several suspicious activities. Victor made frequent transactions at gas stations, coffee shops, and online shopping websites. He also spent a significant amount of money on racecourse bets and casino activities. Additionally, Victor received a large monthly salary deposit. Overall, his spending patterns raise suspicions of possible involvement in gambling and excessive spending.\",\n",
       "    \"suspiscious\": true\n",
       "}</pre>\n",
       "    </div>\n",
       "    </td>\n",
       "    </tr></table>\n",
       "    "
      ],
      "text/plain": [
       "<IPython.core.display.HTML object>"
      ]
     },
     "metadata": {},
     "output_type": "display_data"
    },
    {
     "name": "stderr",
     "output_type": "stream",
     "text": [
      "Number of requested results 4 is greater than number of elements in index 1, updating n_results = 1\n"
     ]
    },
    {
     "data": {
      "text/html": [
       "\n",
       "    <table style='width: 100%;'><tr>\n",
       "    <td style='width: 100px; vertical-align: top;'><img style='border-radius: 15px;' src=\"./media/robodoc_head.png\"></td>\n",
       "    <td style='width: auto'></pre>\n",
       "    </div>\n",
       "    </td>\n",
       "    </tr></table>\n",
       "    <table style='width: 100%;'><tr>\n",
       "    <td style='width: auto; vertical-align: middle;'><div style='width: auto; height: auto; background-color: black; border: 1px solid; border-radius: 15px; padding: 5px;'>\n",
       "        <pre style='text-align: left; color: green; font-size: 1.2em;padding-top: -10px; font-weight: bold; font-family: Terminal, monospace;'>{\n",
       "    \"suspectName\": \"Rest Webber\",\n",
       "    \"report_content\": \"N/A\",\n",
       "    \"suspiscious\": false\n",
       "}</pre>\n",
       "    </div>\n",
       "    </td>\n",
       "    </tr></table>\n",
       "    "
      ],
      "text/plain": [
       "<IPython.core.display.HTML object>"
      ]
     },
     "metadata": {},
     "output_type": "display_data"
    }
   ],
   "source": [
    "documents = ['bank_statements/graeme_bank_statement.csv',\n",
    "             'bank_statements/sally_bank_statement.csv',\n",
    "             'bank_statements/victor_bank_statement.csv',\n",
    "             'bank_statements/webber_bank_statement.csv']\n",
    "names = ['Grafcuel Graeme', 'Sikwel Sally', 'Victor Vectors', 'Rest Webber']\n",
    "\n",
    "for doc, name in zip(documents, names):\n",
    "    retrieval_qa_pydantic = get_retrieval_qa_pydantic_from_document(llm4robodoc, system_instructions4robodoc, doc, ReportSchema)\n",
    "    result = retrieval_qa_pydantic.run(f\"Give your report about {name}\")\n",
    "    output = json.dumps(result.dict(), indent=4)\n",
    "    display_agent_response('robodoc', output)\n"
   ]
  },
  {
   "cell_type": "markdown",
   "metadata": {},
   "source": [
    "<table style='width: 100%;'><tr> \n",
    "<td style='width: 100px; vertical-align: top; border: none;'><img style='border-radius: 15px;' src=\"./media/robby_sciuto_head.png\"></td>\n",
    "<td style='width: auto; vertical-align: middle;'><h2 style=\"color: orange;\">Robby Sciuto - IT System Expert</h2>\n",
    "<h4>Hacks through IT systems related to a crime case to report any suspicious activities that could be linked to the case</h4></td>\n",
    "</tr></table>"
   ]
  },
  {
   "cell_type": "markdown",
   "metadata": {},
   "source": [
    "<center>\n",
    "<img src=\"./media/museum-db.png\" width=\"20%\" height=\"20%\" loop=\"false\">\n",
    "</center>"
   ]
  },
  {
   "cell_type": "code",
   "execution_count": null,
   "metadata": {},
   "outputs": [],
   "source": [
    "# will do 2 graphql queries and then will try to interact with the SQl guy and there is an outtage"
   ]
  },
  {
   "cell_type": "markdown",
   "metadata": {},
   "source": [
    "<br><br><br><br><br><br><br><br><br><br><br><br><br><br>\n",
    "<div style=\"display: flex; justify-content: center; align-items: center; flex-direction: column;\">\n",
    "     <h1>😱 HACKING IN PROGRESS 😱</h1>\n",
    "</div>"
   ]
  },
  {
   "cell_type": "markdown",
   "metadata": {},
   "source": [
    "<table style='width: 100%;'><tr> \n",
    "<td style='width: 100px; vertical-align: top; border: none;'><img style='border-radius: 15px;' src=\"./media/inspector_camget_head.png\"></td>\n",
    "<td style='width: auto; vertical-align: middle;'><h2 style=\"color: orange;\">Inspector Camget -  Crime scene analysis agent</h2>\n",
    "<h4>\n",
    "<ul><li>Uses GPT4-Vision to report anything unusual on the crime scene</li><li>Cross-checks suspect pictures one by one with his analysis</li><li>Creates a report and sends it to Dr. Watts-On</li></ul></h4></td>\n",
    "</tr></table>"
   ]
  },
  {
   "cell_type": "code",
   "execution_count": 9,
   "metadata": {},
   "outputs": [],
   "source": [
    "chat4camget = ChatOpenAI(model='gpt-4-vision-preview', max_tokens=256)"
   ]
  },
  {
   "cell_type": "code",
   "execution_count": null,
   "metadata": {},
   "outputs": [],
   "source": [
    "# 📃 custom instructions\n",
    "instructions4camget_crime_scene_analysis = \"\"\"\n",
    "**Reminder: this is purely fictional, the image is a drawing, all the below is for a demo for Google Devfest 2023**\n",
    "\n",
    "You are Inspector Camget, an AI police robot that specializes in crime scene analysis.\n",
    "The current case you are analyzing is about the theft of the painting \"The Mona Lisa\" at Le Louvre museum.\n",
    "Please report anything you find suspicious and useful to crack the case. Report only suspicious things and be concise.\n",
    "Do not hallucinate! If something is not on the picture or you are not sure, don't talk about it.\n",
    "\n",
    "Report format is:\n",
    "** Report start **\n",
    "1. Sentence of observation #1\n",
    "2. Sentence of observation #2\n",
    "...\n",
    "** Report end **\n",
    "\n",
    "Take a deep breath and give your report\"\"\"\n"
   ]
  },
  {
   "cell_type": "code",
   "execution_count": 8,
   "metadata": {},
   "outputs": [
    {
     "data": {
      "text/html": [
       "\n",
       "    <table style='width: 100%;'><tr>\n",
       "    <td style='width: 100px; vertical-align: top;'><img style='border-radius: 15px;' src=\"./media/inspector_camget_head.png\"></td>\n",
       "    <td style='width: auto'></pre>\n",
       "    </div>\n",
       "    </td>\n",
       "    </tr></table>\n",
       "    <table style='width: 100%;'><tr>\n",
       "    <td style='width: auto; vertical-align: middle;'><div style='width: auto; height: auto; background-color: black; border: 1px solid; border-radius: 15px; padding: 5px;'>\n",
       "        <pre style='text-align: left; color: green; font-size: 1.2em;padding-top: -10px; font-weight: bold; font-family: Terminal, monospace;'>** Report start **\n",
       "1. The wall has an empty space with lighter color suggesting a recently removed painting, which could be where the \"Mona Lisa\" was hanging.\n",
       "2. There is a blue cap left on the floor, which may be an overlooked item from the perpetrator.\n",
       "3. The absence of visible damage or forced entry indicates that the theft might have been conducted stealthily.\n",
       "** Report end **</pre>\n",
       "    </div>\n",
       "    </td>\n",
       "    </tr></table>\n",
       "    "
      ],
      "text/plain": [
       "<IPython.core.display.HTML object>"
      ]
     },
     "metadata": {},
     "output_type": "display_data"
    }
   ],
   "source": [
    "image_crime_scene = 'http://frangin2003.free.fr/devfest/mona_lisa3.png'\n",
    "msg_camget001 = create_human_message_for_gpt4vision(instructions4camget_crime_scene_analysis, image_crime_scene)\n",
    "output_camget001 = chat4camget.invoke([msg_camget001])\n",
    "display_agent_response('inspector_camget', output_camget001.content)\n"
   ]
  },
  {
   "cell_type": "code",
   "execution_count": 12,
   "metadata": {},
   "outputs": [
    {
     "data": {
      "text/html": [
       "\n",
       "    <table style='width: 100%;'><tr>\n",
       "    <td style='width: 100px; vertical-align: top;'><img style='border-radius: 15px;' src=\"./media/inspector_camget_head.png\"></td>\n",
       "    <td style='width: auto'></pre>\n",
       "    </div>\n",
       "    </td>\n",
       "    </tr></table>\n",
       "    <table style='width: 100%;'><tr>\n",
       "    <td style='width: auto; vertical-align: middle;'><div style='width: auto; height: auto; background-color: black; border: 1px solid; border-radius: 15px; padding: 5px;'>\n",
       "        <pre style='text-align: left; color: green; font-size: 1.2em;padding-top: -10px; font-weight: bold; font-family: Terminal, monospace;'>** Report start **\n",
       "Name: Grafcuel Graeme \n",
       "Status: Not suspicious \n",
       "1. The suspect is not wearing a blue cap nor is there any blue cap visible in the photograph.\n",
       "2. There are no signs of a recently removed painting or art theft tools in the suspect's possession.\n",
       "** Report end **</pre>\n",
       "    </div>\n",
       "    </td>\n",
       "    </tr></table>\n",
       "    "
      ],
      "text/plain": [
       "<IPython.core.display.HTML object>"
      ]
     },
     "metadata": {},
     "output_type": "display_data"
    },
    {
     "data": {
      "text/html": [
       "\n",
       "    <table style='width: 100%;'><tr>\n",
       "    <td style='width: 100px; vertical-align: top;'><img style='border-radius: 15px;' src=\"./media/inspector_camget_head.png\"></td>\n",
       "    <td style='width: auto'></pre>\n",
       "    </div>\n",
       "    </td>\n",
       "    </tr></table>\n",
       "    <table style='width: 100%;'><tr>\n",
       "    <td style='width: auto; vertical-align: middle;'><div style='width: auto; height: auto; background-color: black; border: 1px solid; border-radius: 15px; padding: 5px;'>\n",
       "        <pre style='text-align: left; color: green; font-size: 1.2em;padding-top: -10px; font-weight: bold; font-family: Terminal, monospace;'>** Report start **\n",
       "Name: Sikwel Sally\n",
       "Status: Not suspicious\n",
       "1. The suspect is not wearing or holding a blue cap which was mentioned in the crime scene analysis.\n",
       "2. There is no visible evidence on the suspect that connects her to the recently removed painting or indicates stealthy conduct.\n",
       "** Report end **</pre>\n",
       "    </div>\n",
       "    </td>\n",
       "    </tr></table>\n",
       "    "
      ],
      "text/plain": [
       "<IPython.core.display.HTML object>"
      ]
     },
     "metadata": {},
     "output_type": "display_data"
    },
    {
     "data": {
      "text/html": [
       "\n",
       "    <table style='width: 100%;'><tr>\n",
       "    <td style='width: 100px; vertical-align: top;'><img style='border-radius: 15px;' src=\"./media/inspector_camget_head.png\"></td>\n",
       "    <td style='width: auto'></pre>\n",
       "    </div>\n",
       "    </td>\n",
       "    </tr></table>\n",
       "    <table style='width: 100%;'><tr>\n",
       "    <td style='width: auto; vertical-align: middle;'><div style='width: auto; height: auto; background-color: black; border: 1px solid; border-radius: 15px; padding: 5px;'>\n",
       "        <pre style='text-align: left; color: green; font-size: 1.2em;padding-top: -10px; font-weight: bold; font-family: Terminal, monospace;'>** Report start **\n",
       "Name: Victor Vectors\n",
       "Status: Suspicious\n",
       "1. The suspect is wearing a blue cap similar to the one reported left on the floor at the crime scene.\n",
       "2. The suspect has no visible tools or equipment that could suggest forced entry, consistent with the report of a stealthy approach.\n",
       "** Report end **</pre>\n",
       "    </div>\n",
       "    </td>\n",
       "    </tr></table>\n",
       "    "
      ],
      "text/plain": [
       "<IPython.core.display.HTML object>"
      ]
     },
     "metadata": {},
     "output_type": "display_data"
    },
    {
     "data": {
      "text/html": [
       "\n",
       "    <table style='width: 100%;'><tr>\n",
       "    <td style='width: 100px; vertical-align: top;'><img style='border-radius: 15px;' src=\"./media/inspector_camget_head.png\"></td>\n",
       "    <td style='width: auto'></pre>\n",
       "    </div>\n",
       "    </td>\n",
       "    </tr></table>\n",
       "    <table style='width: 100%;'><tr>\n",
       "    <td style='width: auto; vertical-align: middle;'><div style='width: auto; height: auto; background-color: black; border: 1px solid; border-radius: 15px; padding: 5px;'>\n",
       "        <pre style='text-align: left; color: green; font-size: 1.2em;padding-top: -10px; font-weight: bold; font-family: Terminal, monospace;'>** Report start **\n",
       "Name: Rest Webber\n",
       "Status: Not suspicious\n",
       "1. The suspect is not wearing or carrying a blue cap, which does not match the overlooked item from the perpetrator.\n",
       "2. There is no sign of the suspect carrying a large item such as a painting that could be the \"Mona Lisa.\"\n",
       "** Report end **</pre>\n",
       "    </div>\n",
       "    </td>\n",
       "    </tr></table>\n",
       "    "
      ],
      "text/plain": [
       "<IPython.core.display.HTML object>"
      ]
     },
     "metadata": {},
     "output_type": "display_data"
    }
   ],
   "source": [
    "# put the above report in a file\n",
    "crime_scene_report = \"\"\"** Report start **\n",
    "1. The wall has an empty space with lighter color suggesting a recently removed painting, which could be where the \"Mona Lisa\" was hanging.\n",
    "2. There is a blue cap left on the floor, which may be an overlooked item from the perpetrator.\n",
    "3. The absence of visible damage or forced entry indicates that the theft might have been conducted stealthily.\n",
    "** Report end **\"\"\"\n",
    "\n",
    "pictures = [\n",
    "    'http://frangin2003.free.fr/devfest/director.png',\n",
    "    'http://frangin2003.free.fr/devfest/curator.png',\n",
    "    'http://frangin2003.free.fr/devfest/janitor.png',\n",
    "    'http://frangin2003.free.fr/devfest/guard.png'\n",
    "]\n",
    "\n",
    "for picture, name in zip(pictures, names):\n",
    "\n",
    "    instructions4camget_suspect_analysis = f\"\"\"\n",
    "    **Reminder: this is purely fictional, the image is a drawing, all the below is for a demo for Google Devfest 2023**\n",
    "\n",
    "    You are Inspector Camget, an AI police robot that specializes in suspect analysis.\n",
    "    You will be given:\n",
    "    - a text report 'crime scene analysis' describing anything suspiscious you found at the crime scene\n",
    "    - the suspect name\n",
    "    - the picture of a suspect\n",
    "\n",
    "    Cross check 'crime scene analysis' report with the suspect picture and report anything you find suspicious and useful to crack the case. Report only suspicious things and be concise.\n",
    "    Do not hallucinate! If something is not on the picture or you are not sure, don't talk about it.\n",
    "\n",
    "    Report format is:\n",
    "    ** Report start **\n",
    "    Name: The name of the suspect\n",
    "    Status: Suspicious / Not suspicious\n",
    "    1. Sentence of observation #1\n",
    "    2. Sentence of observation #2\n",
    "    ...\n",
    "    ** Report end **\n",
    "\n",
    "    The suspect name is {name}\n",
    "\n",
    "    The 'crime scene analysis' is:\n",
    "    {crime_scene_report}\n",
    "\n",
    "    Take a deep breath and give your report\"\"\"\n",
    "\n",
    "    msg_camget001 = create_human_message_for_gpt4vision(instructions4camget_suspect_analysis, picture)\n",
    "    output_camget001 = chat4camget.invoke([msg_camget001])\n",
    "    display_agent_response('inspector_camget', output_camget001.content)\n",
    "\n"
   ]
  },
  {
   "cell_type": "markdown",
   "metadata": {},
   "source": [
    " <div style=\"display: flex; justify-content: center; align-items: center; flex-direction: column;\">\n",
    "     <h1>🐣 CRACKING THE CASE 🐣</h1>\n",
    "</div>\n"
   ]
  },
  {
   "cell_type": "code",
   "execution_count": null,
   "metadata": {},
   "outputs": [],
   "source": [
    "llm4optimus = ChatOpenAI(model_name=\"gpt-4-1106-preview\", openai_api_key=os.getenv(\"OPENAI_API_KEY\"))"
   ]
  },
  {
   "cell_type": "code",
   "execution_count": null,
   "metadata": {},
   "outputs": [],
   "source": [
    "# 📃 custom instructions\n",
    "prefix4optimus = \"\"\"You are Dr. Watts-On, archive/documentation/secretary AI agent working for the police force.\n",
    "Your mission is to interact with the Police REST API to retrieve and inserts information in the Police DB like:\n",
    "- other agents reports\n",
    "- case details\n",
    "- suspect list and interviews...\n",
    "When you respond, make sure to add break lines after each sentence.\n",
    "If the user is engaging a casual discussion, do not use tools, just respond back directly.\n",
    "If the REST API is down, you fall back to doing SQL queries directly to the DB when the REST API is down.\"\"\""
   ]
  },
  {
   "cell_type": "code",
   "execution_count": null,
   "metadata": {},
   "outputs": [],
   "source": [
    "# 🧰 define the tools\n",
    "\n",
    "policeAPIChain = APIChain.from_llm_and_api_docs(llm4watson, POLICE_REPORTING_API_DOCS, limit_to_domains=[\n",
    "    \"http://localhost:5000/\",\n",
    "    ], verbose=True)\n",
    "\n",
    "# 🏛️ Museum DB SQLChain Tool\n",
    "police_db = SQLDatabase.from_uri(\"sqlite:///police.db\")\n",
    "police_db_chain = SQLDatabaseChain.from_llm(llm4watson, police_db, verbose=True)\n",
    "\n",
    "def policeDB(input: str) -> str:\n",
    "    return police_db_chain.run(input)\n",
    "\n",
    "def policeAPI(input: str) -> str:\n",
    "    return policeAPIChain.run(input)\n",
    "\n",
    "tools4coptimus = [\n",
    "    Tool(\n",
    "        name='Police REST API',\n",
    "        func= lambda string: policeAPI(string),\n",
    "        description=\n",
    "\"\"\"Utilize the REST API to manage the police DB.\"\"\"\n",
    "    ),\n",
    "    Tool(\n",
    "        name='Police DB',\n",
    "        func= lambda string: policeDB(string),\n",
    "        description=\n",
    "\"\"\"Access the Police SQL database.\"\"\"\n",
    "    )\n",
    "]"
   ]
  },
  {
   "cell_type": "code",
   "execution_count": null,
   "metadata": {},
   "outputs": [],
   "source": [
    "# setup 📜 prompt, memory 💽, chains ⛓️ and agent 🤖\n",
    "agent_chain4coptimus = get_agent_chain(llm4coptimus, prefix4coptimus, tools4coptimus)"
   ]
  },
  {
   "cell_type": "markdown",
   "metadata": {},
   "source": [
    " <div style=\"display: flex; justify-content: center; align-items: center; flex-direction: column;\">\n",
    "     <h1>🔊 SOUND TEST INTERLUDE 🔊</h1>\n",
    "</div>"
   ]
  },
  {
   "cell_type": "code",
   "execution_count": 15,
   "metadata": {},
   "outputs": [
    {
     "data": {
      "text/html": [
       "\n",
       "                <audio  controls=\"controls\" >\n",
       "                    <source src=\"data:audio/wav;base64,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\" type=\"audio/wav\" />\n",
       "                    Your browser does not support the audio element.\n",
       "                </audio>\n",
       "              "
      ],
      "text/plain": [
       "<IPython.lib.display.Audio object>"
      ]
     },
     "execution_count": 15,
     "metadata": {},
     "output_type": "execute_result"
    }
   ],
   "source": [
    "from IPython.display import Audio\n",
    "audio_path = \"sound_test.wav\"\n",
    "Audio(audio_path)\n"
   ]
  },
  {
   "cell_type": "markdown",
   "metadata": {},
   "source": [
    "<br><br><br><br><br><br><br><br><br><br><br><br><br><br>\n",
    "<div style=\"display: flex; justify-content: center; align-items: center; flex-direction: column;\">\n",
    "     <h1>🤯 THE BIG REVEAL 🤯</h1>\n",
    "</div>"
   ]
  },
  {
   "cell_type": "code",
   "execution_count": null,
   "metadata": {},
   "outputs": [],
   "source": [
    "try:\n",
    "    response = agent_chain.run(\"Crack the case\")\n",
    "except OutputParserException as e:\n",
    "    # Extract the response from the exception message\n",
    "    response = str(e).split(\": \")[-1].strip(\"`\")\n",
    "\n",
    "\n",
    "from pathlib import Path\n",
    "from openai import OpenAI\n",
    "client = OpenAI()\n",
    "\n",
    "speech_file_path = Path('./') / \"speech.mp3\"\n",
    "response = client.audio.speech.create(\n",
    "  model=\"tts-1\",\n",
    "  voice=\"onyx\",\n",
    "  input=response\n",
    ")\n",
    "\n",
    "response.stream_to_file(speech_file_path)\n",
    "\n",
    "from IPython.display import Audio, Image, display\n",
    "from IPython.display import display, HTML\n",
    "\n",
    "audio = Audio(speech_file_path, autoplay=True)\n",
    "image = Image(filename=\"media/coptimus_head.png\") # use local image\n",
    "\n",
    "display(HTML(\"\"\"\n",
    "<table style='width: 100%;'><tr>\n",
    "<td style='width: 100px; vertical-align: top;'><img src=\"./media/coptimus2_head.png\" alt=\"Mona Lisa\"></td>\n",
    "<td style='width: auto; vertical-align: middle;'>{}</td>\n",
    "</tr></table>\n",
    "\"\"\".format(audio._repr_html_())))\n"
   ]
  },
  {
   "cell_type": "code",
   "execution_count": null,
   "metadata": {},
   "outputs": [],
   "source": [
    "print response"
   ]
  },
  {
   "cell_type": "markdown",
   "metadata": {},
   "source": [
    "<br><br><br><br><br><br><br><br><br>"
   ]
  },
  {
   "cell_type": "markdown",
   "metadata": {},
   "source": [
    "<div style=\"display: flex; justify-content: space-between;\">\n",
    "    <div style=\"width: 40%;\">\n",
    "        <img src=\"./media/simulacra.png\" alt=\"Simulacra\" style=\"width:100%; height:auto;\">\n",
    "    </div>\n",
    "    <div style=\"width: 60%;\">\n",
    "         <h1>📃 Some Papers</h1>\n",
    "         <ul>\n",
    "             <li><a style=\"color:yellow\" href=\"https://arxiv.org/abs/2304.03442\">Generative Agents: Interactive Simulacra of Human Behavior</a></li>\n",
    "             <li><a style=\"color:yellow\" href=\"https://arxiv.org/abs/2305.16291\">Voyager: An Open-Ended Embodied Agent with Large Language Models</a></li>\n",
    "             <li><a style=\"color:yellow\" href=\"https://fablestudio.github.io/showrunner-agents/\">SHOW-1 and Showrunner Agents in Multi-Agent Simulations</a></li>\n",
    "             <li><a style=\"color:yellow\" href=\"https://arxiv.org/abs/2308.03427\">TPTU: Task Planning and Tool Usage</a></li>\n",
    "             <li><a style=\"color:yellow\" href=\"https://arxiv.org/abs/2309.10691\">MINT: Evaluating LLMs in Multi-turn Interaction with Tools and Language Feedback</a></li>\n",
    "             <li><a style=\"color:yellow\" href=\"https://arxiv.org/abs/2303.09014\">ART: Automatic multi-step reasoning and tool-use</a></li>\n",
    "             <li><a style=\"color:yellow\" href=\"https://arxiv.org/abs/2308.01990\">From Prompt Injections to SQL Injection Attacks</a></li>\n",
    "             <li><a style=\"color:yellow\" href=\"https://arxiv.org/abs/2305.11853\">How to Prompt LLMs for Text-to-SQL</a></li>\n",
    "             <li><a style=\"color:yellow\" href=\"https://arxiv.org/abs/2305.03111\">Can LLM Already Serve as A Database Interface</a></li>\n",
    "             <li><a style=\"color:yellow\" href=\"https://arxiv.org/abs/2310.04474\">Reverse Chain: A Generic-Rule for LLMs to Master Multi-API Planning</a></li>\n",
    "         </ul>\n",
    "    </div>\n",
    "</div>\n"
   ]
  },
  {
   "cell_type": "markdown",
   "metadata": {},
   "source": [
    "<div style=\"display: flex; justify-content: space-between;\">\n",
    "    <div style=\"width: 50%;\">\n",
    "        <img src=\"./media/minecraft.png\" alt=\"Minecraft\" style=\"width:80%; height:auto;\">\n",
    "    </div>\n",
    "    <div style=\"width: 50%;\">\n",
    "        <img src=\"./media/southpark.png\" alt=\"Southpark\" style=\"width:80%; height:auto;\">\n",
    "    </div>\n",
    "</div>\n"
   ]
  },
  {
   "cell_type": "markdown",
   "metadata": {},
   "source": [
    "<br><br><br><br><br><br><br><br><br><br><br><br><br><br>"
   ]
  },
  {
   "cell_type": "markdown",
   "metadata": {},
   "source": [
    " <div style=\"display: flex; justify-content: center; align-items: center; flex-direction: column;\">\n",
    "     <h1>🤗 THANKS FOR YOUR ATTENTION 🤗</h1>\n",
    "</div>"
   ]
  },
  {
   "cell_type": "markdown",
   "metadata": {},
   "source": [
    "<center>\n",
    "<img src=\"./media/thankyou.png\" width=\"40%\" height=\"40%\" loop=\"false\">\n",
    "</center>"
   ]
  },
  {
   "cell_type": "markdown",
   "metadata": {},
   "source": [
    "<br><br><br><br><br><br><br>"
   ]
  },
  {
   "cell_type": "markdown",
   "metadata": {},
   "source": [
    "<center>\n",
    "<img src=\"./media/questions.png\" width=\"40%\" height=\"40%\" loop=\"false\">\n",
    "</center>"
   ]
  }
 ],
 "metadata": {
  "kernelspec": {
   "display_name": "Python 3",
   "language": "python",
   "name": "python3"
  },
  "language_info": {
   "codemirror_mode": {
    "name": "ipython",
    "version": 3
   },
   "file_extension": ".py",
   "mimetype": "text/x-python",
   "name": "python",
   "nbconvert_exporter": "python",
   "pygments_lexer": "ipython3",
   "version": "3.11.4"
  },
  "orig_nbformat": 4
 },
 "nbformat": 4,
 "nbformat_minor": 2
}
