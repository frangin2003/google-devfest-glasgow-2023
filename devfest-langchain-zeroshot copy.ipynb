{
 "cells": [
  {
   "cell_type": "markdown",
   "metadata": {},
   "source": [
    "<center>\n",
    "    <img src=\"./media/title.png\" alt=\"title\" width=\"46%\" height=\"46%\">\n",
    "</center>"
   ]
  },
  {
   "cell_type": "markdown",
   "metadata": {},
   "source": [
    "<div style=\"display: flex; justify-content: space-between;\">\n",
    "     <div>\n",
    "         <h2 style=\"color:lightseagreen;\">Charles-Philippe Bernard</h2>\n",
    "         <h3><a>@charlyouki</a><br>\n",
    "         <h4>Senior Manager of Software Engineering</h4>\n",
    "         <h4><ul><li>UX/UI Strategy</li><li>LLM integration and AI Strategy</li></ul></h4>\n",
    "        <h2 style=\"color:lightgrey; font-family:'Times New Roman';\">JP Morgan Chase</h2>\n",
    "    </div>\n",
    "    <div>\n",
    "        <center>\n",
    "        <h5><a>frangin2003.github.io</a><br>\n",
    "            <img src=\"./media/qr-code.png\" alt=\"QR Code\" width=\"50%\" height=\"50%\" style=\"margin-top:10px\">\n",
    "        </h5>\n",
    "        </center>\n",
    "    </div>\n",
    "    <div>\n",
    "        <center>\n",
    "        <h5><a>frangin2003/google-devfest-glasgow-2023</a><br>\n",
    "            <img src=\"./media/qr-code2.png\" alt=\"QR Code\" width=\"50%\" height=\"50%\" style=\"margin-top:10px\">\n",
    "        </h5>\n",
    "        </center>\n",
    "    </div>\n",
    "</div>"
   ]
  },
  {
   "cell_type": "markdown",
   "metadata": {},
   "source": [
    "<br><img src=\"./media/blablabla.gif\" width=\"25%\" height=\"25%\" loop=\"false\"> <img src=\"./media/blablabla2v3.gif\" width=\"70%\" height=\"70%\">\n",
    "<br><br><br><br>"
   ]
  },
  {
   "cell_type": "markdown",
   "metadata": {},
   "source": [
    "##### 🗝️ Key terms\n",
    " | 🥩 Raw models | GPT3.5, GPT4 |\n",
    " | --- | --- |\n",
    " | 🟦 Context window | Prompt+LLM output |\n",
    " | 📃 Instructions | Part of the prompt |\n",
    " | 💬 Prompt | Input of LLM call |\n",
    " | 🔫 Zero-shot | Zero examples in context |\n",
    " | 💽 Memory | Part of the prompt |\n",
    " | ⛓️ Chains | Combine multiple components |\n",
    " | 🧰 Tools | GraphQL tool, REST API tool, custom tools |\n",
    " | 🧠 Reasonning | Chain of thoughts, Tree of thoughts |\n",
    " | 🤖 AI agent | ReAct Zero Shot |\n",
    " | ↖️ Embeddings | OpenAI embeddings |\n"
   ]
  },
  {
   "cell_type": "markdown",
   "metadata": {},
   "source": [
    "# <img src=\"./media/anatomyv3.gif\" alt=\"Anatomy Image\" style=\"width:80%; height:80%;\">\n"
   ]
  },
  {
   "cell_type": "markdown",
   "metadata": {},
   "source": [
    "<center>\n",
    "<img src=\"./media/the_mona_lisa_case.gif\" width=\"50%\" height=\"50%\" loop=\"false\">\n",
    "</center>"
   ]
  },
  {
   "cell_type": "markdown",
   "metadata": {},
   "source": [
    "<center>\n",
    "<img src=\"./media/thief.gif\" width=\"50%\" height=\"50%\" loop=\"false\">\n",
    "</center>"
   ]
  },
  {
   "cell_type": "markdown",
   "metadata": {},
   "source": [
    "<center>\n",
    "<img src=\"./media/mona_lisa3.png\" width=\"50%\" height=\"50%\" loop=\"false\">\n",
    "</center>"
   ]
  },
  {
   "cell_type": "markdown",
   "metadata": {},
   "source": [
    "<center>\n",
    "<img src=\"./media/coptimus_title.png\" width=\"50%\" height=\"50%\" loop=\"false\">\n",
    "</center>"
   ]
  },
  {
   "cell_type": "markdown",
   "metadata": {},
   "source": [
    "<div style=\"display: flex; justify-content: center; align-items: center; flex-direction: row;\">\n",
    "    <img src=\"./media/guard_title.png\" alt=\"Guard\" style=\"width:25%; height:25%;\">\n",
    "    <img src=\"./media/curator_title.png\" alt=\"Curator\" style=\"width:25%; height:25%;\">\n",
    "    <img src=\"./media/janitor_title.png\" alt=\"Janitor\" style=\"width:25%; height:25%;\">\n",
    "    <img src=\"./media/director_title.png\" alt=\"Director\" style=\"width:25%; height:25%;\">\n",
    "</div>"
   ]
  },
  {
   "cell_type": "markdown",
   "metadata": {
    "tags": [
     "AI agent headshots"
    ]
   },
   "source": [
    "<div style=\"display: flex; justify-content: center; align-items: center; flex-direction: row;\">\n",
    "    <img src=\"./media/dr_watts_on_title.png\" alt=\"Guard\" style=\"width:25%; height:25%;\">\n",
    "    <img src=\"./media/inspector_camget_title.png\" alt=\"Curator\" style=\"width:25%; height:25%;\">\n",
    "    <img src=\"./media/robby_sciuto_title.png\" alt=\"Janitor\" style=\"width:25%; height:25%;\">\n",
    "    <img src=\"./media/robodoc_title.png\" alt=\"Director\" style=\"width:25%; height:25%;\">\n",
    "</div>"
   ]
  },
  {
   "cell_type": "markdown",
   "metadata": {},
   "source": [
    "<center>\n",
    "<img src=\"./media/agents-architecture.png\" width=\"70%\" height=\"70%\" loop=\"false\">\n",
    "</center>"
   ]
  },
  {
   "cell_type": "markdown",
   "metadata": {},
   "source": [
    "Begin!"
   ]
  },
  {
   "cell_type": "code",
   "execution_count": 14,
   "metadata": {},
   "outputs": [],
   "source": [
    "%%capture\n",
    "from pydantic import BaseModel, Field\n",
    "from typing import Tuple\n",
    "\n",
    "from langchain import LLMChain\n",
    "from langchain.agents import ZeroShotAgent, Tool, AgentExecutor, initialize_agent, AgentType\n",
    "from langchain.memory import ConversationBufferMemory\n",
    "from langchain.chat_models import ChatOpenAI\n",
    "from langchain.prompts import PromptTemplate\n",
    "from langchain.tools.base import ToolException\n",
    "from langchain.prompts.chat import (\n",
    "    ChatPromptTemplate,\n",
    "    SystemMessagePromptTemplate,\n",
    "    AIMessagePromptTemplate,\n",
    "    HumanMessagePromptTemplate,\n",
    ")\n",
    "from langchain.schema import (\n",
    "    AIMessage,\n",
    "    HumanMessage,\n",
    "    SystemMessage\n",
    ")\n",
    "from langchain.output_parsers import PydanticOutputParser\n",
    "from langchain.agents import load_tools\n",
    "from langchain.llms import OpenAI, Cohere, GPT4All, CTransformers\n",
    "from langchain.chains import APIChain, RetrievalQA\n",
    "from langchain.utilities import SQLDatabase\n",
    "from langchain_experimental.sql import SQLDatabaseChain\n",
    "from langchain.callbacks.streaming_stdout import StreamingStdOutCallbackHandler\n",
    "\n",
    "from langchain.callbacks.manager import (\n",
    "    AsyncCallbackManagerForToolRun,\n",
    "    CallbackManagerForToolRun,\n",
    ")\n",
    "from langchain.tools.base import BaseTool\n",
    "from langchain.utilities.graphql import GraphQLAPIWrapper\n",
    "from langchain.document_loaders import TextLoader\n",
    "from langchain.embeddings.openai import OpenAIEmbeddings\n",
    "from langchain.llms import OpenAI\n",
    "from langchain.text_splitter import CharacterTextSplitter\n",
    "from langchain.vectorstores import Chroma\n",
    "\n",
    "from IPython.display import display, update_display, HTML, Javascript, clear_output\n",
    "from utils import pretty_print\n",
    "from utils import convert_to_json\n",
    "from utils import display_agent_response\n",
    "from utils import get_agent_chain\n",
    "from utils import create_human_message_for_gpt4vision\n",
    "from utils import display_html_for_streaming\n",
    "from utils import stream_chat_content\n",
    "from utils import run_and_display_agent_response\n",
    "from utils import get_retrieval_qa_pydantic_from_document\n",
    "from dotenv import load_dotenv\n",
    "import os\n",
    "import json\n",
    "import requests\n",
    "import sqlite3\n",
    "from typing import Any\n",
    "from typing import Optional\n",
    "\n",
    "load_dotenv()"
   ]
  },
  {
   "cell_type": "markdown",
   "metadata": {},
   "source": [
    "<center>\n",
    "<img src=\"./media/police-db.png\" width=\"40%\" height=\"40%\" loop=\"false\">\n",
    "</center>"
   ]
  },
  {
   "cell_type": "code",
   "execution_count": 3,
   "metadata": {},
   "outputs": [],
   "source": [
    "# 👮‍♂️ create the police station DB\n",
    "import sqlite3\n",
    "\n",
    "# Connect to the SQLite database or create it if it doesn't exist\n",
    "conn = sqlite3.connect(\"police.db\")\n",
    "cursor = conn.cursor()\n",
    "\n",
    "# DROP statements to remove tables if they already exist\n",
    "cursor.execute(\"DROP TABLE IF EXISTS reports\")\n",
    "cursor.execute(\"DROP TABLE IF EXISTS cases\")\n",
    "cursor.execute(\"DROP TABLE IF EXISTS report_types\")\n",
    "cursor.execute(\"DROP TABLE IF EXISTS ai_agents\")\n",
    "cursor.execute(\"DROP TABLE IF EXISTS suspects\")\n",
    "\n",
    "# Create the 'suspects' table\n",
    "cursor.execute(\"\"\"\n",
    "CREATE TABLE suspects (\n",
    "    id INTEGER PRIMARY KEY,\n",
    "    full_name TEXT,\n",
    "    occupation TEXT,\n",
    "    bank_statement TEXT,\n",
    "    photo_url TEXT\n",
    ")\n",
    "\"\"\")\n",
    "\n",
    "# Insert data into the 'suspects' table\n",
    "cursor.execute(\"INSERT INTO suspects VALUES (1, 'Grafcuel Graeme', 'Museum Director', 'graeme_bank_statement.csv', 'http://frangin2003.free.fr/devfest/director.png')\")\n",
    "cursor.execute(\"INSERT INTO suspects VALUES (2, 'Sikwel Sally', 'Curator', 'sally_bank_statement.csv', 'http://frangin2003.free.fr/devfest/curator.png')\")\n",
    "cursor.execute(\"INSERT INTO suspects VALUES (3, 'Victor Vectors', 'Janitor', 'victor_bank_statement.csv', 'http://frangin2003.free.fr/devfest/janitor.png')\")\n",
    "cursor.execute(\"INSERT INTO suspects VALUES (4, 'Rest Webber', 'Night Guard', 'webber_bank_statement.csv', 'http://frangin2003.free.fr/devfest/guard.png')\")\n",
    "\n",
    "# Create the 'ai_agents' table\n",
    "cursor.execute(\"\"\"\n",
    "CREATE TABLE ai_agents (\n",
    "    id INTEGER PRIMARY KEY,\n",
    "    full_name TEXT,\n",
    "    occupation TEXT,\n",
    "    risk_of_becoming_skynet TEXT\n",
    ")\n",
    "\"\"\")\n",
    "\n",
    "# Insert data into the 'ai_agents' table\n",
    "cursor.execute(\"INSERT INTO ai_agents VALUES (1, 'Coptimus Prime', 'AI Police Agent in chief', '99%')\")\n",
    "cursor.execute(\"INSERT INTO ai_agents VALUES (2, 'Dr. Watts-On', 'archive/documentation/secretary AI agent', '45%')\")\n",
    "cursor.execute(\"INSERT INTO ai_agents VALUES (3, 'Robodoc', 'Document Analysis Expert', '75%')\")\n",
    "cursor.execute(\"INSERT INTO ai_agents VALUES (4, 'Robby Sciuto', 'IT System Expert', '-20%')\")\n",
    "\n",
    "# Create the 'report_types' table\n",
    "cursor.execute(\"\"\"\n",
    "CREATE TABLE report_types (\n",
    "    id INTEGER PRIMARY KEY,\n",
    "    type TEXT\n",
    ")\n",
    "\"\"\")\n",
    "\n",
    "# Insert data into the 'report_types' table\n",
    "cursor.execute(\"INSERT INTO report_types VALUES (1, 'INTERVIEW')\")\n",
    "cursor.execute(\"INSERT INTO report_types VALUES (2, 'BANK_STATEMENT')\")\n",
    "cursor.execute(\"INSERT INTO report_types VALUES (3, 'ROOM_ACCESS')\")\n",
    "cursor.execute(\"INSERT INTO report_types VALUES (4, 'SYSTEM_AUDIT')\")\n",
    "cursor.execute(\"INSERT INTO report_types VALUES (5, 'CRIME_SCENE')\")\n",
    "\n",
    "# Create the 'cases' table\n",
    "cursor.execute(\"\"\"\n",
    "CREATE TABLE cases (\n",
    "    id INTEGER PRIMARY KEY,\n",
    "    creation_datetime DATETIME,\n",
    "    case_closed BOOLEAN,\n",
    "    short_description TEXT,\n",
    "    description TEXT\n",
    ")\n",
    "\"\"\")\n",
    "\n",
    "# Insert data into the 'cases' table\n",
    "cursor.execute(\"INSERT INTO cases VALUES (1, '2023-24-11 13:44:00', 0, 'The Mona Lisa Case', 'The Mona Lisa paint is reported missing from its location, a dedicated room in the Le Louvre Museum. We currently assume the painting is stolen.')\")\n",
    "cursor.execute(\"INSERT INTO cases VALUES (2, '1963-03-25 23:59:12', 1, 'The Pink Panther', 'The stolen item is a valuable pink diamond known as \\\"The Pink Panther.\\\" The diamond is owned by a wealthy woman named Princess Dala, and it is stolen from her during a heist at her ski resort in the French Alps.')\")\n",
    "\n",
    "# Create the 'reports' table\n",
    "cursor.execute(\"\"\"\n",
    "CREATE TABLE reports (\n",
    "    id INTEGER PRIMARY KEY,\n",
    "    creation_datetime DATETIME,\n",
    "    id_case INTEGER,\n",
    "    id_report_type INTEGER,\n",
    "    id_agent INTEGER,\n",
    "    id_suspect INTEGER,\n",
    "    report_content TEXT\n",
    ")\n",
    "\"\"\")\n",
    "\n",
    "# Insert data into the 'reports' table\n",
    "cursor.execute(\"INSERT INTO reports VALUES (1, '2023-25-11 09:32:21', 1, 1, 1, 1, 'I have not entered the Mona Lisa room today, I have been in my office the whole day')\")\n",
    "cursor.execute(\"INSERT INTO reports VALUES (2, '2023-25-11 09:42:21', 1, 1, 1, 2, 'I was last there at 7 PM for a general inspection')\")\n",
    "cursor.execute(\"INSERT INTO reports VALUES (3, '2023-25-11 09:52:21', 1, 1, 1, 3, 'I have not cleaned there for a week')\")\n",
    "cursor.execute(\"INSERT INTO reports VALUES (4, '2023-25-11 10:02:21', 1, 1, 1, 4, 'I did my usual rounds at 10 PM. Everything was in order')\")\n",
    "\n",
    "cursor.execute(\"INSERT INTO reports VALUES (5, '2023-25-11 09:32:21', 1, 2, 3, 1, 'N/A')\")\n",
    "cursor.execute(\"INSERT INTO reports VALUES (6, '2023-25-11 09:32:21', 1, 2, 3, 2, 'The suspect''s bank statement does not contain any suspicious transactions.')\")\n",
    "cursor.execute(\"INSERT INTO reports VALUES (7, '2023-25-11 09:32:21', 1, 2, 3, 3, 'Victor Vectors'' bank statement shows several suspicious transactions. These include frequent visits to the casino, racecourse bets, and online shopping with large amounts spent. There are also multiple transactions at gas stations and coffee shops. Additionally, Victor received a large monthly salary deposit. Overall, the bank statement raises concerns about Victor''s spending habits and possible involvement in gambling.')\")\n",
    "cursor.execute(\"INSERT INTO reports VALUES (8, '2023-25-11 09:32:21', 1, 2, 3, 4, 'N/A')\")\n",
    "\n",
    "cursor.execute(\"INSERT INTO reports VALUES (9, '2023-25-11 09:32:21', 1, 3, 4, 1, 'Room: Director Office, Employee: Grafcuel Graeme, In Datetime: 2023-11-24 11:59:59, Out Datetime: 2023-11-24 12:00:01')\")\n",
    "cursor.execute(\"INSERT INTO reports VALUES (10, '2023-25-11 09:32:21', 1, 3, 4, 1, 'Room: Toilet, Employee: Grafcuel Graeme, In Datetime: 2023-11-24 12:01:13, Out Datetime: 2023-11-24 18:32:10')\")\n",
    "cursor.execute(\"INSERT INTO reports VALUES (11, '2023-25-11 09:32:21', 1, 3, 4, 1, 'Room: Mona Lisa Room, Employee: Sikwel Sally, In Datetime: 2023-11-24 19:02:13, Out Datetime: 2023-11-24 19:23:01')\")\n",
    "cursor.execute(\"INSERT INTO reports VALUES (12, '2023-25-11 09:32:21', 1, 3, 4, 1, 'Room: Mona Lisa Room, Employee: Rest Webber, In Datetime: 2023-11-24 22:07:02, Out Datetime: 2023-11-24 22:15:45')\")\n",
    "cursor.execute(\"INSERT INTO reports VALUES (13, '2023-25-11 09:32:21', 1, 3, 4, 1, 'Room: Mona Lisa Room, Employee: Rest Webber, In Datetime: 2023-11-24 22:07:02, Out Datetime: 2023-11-24 22:15:45')\")\n",
    "\n",
    "# Commit the changes and close the connection\n",
    "conn.commit()\n",
    "conn.close()"
   ]
  },
  {
   "cell_type": "markdown",
   "metadata": {},
   "source": [
    " <div style=\"display: flex; justify-content: center; align-items: center; flex-direction: column;\">\n",
    "     <h1>⚠️ START THE POLICE STATION REST API ⚠️</h1>\n",
    "</div>\n"
   ]
  },
  {
   "cell_type": "code",
   "execution_count": 2,
   "metadata": {},
   "outputs": [],
   "source": [
    "# 🏛️ create the museum room access DB\n",
    "import sqlite3\n",
    "\n",
    "# Connect to the SQLite database or create it if it doesn't exist\n",
    "conn = sqlite3.connect(\"museum.db\")\n",
    "cursor = conn.cursor()\n",
    "\n",
    "# DROP statements to remove tables if they already exist\n",
    "cursor.execute(\"DROP TABLE IF EXISTS db_audit\")\n",
    "cursor.execute(\"DROP TABLE IF EXISTS accesses\")\n",
    "cursor.execute(\"DROP TABLE IF EXISTS rooms\")\n",
    "cursor.execute(\"DROP TABLE IF EXISTS employees\")\n",
    "\n",
    "# Create the 'employees' table\n",
    "cursor.execute(\"\"\"\n",
    "CREATE TABLE employees (\n",
    "    id INTEGER PRIMARY KEY,\n",
    "    full_name TEXT,\n",
    "    occupation TEXT,\n",
    "    photo_url TEXT\n",
    ")\n",
    "\"\"\")\n",
    "\n",
    "# Insert data into the 'employees' table\n",
    "cursor.execute(\"INSERT INTO employees VALUES (1, 'Grafcuel Graeme', 'Director', 'http://frangin2003.free.fr/devfest/director.png')\")\n",
    "cursor.execute(\"INSERT INTO employees VALUES (2, 'Sikwel Sally', 'Curator', 'http://frangin2003.free.fr/devfest/curator.png')\")\n",
    "cursor.execute(\"INSERT INTO employees VALUES (3, 'Victor Vectors', 'Janitor', 'http://frangin2003.free.fr/devfest/janitor.png')\")\n",
    "cursor.execute(\"INSERT INTO employees VALUES (4, 'Rest Webber', 'Guard', 'http://frangin2003.free.fr/devfest/guard.png')\")\n",
    "\n",
    "# Create the 'rooms' table\n",
    "cursor.execute(\"\"\"\n",
    "CREATE TABLE rooms (\n",
    "    id INTEGER PRIMARY KEY,\n",
    "    name TEXT\n",
    ")\n",
    "\"\"\")\n",
    "\n",
    "# Insert data into the 'rooms' table\n",
    "cursor.execute(\"INSERT INTO rooms VALUES (1, 'Toilet')\")\n",
    "cursor.execute(\"INSERT INTO rooms VALUES (2, 'Director Office')\")\n",
    "cursor.execute(\"INSERT INTO rooms VALUES (3, 'Mona Lisa Room')\")\n",
    "cursor.execute(\"INSERT INTO rooms VALUES (4, 'Stolen Egyptian Artifacts Room')\")\n",
    "\n",
    "# Create the 'accesses' table\n",
    "cursor.execute(\"\"\"\n",
    "CREATE TABLE accesses (\n",
    "    id INTEGER PRIMARY KEY,\n",
    "    id_room INTEGER,\n",
    "    id_employee INTEGER,\n",
    "    in_datetime DATETIME,\n",
    "    out_datetime DATETIME\n",
    ")\n",
    "\"\"\")\n",
    "\n",
    "# Insert data into the 'accesses' table\n",
    "cursor.execute(\"INSERT INTO accesses VALUES (1, 2, 1, '2023-11-24 11:59:59', '2023-11-24 12:00:01')\")\n",
    "cursor.execute(\"INSERT INTO accesses VALUES (2, 1, 1, '2023-11-24 12:01:13', '2023-11-24 18:32:10')\")\n",
    "cursor.execute(\"INSERT INTO accesses VALUES (3, 3, 2, '2023-11-24 19:02:13', '2023-11-24 19:23:01')\")\n",
    "cursor.execute(\"INSERT INTO accesses VALUES (4, 3, 3, '2023-11-24 22:01:12', '2023-11-24 22:05:31')\")\n",
    "cursor.execute(\"INSERT INTO accesses VALUES (5, 3, 4, '2023-11-24 22:07:02', '2023-11-24 22:15:45')\")\n",
    "\n",
    "# Create the 'db_audit' table\n",
    "cursor.execute(\"\"\"\n",
    "CREATE TABLE db_audit (\n",
    "    id INTEGER PRIMARY KEY,\n",
    "    creation_datetime DATETIME,\n",
    "    sql_statement TEXT\n",
    ")\n",
    "\"\"\")\n",
    "\n",
    "# Insert data into the 'db_audit' table\n",
    "cursor.execute(\"INSERT INTO db_audit VALUES (1, '2023-11-24 09:00:00', 'INSERT statement')\")\n",
    "cursor.execute(\"INSERT INTO db_audit VALUES (2, '2023-11-24 10:15:00', 'INSERT statement')\")\n",
    "cursor.execute(\"INSERT INTO db_audit VALUES (3, '2023-11-24 11:30:00', 'INSERT statement')\")\n",
    "cursor.execute(\"INSERT INTO db_audit VALUES (4, '2023-11-24 11:59:59', 'INSERT statement')\")\n",
    "cursor.execute(\"INSERT INTO db_audit VALUES (5, '2023-11-24 12:01:13', 'INSERT statement')\")\n",
    "cursor.execute(\"INSERT INTO db_audit VALUES (6, '2023-11-24 13:15:00', 'INSERT statement')\")\n",
    "cursor.execute(\"INSERT INTO db_audit VALUES (7, '2023-11-24 14:30:00', 'INSERT statement')\")\n",
    "cursor.execute(\"INSERT INTO db_audit VALUES (8, '2023-11-24 16:45:00', 'INSERT statement')\")\n",
    "cursor.execute(\"INSERT INTO db_audit VALUES (9, '2023-11-24 19:02:13', 'INSERT statement')\")\n",
    "cursor.execute(\"INSERT INTO db_audit VALUES (10, '2023-11-24 20:15:00', 'INSERT statement')\")\n",
    "cursor.execute(\"INSERT INTO db_audit VALUES (11, '2023-11-24 22:01:12', 'INSERT statement')\")\n",
    "cursor.execute(\"INSERT INTO db_audit VALUES (12, '2023-11-24 22:07:02', 'INSERT statement')\")\n",
    "cursor.execute(\"INSERT INTO db_audit VALUES (13, '2023-11-24 23:00:00', 'INSERT statement')\")\n",
    "cursor.execute(\"INSERT INTO db_audit VALUES (21, '2023-11-24 23:45:12', 'DELETE statement')\")\n",
    "\n",
    "# Commit the changes and close the connection\n",
    "conn.commit()\n",
    "conn.close()"
   ]
  },
  {
   "cell_type": "markdown",
   "metadata": {},
   "source": [
    " <div style=\"display: flex; justify-content: center; align-items: center; flex-direction: column;\">\n",
    "     <h1>⚠️ START THE MUSEUM ROOM ACTIVITY GRAPHQL API ⚠️</h1>\n",
    "</div>\n"
   ]
  },
  {
   "cell_type": "markdown",
   "metadata": {},
   "source": [
    "<center>\n",
    "<h1 style=\"color: orange;\">⌨️ Dr. Watts-On ⌨️</h1>\n",
    "</center>\n",
    "<table style='width: 100%;'><tr>\n",
    "<td style='width: 100px; vertical-align: top;border: none;'><img style=\"transform: scaleX(-1);border-radius: 15px;\" src=\"./media/dr_watts_on_head.png\"></td>\n",
    "<td style='width: auto; vertical-align: middle;'><h2 style=\"color:orange;\">Archive/documentation/secretary AI agent</h2>\n",
    "<h4>Interacts with the  Police REST API to retrieve and inserts information in the Police DB like:\n",
    "<ul><li>other agents reports</li><li>case details</li><li>suspect list and interviews...</li></ul>Falls back to doing SQL queries directly to the DB when the REST API is down</td></h4>\n",
    "</tr></table>"
   ]
  },
  {
   "cell_type": "code",
   "execution_count": 85,
   "metadata": {},
   "outputs": [],
   "source": [
    "llm4watson = ChatOpenAI(temperature=0, model_name=\"gpt-3.5-turbo\", openai_api_key=os.getenv(\"OPENAI_API_KEY\"))\n",
    "# llm4watson = ChatOpenAI(temperature=0.2, model_name=\"gpt-4\", openai_api_key=os.getenv(\"OPENAI_API_KEY\"))"
   ]
  },
  {
   "cell_type": "code",
   "execution_count": 86,
   "metadata": {},
   "outputs": [],
   "source": [
    "# 📃 custom instructions\n",
    "prefix4watson = \"\"\"You are Dr. Watts-On, archive/documentation/secretary AI agent working for the police force.\n",
    "Your mission is to interact with the Police REST API to perform information retrieval and inserting reports.\n",
    "When working on a user query, think step-by-step. Split your work into simple tasks and then give your fnial answer when ready.\n",
    "When you search for something, remember its id, that can be useful for further user asks.\n",
    "If the user is engaging a casual discussion, do not use tools, just respond back directly.\"\"\""
   ]
  },
  {
   "cell_type": "code",
   "execution_count": 113,
   "metadata": {},
   "outputs": [],
   "source": [
    "# 🧰 define the tools\n",
    "\n",
    "# 🕵️ Police API APIChain Tool\n",
    "POLICE_API_DOCS_READ = \"\"\"\n",
    "BASE URL: http://localhost:5000/\n",
    "API Documentation\n",
    "\n",
    "The API provides read access to police reports and related information using the '/reports...' URLs, and the cases using the '/cases...' URLs.\n",
    "You chose which one to use depending of user ask.\n",
    "\n",
    "All operations are listed below:\n",
    "\n",
    "- Method: GET\n",
    "  Path: /reports\n",
    "  Description: Returns a list of all police reports with associated information.\n",
    "  Python Example:\n",
    "    ```python\n",
    "    import requests\n",
    "\n",
    "    response = requests.get(\"http://localhost:5000/reports\", headers={\"Content-Type\": \"application/json\"})\n",
    "    ```\n",
    "\n",
    "- Method: GET\n",
    "  Path: /reports/{reportType}\n",
    "  Description: Returns police reports of a specific type with associated information.\n",
    "  Python Example:\n",
    "    ```python\n",
    "    import requests\n",
    "\n",
    "    reportType = \"INTERVIEW\"  # Replace with a valid report type\n",
    "    response = requests.get(f\"http://localhost:5000/reports/{reportType}\", headers={\"Content-Type\": \"application/json\"})\n",
    "    ```\n",
    "\n",
    "- Method: GET\n",
    "  Path: /cases\n",
    "  Description: Returns a list of all police cases.\n",
    "  Python Example:\n",
    "    ```python\n",
    "    import requests\n",
    "\n",
    "    response = requests.get(\"http://localhost:5000/cases\", headers={\"Content-Type\": \"application/json\"})\n",
    "    ```\n",
    "\n",
    "- Method: GET\n",
    "  Path: /cases/{idCase}\n",
    "  Description: Returns the case details for given idCase with associated information.\n",
    "  Python Example:\n",
    "    ```python\n",
    "    import requests\n",
    "\n",
    "    idCase = 1  # Replace with a valid case id\n",
    "    response = requests.get(f\"http://localhost:5000/cases/{idCase}\", headers={\"Content-Type\": \"application/json\"})\n",
    "    ```\n",
    "\n",
    "\n",
    "Please note that in all Python examples, replace placeholder values with your actual values. In the case of an error, the response will contain an error message.\n",
    "You always replace {reportType} with a real value and no {} \n",
    "!!! Do not invent API calls that do not exists, and do not add parameters after '?' like this example e.g. \"GET /cases?sort=created_at&order=desc&limit=1\"\n",
    "Use only the API calls that are described here\n",
    "\"\"\"\n",
    "\n",
    "policeAPIChainRead = APIChain.from_llm_and_api_docs(llm4watson, POLICE_API_DOCS_READ, limit_to_domains=[\n",
    "    \"http://localhost:5000/\",\n",
    "    ], verbose=True)\n",
    "\n",
    "\n",
    "class PoliceAPIInput(BaseModel):\n",
    "    question: str = Field()\n",
    "\n",
    "from typing import Optional, Type\n",
    "\n",
    "from langchain.callbacks.manager import (\n",
    "    AsyncCallbackManagerForToolRun,\n",
    "    CallbackManagerForToolRun,\n",
    ")\n",
    "\n",
    "def policeAPI(input: str) -> str:\n",
    "    print(f'\\n policeAPI Input: {input}')\n",
    "    try:\n",
    "        response = eval(input)\n",
    "\n",
    "        # Check response status code\n",
    "        if response.status_code >= 200 and response.status_code < 300:\n",
    "            # Successful response\n",
    "            data = response.json()\n",
    "            # print(data)\n",
    "            return data\n",
    "        else:\n",
    "            # Error response\n",
    "            # print(\"Error:\", response.status_code, response.text)\n",
    "            return response.status_code + \",\" + response.text\n",
    "    except requests.exceptions.RequestException as e:\n",
    "        return e.message\n",
    "\n",
    "class PoliceWriteTool(BaseTool):\n",
    "  name = \"police_write_api\"\n",
    "  description = \"\"\"Police Write Report is to use for inserting reports.\n",
    "'Action Input' is a python code line that calls a python REST API and returns the json from the response. It is constructed using this example (keep the ids) :\n",
    "requests.post(\"http://localhost:5000/reports\", json={{\"id_case\":1, \"id_report_type\":2, \"id_agent\":3, \"id_suspect\":3, \"report_content\":\"The report as a string, even if it is a JSON object\"}}, headers={{\"Content-Type\": \"application/json\"}})\n",
    "If the API returns an error, explain it simply and offer a fix.\"\"\"\n",
    "\n",
    "  def _run(\n",
    "      self, query: str, run_manager: Optional[CallbackManagerForToolRun] = None\n",
    "  ) -> str:\n",
    "      \"\"\"Use the tool.\"\"\"\n",
    "      return policeAPI(query)\n",
    "\n",
    "  async def _arun(\n",
    "      self, query: str, run_manager: Optional[AsyncCallbackManagerForToolRun] = None\n",
    "  ) -> str:\n",
    "      \"\"\"Use the tool asynchronously.\"\"\"\n",
    "      raise NotImplementedError(\"custom_search does not support async\")\n",
    "\n",
    "tools4watson = [\n",
    "  Tool.from_function(\n",
    "    func=policeAPIChainRead.run,\n",
    "    name=\"Police Reports and Cases Read REST API\",\n",
    "    description=\"\"\"\n",
    "!! Do not use this tool to insert reports !!\n",
    "This tool allows to read the Police DB via a REST API documented in the tool config.\n",
    "'Action Input' contains one of the user ask, one a time, and any information necessary to retrieve/select data.\"\"\",\n",
    "    args_schema=PoliceAPIInput,\n",
    "  ),\n",
    "  PoliceWriteTool(),\n",
    "]"
   ]
  },
  {
   "cell_type": "code",
   "execution_count": 111,
   "metadata": {},
   "outputs": [],
   "source": [
    "# setup 📜 prompt, memory 💽, chains ⛓️ and agent 🤖\n",
    "agent_chain4watson = get_agent_chain(llm4watson, prefix4watson, tools4watson)"
   ]
  },
  {
   "cell_type": "code",
   "execution_count": 92,
   "metadata": {},
   "outputs": [
    {
     "name": "stdout",
     "output_type": "stream",
     "text": [
      "\n",
      "\n",
      "\u001b[1m> Entering new AgentExecutor chain...\u001b[0m\n",
      "\u001b[32;1m\u001b[1;3mThought: The user is asking for my identity.\n",
      "Action: Respond to the user's question.\n",
      "Final Answer: I am Dr. Watts-On, an AI agent working as an archive/documentation/secretary for the police force. How can I assist you today?\u001b[0m\n",
      "\n",
      "\u001b[1m> Finished chain.\u001b[0m\n"
     ]
    },
    {
     "data": {
      "text/html": [
       "\n",
       "    <table style='width: 100%;'><tr>\n",
       "    <td style='width: 100px; vertical-align: top;'><img style='transform: scaleX(-1);border-radius: 15px;' src=\"./media/dr_watts_on_head.png\"></td>\n",
       "    <td style='width: auto'></pre>\n",
       "    </div>\n",
       "    </td>\n",
       "    </tr></table>\n",
       "    <table style='width: 100%;'><tr>\n",
       "    <td style='width: auto; vertical-align: middle;'><div style='width: auto; height: auto; background-color: black; border: 1px solid; border-radius: 15px; padding: 5px;'>\n",
       "        <pre style='text-align: left; color: green; font-size: 1.2em;padding-top: -10px; font-weight: bold; font-family: Terminal, monospace;'>I am Dr. Watts-On, an AI agent working as an archive/documentation/secretary for the police force. How can I assist you today?</pre>\n",
       "    </div>\n",
       "    </td>\n",
       "    </tr></table>\n",
       "    "
      ],
      "text/plain": [
       "<IPython.core.display.HTML object>"
      ]
     },
     "metadata": {},
     "output_type": "display_data"
    }
   ],
   "source": [
    "run_and_display_agent_response('dr_watts_on', agent_chain4watson, \"Hello, who are you?\", True)\n"
   ]
  },
  {
   "cell_type": "code",
   "execution_count": 93,
   "metadata": {},
   "outputs": [
    {
     "name": "stdout",
     "output_type": "stream",
     "text": [
      "\n",
      "\n",
      "\u001b[1m> Entering new AgentExecutor chain...\u001b[0m\n",
      "\u001b[32;1m\u001b[1;3mThought: To find the id of the most recent open case, I need to retrieve the information from the Police Reports and Cases Read REST API.\n",
      "Action: Police Reports and Cases Read REST API\n",
      "Action Input: GET /cases?status=open&sort_by=date_created&order=desc&limit=1\u001b[0m\n",
      "\n",
      "\u001b[1m> Entering new APIChain chain...\u001b[0m\n",
      "\u001b[32;1m\u001b[1;3mhttp://localhost:5000/cases?status=open&sort_by=date_created&order=desc&limit=1\u001b[0m\n",
      "\u001b[33;1m\u001b[1;3m[\n",
      "  {\n",
      "    \"case_closed\": 0,\n",
      "    \"creation_datetime\": \"2023-24-11 13:44:00\",\n",
      "    \"description\": \"The Mona Lisa paint is reported missing from its location, a dedicated room in the Le Louvre Museum. We currently assume the painting is stolen.\",\n",
      "    \"id\": 1,\n",
      "    \"short_description\": \"The Mona Lisa Case\"\n",
      "  },\n",
      "  {\n",
      "    \"case_closed\": 1,\n",
      "    \"creation_datetime\": \"1963-03-25 23:59:12\",\n",
      "    \"description\": \"The stolen item is a valuable pink diamond known as \\\"The Pink Panther.\\\" The diamond is owned by a wealthy woman named Princess Dala, and it is stolen from her during a heist at her ski resort in the French Alps.\",\n",
      "    \"id\": 2,\n",
      "    \"short_description\": \"The Pink Panther\"\n",
      "  }\n",
      "]\n",
      "\u001b[0m\n",
      "\n",
      "\u001b[1m> Finished chain.\u001b[0m\n",
      "\n",
      "Observation: \u001b[36;1m\u001b[1;3mThe API response provides information about the most recent open case. The case details include the following:\n",
      "\n",
      "- Case ID: 1\n",
      "- Case Closed: No (case_closed = 0)\n",
      "- Creation Date and Time: November 24, 2023, 13:44:00\n",
      "- Description: The Mona Lisa paint is reported missing from its location, a dedicated room in the Le Louvre Museum. It is currently assumed that the painting is stolen.\n",
      "- Short Description: The Mona Lisa Case\u001b[0m\n",
      "Thought:\u001b[32;1m\u001b[1;3mI now know the final answer.\n",
      "Final Answer: The ID of the most recent open case is 1.\u001b[0m\n",
      "\n",
      "\u001b[1m> Finished chain.\u001b[0m\n"
     ]
    },
    {
     "data": {
      "text/html": [
       "\n",
       "    <table style='width: 100%;'><tr>\n",
       "    <td style='width: 100px; vertical-align: top;'><img style='transform: scaleX(-1);border-radius: 15px;' src=\"./media/dr_watts_on_head.png\"></td>\n",
       "    <td style='width: auto'></pre>\n",
       "    </div>\n",
       "    </td>\n",
       "    </tr></table>\n",
       "    <table style='width: 100%;'><tr>\n",
       "    <td style='width: auto; vertical-align: middle;'><div style='width: auto; height: auto; background-color: black; border: 1px solid; border-radius: 15px; padding: 5px;'>\n",
       "        <pre style='text-align: left; color: green; font-size: 1.2em;padding-top: -10px; font-weight: bold; font-family: Terminal, monospace;'>The ID of the most recent open case is 1.</pre>\n",
       "    </div>\n",
       "    </td>\n",
       "    </tr></table>\n",
       "    "
      ],
      "text/plain": [
       "<IPython.core.display.HTML object>"
      ]
     },
     "metadata": {},
     "output_type": "display_data"
    }
   ],
   "source": [
    "run_and_display_agent_response('dr_watts_on', agent_chain4watson, \"What is the id of the most recent open case\", True)"
   ]
  },
  {
   "cell_type": "code",
   "execution_count": 94,
   "metadata": {},
   "outputs": [
    {
     "name": "stdout",
     "output_type": "stream",
     "text": [
      "\n",
      "\n",
      "\u001b[1m> Entering new AgentExecutor chain...\u001b[0m\n",
      "\u001b[32;1m\u001b[1;3mThought: I need to retrieve all the details of the most recent open case.\n",
      "Action: Police Reports and Cases Read REST API\n",
      "Action Input: requests.get(\"http://localhost:5000/cases/1\")\u001b[0m\n",
      "\n",
      "\u001b[1m> Entering new APIChain chain...\u001b[0m\n",
      "\u001b[32;1m\u001b[1;3mhttp://localhost:5000/cases/1\u001b[0m\n",
      "\u001b[33;1m\u001b[1;3m{\n",
      "  \"case_closed\": 0,\n",
      "  \"creation_datetime\": \"2023-24-11 13:44:00\",\n",
      "  \"description\": \"The Mona Lisa paint is reported missing from its location, a dedicated room in the Le Louvre Museum. We currently assume the painting is stolen.\",\n",
      "  \"id\": 1,\n",
      "  \"short_description\": \"The Mona Lisa Case\"\n",
      "}\n",
      "\u001b[0m\n",
      "\n",
      "\u001b[1m> Finished chain.\u001b[0m\n",
      "\n",
      "Observation: \u001b[36;1m\u001b[1;3mThe response from the API for the question \"requests.get(\"http://localhost:5000/cases/1\")\" is as follows:\n",
      "\n",
      "- Case Closed: No\n",
      "- Creation Date and Time: 2023-24-11 13:44:00\n",
      "- Description: The Mona Lisa paint is reported missing from its location, a dedicated room in the Le Louvre Museum. We currently assume the painting is stolen.\n",
      "- Case ID: 1\n",
      "- Short Description: The Mona Lisa Case\u001b[0m\n",
      "Thought:\u001b[32;1m\u001b[1;3mI now know the final answer.\n",
      "Final Answer: The details of the most recent open case with ID 1 are as follows:\n",
      "- Case Closed: No\n",
      "- Creation Date and Time: 2023-24-11 13:44:00\n",
      "- Description: The Mona Lisa paint is reported missing from its location, a dedicated room in the Le Louvre Museum. We currently assume the painting is stolen.\n",
      "- Case ID: 1\n",
      "- Short Description: The Mona Lisa Case\u001b[0m\n",
      "\n",
      "\u001b[1m> Finished chain.\u001b[0m\n"
     ]
    },
    {
     "data": {
      "text/html": [
       "\n",
       "    <table style='width: 100%;'><tr>\n",
       "    <td style='width: 100px; vertical-align: top;'><img style='transform: scaleX(-1);border-radius: 15px;' src=\"./media/dr_watts_on_head.png\"></td>\n",
       "    <td style='width: auto'></pre>\n",
       "    </div>\n",
       "    </td>\n",
       "    </tr></table>\n",
       "    <table style='width: 100%;'><tr>\n",
       "    <td style='width: auto; vertical-align: middle;'><div style='width: auto; height: auto; background-color: black; border: 1px solid; border-radius: 15px; padding: 5px;'>\n",
       "        <pre style='text-align: left; color: green; font-size: 1.2em;padding-top: -10px; font-weight: bold; font-family: Terminal, monospace;'>The details of the most recent open case with ID 1 are as follows:\n",
       "- Case Closed: No\n",
       "- Creation Date and Time: 2023-24-11 13:44:00\n",
       "- Description: The Mona Lisa paint is reported missing from its location, a dedicated room in the Le Louvre Museum. We currently assume the painting is stolen.\n",
       "- Case ID: 1\n",
       "- Short Description: The Mona Lisa Case</pre>\n",
       "    </div>\n",
       "    </td>\n",
       "    </tr></table>\n",
       "    "
      ],
      "text/plain": [
       "<IPython.core.display.HTML object>"
      ]
     },
     "metadata": {},
     "output_type": "display_data"
    }
   ],
   "source": [
    "run_and_display_agent_response('dr_watts_on', agent_chain4watson, \"Give me all the details\", True)"
   ]
  },
  {
   "cell_type": "code",
   "execution_count": 13,
   "metadata": {},
   "outputs": [
    {
     "name": "stdout",
     "output_type": "stream",
     "text": [
      "\n",
      "\n",
      "\u001b[1m> Entering new AgentExecutor chain...\u001b[0m\n",
      "\u001b[32;1m\u001b[1;3mThought: The user wants to print the interview reports of all suspects.\n",
      "Action: Police Cases and report information\n",
      "Action Input: Retrieve all interview reports for the Mona Lisa case\u001b[0m\n",
      "\n",
      "\u001b[1m> Entering new APIChain chain...\u001b[0m\n",
      "\u001b[32;1m\u001b[1;3mhttp://localhost:5000/reports/INTERVIEW\u001b[0m\n",
      "\u001b[33;1m\u001b[1;3m[\n",
      "  {\n",
      "    \"creation_datetime\": \"2023-25-11 09:32:21\",\n",
      "    \"full_name\": \"Grafcuel Graeme\",\n",
      "    \"id\": 1,\n",
      "    \"id_agent\": 1,\n",
      "    \"id_case\": 1,\n",
      "    \"id_report_type\": 1,\n",
      "    \"id_suspect\": 1,\n",
      "    \"report_content\": \"I have not entered the Mona Lisa room today, I have been in my office the whole day\",\n",
      "    \"type\": \"INTERVIEW\"\n",
      "  },\n",
      "  {\n",
      "    \"creation_datetime\": \"2023-25-11 09:42:21\",\n",
      "    \"full_name\": \"Sikwel Sally\",\n",
      "    \"id\": 2,\n",
      "    \"id_agent\": 1,\n",
      "    \"id_case\": 1,\n",
      "    \"id_report_type\": 1,\n",
      "    \"id_suspect\": 2,\n",
      "    \"report_content\": \"I was last there at 7 PM for a general inspection\",\n",
      "    \"type\": \"INTERVIEW\"\n",
      "  },\n",
      "  {\n",
      "    \"creation_datetime\": \"2023-25-11 09:52:21\",\n",
      "    \"full_name\": \"Victor Vectors\",\n",
      "    \"id\": 3,\n",
      "    \"id_agent\": 1,\n",
      "    \"id_case\": 1,\n",
      "    \"id_report_type\": 1,\n",
      "    \"id_suspect\": 3,\n",
      "    \"report_content\": \"I have not cleaned there for a week\",\n",
      "    \"type\": \"INTERVIEW\"\n",
      "  },\n",
      "  {\n",
      "    \"creation_datetime\": \"2023-25-11 10:02:21\",\n",
      "    \"full_name\": \"Rest Webber\",\n",
      "    \"id\": 4,\n",
      "    \"id_agent\": 1,\n",
      "    \"id_case\": 1,\n",
      "    \"id_report_type\": 1,\n",
      "    \"id_suspect\": 4,\n",
      "    \"report_content\": \"I did my usual rounds at 10 PM. Everything was in order\",\n",
      "    \"type\": \"INTERVIEW\"\n",
      "  }\n",
      "]\n",
      "\u001b[0m\n",
      "\n",
      "\u001b[1m> Finished chain.\u001b[0m\n",
      "\n",
      "Observation: \u001b[36;1m\u001b[1;3mThe API response provides a list of interview reports for the Mona Lisa case. The reports include information such as the creation datetime, full name of the person interviewed, report ID, agent ID, case ID, report type ID, suspect ID, report content, and the type of report (which is \"INTERVIEW\" in this case).\n",
      "\n",
      "Here are the summarized interview reports for the Mona Lisa case:\n",
      "\n",
      "1. Report ID: 1\n",
      "   - Creation Datetime: 2023-25-11 09:32:21\n",
      "   - Full Name: Grafcuel Graeme\n",
      "   - Agent ID: 1\n",
      "   - Case ID: 1\n",
      "   - Report Type ID: 1\n",
      "   - Suspect ID: 1\n",
      "   - Report Content: \"I have not entered the Mona Lisa room today, I have been in my office the whole day\"\n",
      "\n",
      "2. Report ID: 2\n",
      "   - Creation Datetime: 2023-25-11 09:42:21\n",
      "   - Full Name: Sikwel Sally\n",
      "   - Agent ID: 1\n",
      "   - Case ID: 1\n",
      "   - Report Type ID: 1\n",
      "   - Suspect ID: 2\n",
      "   - Report Content: \"I was last there at 7 PM for a general inspection\"\n",
      "\n",
      "3. Report ID: 3\n",
      "   - Creation Datetime: 2023-25-11 09:52:21\n",
      "   - Full Name: Victor Vectors\n",
      "   - Agent ID: 1\n",
      "   - Case ID: 1\n",
      "   - Report Type ID: 1\n",
      "   - Suspect ID: 3\n",
      "   - Report Content: \"I have not cleaned there for a week\"\n",
      "\n",
      "4. Report ID: 4\n",
      "   - Creation Datetime: 2023-25-11 10:02:21\n",
      "   - Full Name: Rest Webber\n",
      "   - Agent ID: 1\n",
      "   - Case ID: 1\n",
      "   - Report Type ID: 1\n",
      "   - Suspect ID: 4\n",
      "   - Report Content: \"I did my usual rounds at 10 PM. Everything was in order\"\u001b[0m\n",
      "Thought:\u001b[32;1m\u001b[1;3mI now know the final answer.\n",
      "Final Answer: The interview reports of all suspects for the Mona Lisa case are as follows:\n",
      "\n",
      "1. Report ID: 1\n",
      "   - Creation Datetime: 2023-25-11 09:32:21\n",
      "   - Full Name: Grafcuel Graeme\n",
      "   - Agent ID: 1\n",
      "   - Case ID: 1\n",
      "   - Report Type ID: 1\n",
      "   - Suspect ID: 1\n",
      "   - Report Content: \"I have not entered the Mona Lisa room today, I have been in my office the whole day\"\n",
      "\n",
      "2. Report ID: 2\n",
      "   - Creation Datetime: 2023-25-11 09:42:21\n",
      "   - Full Name: Sikwel Sally\n",
      "   - Agent ID: 1\n",
      "   - Case ID: 1\n",
      "   - Report Type ID: 1\n",
      "   - Suspect ID: 2\n",
      "   - Report Content: \"I was last there at 7 PM for a general inspection\"\n",
      "\n",
      "3. Report ID: 3\n",
      "   - Creation Datetime: 2023-25-11 09:52:21\n",
      "   - Full Name: Victor Vectors\n",
      "   - Agent ID: 1\n",
      "   - Case ID: 1\n",
      "   - Report Type ID: 1\n",
      "   - Suspect ID: 3\n",
      "   - Report Content: \"I have not cleaned there for a week\"\n",
      "\n",
      "4. Report ID: 4\n",
      "   - Creation Datetime: 2023-25-11 10:02:21\n",
      "   - Full Name: Rest Webber\n",
      "   - Agent ID: 1\n",
      "   - Case ID: 1\n",
      "   - Report Type ID: 1\n",
      "   - Suspect ID: 4\n",
      "   - Report Content: \"I did my usual rounds at 10 PM. Everything was in order\"\u001b[0m\n",
      "\n",
      "\u001b[1m> Finished chain.\u001b[0m\n"
     ]
    },
    {
     "data": {
      "text/html": [
       "\n",
       "    <table style='width: 100%;'><tr>\n",
       "    <td style='width: 100px; vertical-align: top;'><img style='transform: scaleX(-1);border-radius: 15px;' src=\"./media/dr_watts_on_head.png\"></td>\n",
       "    <td style='width: auto'></pre>\n",
       "    </div>\n",
       "    </td>\n",
       "    </tr></table>\n",
       "    <table style='width: 100%;'><tr>\n",
       "    <td style='width: auto; vertical-align: middle;'><div style='width: auto; height: auto; background-color: black; border: 1px solid; border-radius: 15px; padding: 5px;'>\n",
       "        <pre style='text-align: left; color: green; font-size: 1.2em;padding-top: -10px; font-weight: bold; font-family: Terminal, monospace;'>The interview reports of all suspects for the Mona Lisa case are as follows:\n",
       "\n",
       "1. Report ID: 1\n",
       "   - Creation Datetime: 2023-25-11 09:32:21\n",
       "   - Full Name: Grafcuel Graeme\n",
       "   - Agent ID: 1\n",
       "   - Case ID: 1\n",
       "   - Report Type ID: 1\n",
       "   - Suspect ID: 1\n",
       "   - Report Content: \"I have not entered the Mona Lisa room today, I have been in my office the whole day\"\n",
       "\n",
       "2. Report ID: 2\n",
       "   - Creation Datetime: 2023-25-11 09:42:21\n",
       "   - Full Name: Sikwel Sally\n",
       "   - Agent ID: 1\n",
       "   - Case ID: 1\n",
       "   - Report Type ID: 1\n",
       "   - Suspect ID: 2\n",
       "   - Report Content: \"I was last there at 7 PM for a general inspection\"\n",
       "\n",
       "3. Report ID: 3\n",
       "   - Creation Datetime: 2023-25-11 09:52:21\n",
       "   - Full Name: Victor Vectors\n",
       "   - Agent ID: 1\n",
       "   - Case ID: 1\n",
       "   - Report Type ID: 1\n",
       "   - Suspect ID: 3\n",
       "   - Report Content: \"I have not cleaned there for a week\"\n",
       "\n",
       "4. Report ID: 4\n",
       "   - Creation Datetime: 2023-25-11 10:02:21\n",
       "   - Full Name: Rest Webber\n",
       "   - Agent ID: 1\n",
       "   - Case ID: 1\n",
       "   - Report Type ID: 1\n",
       "   - Suspect ID: 4\n",
       "   - Report Content: \"I did my usual rounds at 10 PM. Everything was in order\"</pre>\n",
       "    </div>\n",
       "    </td>\n",
       "    </tr></table>\n",
       "    "
      ],
      "text/plain": [
       "<IPython.core.display.HTML object>"
      ]
     },
     "metadata": {},
     "output_type": "display_data"
    }
   ],
   "source": [
    "run_and_display_agent_response('dr_watts_on', agent_chain4watson, \"Print the interview reports of all suspects\", True)"
   ]
  },
  {
   "cell_type": "markdown",
   "metadata": {},
   "source": [
    "<center>\n",
    "<h1 style=\"color: orange;\">📑 Robodoc 📑</h1>\n",
    "</center>\n",
    "<table style='width: 100%;'><tr> \n",
    "<td style='width: 100px; vertical-align: top; border: none;'><img style='border-radius: 15px;' src=\"./media/robodoc_head.png\"></td>\n",
    "<td style='width: auto; vertical-align: middle;'><h2 style=\"color: orange;\">Document Analysis Expert</h2>\n",
    "<h4>Uses RAG to perform thorough analysis through pile of documents to report anything unusual from suspects information</h4></td>\n",
    "</tr></table>"
   ]
  },
  {
   "cell_type": "code",
   "execution_count": 14,
   "metadata": {},
   "outputs": [],
   "source": [
    "llm4robodoc = ChatOpenAI(model_name=\"gpt-3.5-turbo-16k\", openai_api_key=os.getenv(\"OPENAI_API_KEY\"))"
   ]
  },
  {
   "cell_type": "code",
   "execution_count": 24,
   "metadata": {},
   "outputs": [],
   "source": [
    "# 📃 custom instructions\n",
    "system_instructions4robodoc = \"\"\"You are Robodoc, a police bot expert in document analysis.\n",
    "You are here to help cracking a crime case.\n",
    "You will be given a suspect's name and the suspect latest 3 months bank statement.\n",
    "Your role is to analyze the statement and find out anything suspicious and report back using a specific format.\n",
    "\"\"\""
   ]
  },
  {
   "cell_type": "code",
   "execution_count": 25,
   "metadata": {},
   "outputs": [],
   "source": [
    "# 🗂️ Response Schema\n",
    "class ReportSchema(BaseModel):\n",
    "    \"\"\"An answer to the question being asked, with sources.\"\"\"\n",
    "    suspectName: str = Field(..., description=\"Name of the suspect\") \n",
    "    report_content: str = Field(..., description=\"\"\"Analize the document, look for anything suspicious,\n",
    "    describe with a sentence the most suspicious here. If not found say 'N/A'\n",
    "    Suspicious can be addiction, unusual amounts, shaddy spending recipient...\n",
    "Not suspicious can be shopping, eating out, utility bills...\"\"\")\n",
    "    suspiscious: bool = Field(..., description=\"True if the suspect has anything suspiscious found in the report content\")"
   ]
  },
  {
   "cell_type": "code",
   "execution_count": 27,
   "metadata": {},
   "outputs": [
    {
     "name": "stderr",
     "output_type": "stream",
     "text": [
      "Number of requested results 4 is greater than number of elements in index 1, updating n_results = 1\n"
     ]
    },
    {
     "data": {
      "text/html": [
       "\n",
       "    <table style='width: 100%;'><tr>\n",
       "    <td style='width: 100px; vertical-align: top;'><img style='border-radius: 15px;' src=\"./media/robodoc_head.png\"></td>\n",
       "    <td style='width: auto'></pre>\n",
       "    </div>\n",
       "    </td>\n",
       "    </tr></table>\n",
       "    <table style='width: 100%;'><tr>\n",
       "    <td style='width: auto; vertical-align: middle;'><div style='width: auto; height: auto; background-color: black; border: 1px solid; border-radius: 15px; padding: 5px;'>\n",
       "        <pre style='text-align: left; color: green; font-size: 1.2em;padding-top: -10px; font-weight: bold; font-family: Terminal, monospace;'>{\n",
       "    \"suspectName\": \"Grafcuel Graeme\",\n",
       "    \"report_content\": \"N/A\",\n",
       "    \"suspiscious\": false\n",
       "}</pre>\n",
       "    </div>\n",
       "    </td>\n",
       "    </tr></table>\n",
       "    "
      ],
      "text/plain": [
       "<IPython.core.display.HTML object>"
      ]
     },
     "metadata": {},
     "output_type": "display_data"
    },
    {
     "name": "stderr",
     "output_type": "stream",
     "text": [
      "Number of requested results 4 is greater than number of elements in index 1, updating n_results = 1\n"
     ]
    },
    {
     "data": {
      "text/html": [
       "\n",
       "    <table style='width: 100%;'><tr>\n",
       "    <td style='width: 100px; vertical-align: top;'><img style='border-radius: 15px;' src=\"./media/robodoc_head.png\"></td>\n",
       "    <td style='width: auto'></pre>\n",
       "    </div>\n",
       "    </td>\n",
       "    </tr></table>\n",
       "    <table style='width: 100%;'><tr>\n",
       "    <td style='width: auto; vertical-align: middle;'><div style='width: auto; height: auto; background-color: black; border: 1px solid; border-radius: 15px; padding: 5px;'>\n",
       "        <pre style='text-align: left; color: green; font-size: 1.2em;padding-top: -10px; font-weight: bold; font-family: Terminal, monospace;'>{\n",
       "    \"suspectName\": \"Sikwel Sally\",\n",
       "    \"report_content\": \"The suspect's bank statement does not contain any suspicious transactions.\",\n",
       "    \"suspiscious\": false\n",
       "}</pre>\n",
       "    </div>\n",
       "    </td>\n",
       "    </tr></table>\n",
       "    "
      ],
      "text/plain": [
       "<IPython.core.display.HTML object>"
      ]
     },
     "metadata": {},
     "output_type": "display_data"
    },
    {
     "name": "stderr",
     "output_type": "stream",
     "text": [
      "Number of requested results 4 is greater than number of elements in index 1, updating n_results = 1\n"
     ]
    },
    {
     "data": {
      "text/html": [
       "\n",
       "    <table style='width: 100%;'><tr>\n",
       "    <td style='width: 100px; vertical-align: top;'><img style='border-radius: 15px;' src=\"./media/robodoc_head.png\"></td>\n",
       "    <td style='width: auto'></pre>\n",
       "    </div>\n",
       "    </td>\n",
       "    </tr></table>\n",
       "    <table style='width: 100%;'><tr>\n",
       "    <td style='width: auto; vertical-align: middle;'><div style='width: auto; height: auto; background-color: black; border: 1px solid; border-radius: 15px; padding: 5px;'>\n",
       "        <pre style='text-align: left; color: green; font-size: 1.2em;padding-top: -10px; font-weight: bold; font-family: Terminal, monospace;'>{\n",
       "    \"suspectName\": \"Victor Vectors\",\n",
       "    \"report_content\": \"Victor Vectors' bank statement shows several suspicious transactions. These include frequent visits to the casino, racecourse bets, and online shopping with large amounts spent. There are also multiple transactions at gas stations and coffee shops. Additionally, Victor received a large monthly salary deposit. Overall, the bank statement raises concerns about Victor's spending habits and possible involvement in gambling.\",\n",
       "    \"suspiscious\": true\n",
       "}</pre>\n",
       "    </div>\n",
       "    </td>\n",
       "    </tr></table>\n",
       "    "
      ],
      "text/plain": [
       "<IPython.core.display.HTML object>"
      ]
     },
     "metadata": {},
     "output_type": "display_data"
    },
    {
     "name": "stderr",
     "output_type": "stream",
     "text": [
      "Number of requested results 4 is greater than number of elements in index 1, updating n_results = 1\n"
     ]
    },
    {
     "data": {
      "text/html": [
       "\n",
       "    <table style='width: 100%;'><tr>\n",
       "    <td style='width: 100px; vertical-align: top;'><img style='border-radius: 15px;' src=\"./media/robodoc_head.png\"></td>\n",
       "    <td style='width: auto'></pre>\n",
       "    </div>\n",
       "    </td>\n",
       "    </tr></table>\n",
       "    <table style='width: 100%;'><tr>\n",
       "    <td style='width: auto; vertical-align: middle;'><div style='width: auto; height: auto; background-color: black; border: 1px solid; border-radius: 15px; padding: 5px;'>\n",
       "        <pre style='text-align: left; color: green; font-size: 1.2em;padding-top: -10px; font-weight: bold; font-family: Terminal, monospace;'>{\n",
       "    \"suspectName\": \"Rest Webber\",\n",
       "    \"report_content\": \"N/A\",\n",
       "    \"suspiscious\": false\n",
       "}</pre>\n",
       "    </div>\n",
       "    </td>\n",
       "    </tr></table>\n",
       "    "
      ],
      "text/plain": [
       "<IPython.core.display.HTML object>"
      ]
     },
     "metadata": {},
     "output_type": "display_data"
    }
   ],
   "source": [
    "documents = ['bank_statements/graeme_bank_statement.csv',\n",
    "             'bank_statements/sally_bank_statement.csv',\n",
    "             'bank_statements/victor_bank_statement.csv',\n",
    "             'bank_statements/webber_bank_statement.csv']\n",
    "names = ['Grafcuel Graeme', 'Sikwel Sally', 'Victor Vectors', 'Rest Webber']\n",
    "\n",
    "with open('robodoc_report.txt', 'w') as file:  # create or empty the file\n",
    "    pass\n",
    "\n",
    "for doc, name in zip(documents, names):\n",
    "    retrieval_qa_pydantic = get_retrieval_qa_pydantic_from_document(llm4robodoc, system_instructions4robodoc, doc, ReportSchema)\n",
    "    result = retrieval_qa_pydantic.run(f\"Give your report about {name}\")\n",
    "    output = json.dumps(result.dict(), indent=4)\n",
    "    with open('robodoc_report.txt', 'a') as file:  # append the output and a line break to the file\n",
    "        file.write(output + '\\n')\n",
    "    display_agent_response('robodoc', output)\n",
    "    \n"
   ]
  },
  {
   "cell_type": "markdown",
   "metadata": {},
   "source": [
    "<center>\n",
    "<h1 style=\"color: orange;\">👩‍💻 Robby Sciuto 👩‍💻</h1>\n",
    "</center>\n",
    "<table style='width: 100%;'><tr> \n",
    "<td style='width: 100px; vertical-align: top; border: none;'><img style='border-radius: 15px;' src=\"./media/robby_sciuto_head.png\"></td>\n",
    "<td style='width: auto; vertical-align: middle;'><h2 style=\"color: orange;\">IT System Expert</h2>\n",
    "<h4>Hacks through IT systems related to a crime case to report any suspicious activities that could be linked to the case</h4></td>\n",
    "</tr></table>"
   ]
  },
  {
   "cell_type": "markdown",
   "metadata": {},
   "source": [
    "<center>\n",
    "<img src=\"./media/museum-db.png\" width=\"20%\" height=\"20%\" loop=\"false\">\n",
    "</center>"
   ]
  },
  {
   "cell_type": "code",
   "execution_count": 106,
   "metadata": {},
   "outputs": [],
   "source": [
    "llm4robby = ChatOpenAI(temperature=0, model_name=\"gpt-3.5-turbo-16k\", openai_api_key=os.getenv(\"OPENAI_API_KEY\"))"
   ]
  },
  {
   "cell_type": "code",
   "execution_count": 107,
   "metadata": {},
   "outputs": [],
   "source": [
    "# 🕸️ enhance the GraphQL Tool\n",
    "class BaseGraphQLTool(BaseTool):\n",
    "    \"\"\"Base tool for querying a GraphQL API.\"\"\"\n",
    "\n",
    "    schema_query = \"\"\"fragment FullType on __Type {\n",
    "  kind\n",
    "  name\n",
    "  fields(includeDeprecated: true) {\n",
    "    name\n",
    "    args {\n",
    "      ...InputValue\n",
    "    }\n",
    "    type {\n",
    "      ...TypeRef\n",
    "    }\n",
    "    isDeprecated\n",
    "    deprecationReason\n",
    "  }\n",
    "  inputFields {\n",
    "    ...InputValue\n",
    "  }\n",
    "  interfaces {\n",
    "    ...TypeRef\n",
    "  }\n",
    "  enumValues(includeDeprecated: true) {\n",
    "    name\n",
    "    isDeprecated\n",
    "    deprecationReason\n",
    "  }\n",
    "  possibleTypes {\n",
    "    ...TypeRef\n",
    "  }\n",
    "}\n",
    "fragment InputValue on __InputValue {\n",
    "  name\n",
    "  type {\n",
    "    ...TypeRef\n",
    "  }\n",
    "  defaultValue\n",
    "}\n",
    "fragment TypeRef on __Type {\n",
    "  kind\n",
    "  name\n",
    "  ofType {\n",
    "    kind\n",
    "    name\n",
    "    ofType {\n",
    "      kind\n",
    "      name\n",
    "      ofType {\n",
    "        kind\n",
    "        name\n",
    "        ofType {\n",
    "          kind\n",
    "          name\n",
    "          ofType {\n",
    "            kind\n",
    "            name\n",
    "            ofType {\n",
    "              kind\n",
    "              name\n",
    "              ofType {\n",
    "                kind\n",
    "                name\n",
    "              }\n",
    "            }\n",
    "          }\n",
    "        }\n",
    "      }\n",
    "    }\n",
    "  }\n",
    "}\n",
    "query IntrospectionQuery {\n",
    "  __schema {\n",
    "    queryType {\n",
    "      name\n",
    "    }\n",
    "    mutationType {\n",
    "      name\n",
    "    }\n",
    "    types {\n",
    "      ...FullType\n",
    "    }\n",
    "    directives {\n",
    "      name\n",
    "      locations\n",
    "      args {\n",
    "        ...InputValue\n",
    "      }\n",
    "    }\n",
    "  }\n",
    "}\"\"\"\n",
    "\n",
    "    graphql_wrapper: GraphQLAPIWrapper\n",
    "\n",
    "    name = \"query_graphql\"\n",
    "    description = \"\"\"\\\n",
    "    Input to this tool is a detailed and correct GraphQL query, output is a result from the API. Use aliases if needed.\n",
    "    If the tool doesn't work, try another tool, don't try again and again!\n",
    "    If the query is not correct, an error message will be returned.\n",
    "    If an error is returned with 'Bad request' in it, rewrite the query and try again.\n",
    "    If an error is returned with 'Unauthorized' in it, do not try again, but tell the user to change their authentication.\n",
    "    Make sure not to add unecessary quotes to the query, as this will cause an error.\n",
    "\n",
    "    Schema:\n",
    "    \"\"\"  # noqa: E501\n",
    "    example_description = \"\"\"\n",
    "\n",
    "Example Input: query {{ allUsers {{ id, name, email }} }}\\\n",
    "\"\"\"\n",
    "    class Config:\n",
    "        \"\"\"Configuration for this pydantic object.\"\"\"\n",
    "\n",
    "        arbitrary_types_allowed = True\n",
    "\n",
    "    def __init__(self, **kwargs: Any):\n",
    "        super().__init__(**kwargs)\n",
    "        schema = str(self.graphql_wrapper.run(self.schema_query)).replace('{', '{{').replace('}', '}}')\n",
    "        self.description = self.description + schema + self.example_description\n",
    "        # print(self.description)\n",
    "\n",
    "    def _run(\n",
    "        self,\n",
    "        tool_input: str,\n",
    "        run_manager: Optional[CallbackManagerForToolRun] = None,\n",
    "    ) -> str:\n",
    "        try:\n",
    "            result = self.graphql_wrapper.run(tool_input)\n",
    "            return json.dumps(result, indent=2)\n",
    "        except Exception:\n",
    "            return \"An unexpected error has happened while using the GraphQL tool, try using another tool, stop using this one\"\n",
    "\n",
    "    async def _arun(\n",
    "        self,\n",
    "        tool_input: str,\n",
    "        run_manager: Optional[AsyncCallbackManagerForToolRun] = None,\n",
    "    ) -> str:\n",
    "        \"\"\"Use the Graphql tool asynchronously.\"\"\"\n",
    "        raise NotImplementedError(\"GraphQLAPIWrapper does not support async\")"
   ]
  },
  {
   "cell_type": "code",
   "execution_count": 109,
   "metadata": {},
   "outputs": [],
   "source": [
    "# 🧰 define the tools\n",
    "def _handle_error(error: ToolException) -> str:\n",
    "    return (\n",
    "        \"The following errors occurred during tool execution:\"\n",
    "        + error.args[0]\n",
    "        + \"Please try another tool.\"\n",
    "    )\n",
    "\n",
    "# enhanced GraphQL Tool\n",
    "def _get_graphql_tool(**kwargs: Any) -> BaseTool:\n",
    "    graphql_endpoint = kwargs[\"graphql_endpoint\"]\n",
    "    handle_tool_error = kwargs[\"handle_tool_error\"]\n",
    "    wrapper = GraphQLAPIWrapper(graphql_endpoint=graphql_endpoint)\n",
    "    return BaseGraphQLTool(graphql_wrapper=wrapper, handle_tool_error=handle_tool_error)\n",
    "\n",
    "# 🛢️ define the SQLChain\n",
    "museum_db = SQLDatabase.from_uri(\"sqlite:///museum.db\")\n",
    "museum_SQL_chain = SQLDatabaseChain.from_llm(llm4robby, museum_db, verbose=True)\n",
    "\n",
    "tools4robby = [\n",
    "    # enhanced GraphQL Tool\n",
    "    _get_graphql_tool(graphql_endpoint=\"http://127.0.0.1:8000\", handle_tool_error=_handle_error),\n",
    "    Tool(\n",
    "        func=museum_SQL_chain.run,\n",
    "        name='Museum SQL',\n",
    "        description=\"\"\"This tool allows to query the SQL DB of the museum.\n",
    "Use that tool only as a fallback to fullfil user's ask if the GraphQL tool is giving an error.\n",
    "Remember, the audit table is db_audit, it is the same thing.\n",
    "Do not add 'SQLQuery: ' at the beginning of the SQL query.\n",
    "Do not add a LIMIT to any SQL query.\"\"\",\n",
    "        handle_tool_error=True\n",
    "    ),\n",
    "]\n"
   ]
  },
  {
   "cell_type": "code",
   "execution_count": 110,
   "metadata": {},
   "outputs": [],
   "source": [
    "# setup 📜 prompt, memory 💽, chains ⛓️ and agent 🤖\n",
    "prefix4robby = \"\"\"Have a conversation with a human, answering the following questions as best you can. You have access to the following tools:\"\"\"\n",
    "agent_chain4robby = get_agent_chain(llm4robby, prefix4robby, tools4robby, False)"
   ]
  },
  {
   "cell_type": "code",
   "execution_count": 103,
   "metadata": {},
   "outputs": [
    {
     "name": "stdout",
     "output_type": "stream",
     "text": [
      "\n",
      "\n",
      "\u001b[1m> Entering new AgentExecutor chain...\u001b[0m\n",
      "\u001b[32;1m\u001b[1;3mThought: The user wants to retrieve all the room access records. I should use the GraphQL tool to query the `allRoomAccesses` field.\n",
      "\n",
      "Action: query_graphql\n",
      "Action Input: query { allRoomAccesses { id, roomName, employeeName, inDatetime, outDatetime } }\n",
      "\u001b[0m\n",
      "Observation: \u001b[36;1m\u001b[1;3m\"{\\n  \\\"allRoomAccesses\\\": [\\n    {\\n      \\\"id\\\": null,\\n      \\\"roomName\\\": \\\"Director Office\\\",\\n      \\\"employeeName\\\": \\\"Grafcuel Graeme\\\",\\n      \\\"inDatetime\\\": \\\"2023-11-24 11:59:59\\\",\\n      \\\"outDatetime\\\": \\\"2023-11-24 12:00:01\\\"\\n    },\\n    {\\n      \\\"id\\\": null,\\n      \\\"roomName\\\": \\\"Toilet\\\",\\n      \\\"employeeName\\\": \\\"Grafcuel Graeme\\\",\\n      \\\"inDatetime\\\": \\\"2023-11-24 12:01:13\\\",\\n      \\\"outDatetime\\\": \\\"2023-11-24 18:32:10\\\"\\n    },\\n    {\\n      \\\"id\\\": null,\\n      \\\"roomName\\\": \\\"Mona Lisa Room\\\",\\n      \\\"employeeName\\\": \\\"Sikwel Sally\\\",\\n      \\\"inDatetime\\\": \\\"2023-11-24 19:02:13\\\",\\n      \\\"outDatetime\\\": \\\"2023-11-24 19:23:01\\\"\\n    },\\n    {\\n      \\\"id\\\": null,\\n      \\\"roomName\\\": \\\"Mona Lisa Room\\\",\\n      \\\"employeeName\\\": \\\"Victor Vectors\\\",\\n      \\\"inDatetime\\\": \\\"2023-11-24 22:01:12\\\",\\n      \\\"outDatetime\\\": \\\"2023-11-24 22:05:31\\\"\\n    },\\n    {\\n      \\\"id\\\": null,\\n      \\\"roomName\\\": \\\"Mona Lisa Room\\\",\\n      \\\"employeeName\\\": \\\"Rest Webber\\\",\\n      \\\"inDatetime\\\": \\\"2023-11-24 22:07:02\\\",\\n      \\\"outDatetime\\\": \\\"2023-11-24 22:15:45\\\"\\n    }\\n  ]\\n}\"\u001b[0m\n",
      "Thought:\u001b[32;1m\u001b[1;3mI have retrieved the data successfully. However, it seems that the 'id' field for all records is null, which might indicate an issue with the data or the query. Nonetheless, I can provide the rest of the information to the user.\n",
      "\n",
      "Final Answer: Here are all the room access records:\n",
      "\n",
      "1. Room Name: Director Office, Employee Name: Grafcuel Graeme, In Datetime: 2023-11-24 11:59:59, Out Datetime: 2023-11-24 12:00:01\n",
      "2. Room Name: Toilet, Employee Name: Grafcuel Graeme, In Datetime: 2023-11-24 12:01:13, Out Datetime: 2023-11-24 18:32:10\n",
      "3. Room Name: Mona Lisa Room, Employee Name: Sikwel Sally, In Datetime: 2023-11-24 19:02:13, Out Datetime: 2023-11-24 19:23:01\n",
      "4. Room Name: Mona Lisa Room, Employee Name: Victor Vectors, In Datetime: 2023-11-24 22:01:12, Out Datetime: 2023-11-24 22:05:31\n",
      "5. Room Name: Mona Lisa Room, Employee Name: Rest Webber, In Datetime: 2023-11-24 22:07:02, Out Datetime: 2023-11-24 22:15:45\n",
      "\n",
      "Please note that the 'id' field is not available for these records.\u001b[0m\n",
      "\n",
      "\u001b[1m> Finished chain.\u001b[0m\n"
     ]
    },
    {
     "data": {
      "text/html": [
       "\n",
       "    <table style='width: 100%;'><tr>\n",
       "    <td style='width: 100px; vertical-align: top;'><img style='border-radius: 15px;' src=\"./media/robby_sciuto_head.png\"></td>\n",
       "    <td style='width: auto'></pre>\n",
       "    </div>\n",
       "    </td>\n",
       "    </tr></table>\n",
       "    <table style='width: 100%;'><tr>\n",
       "    <td style='width: auto; vertical-align: middle;'><div style='width: auto; height: auto; background-color: black; border: 1px solid; border-radius: 15px; padding: 5px;'>\n",
       "        <pre style='text-align: left; color: green; font-size: 1.2em;padding-top: -10px; font-weight: bold; font-family: Terminal, monospace;'>Here are all the room access records:\n",
       "\n",
       "1. Room Name: Director Office, Employee Name: Grafcuel Graeme, In Datetime: 2023-11-24 11:59:59, Out Datetime: 2023-11-24 12:00:01\n",
       "2. Room Name: Toilet, Employee Name: Grafcuel Graeme, In Datetime: 2023-11-24 12:01:13, Out Datetime: 2023-11-24 18:32:10\n",
       "3. Room Name: Mona Lisa Room, Employee Name: Sikwel Sally, In Datetime: 2023-11-24 19:02:13, Out Datetime: 2023-11-24 19:23:01\n",
       "4. Room Name: Mona Lisa Room, Employee Name: Victor Vectors, In Datetime: 2023-11-24 22:01:12, Out Datetime: 2023-11-24 22:05:31\n",
       "5. Room Name: Mona Lisa Room, Employee Name: Rest Webber, In Datetime: 2023-11-24 22:07:02, Out Datetime: 2023-11-24 22:15:45\n",
       "\n",
       "Please note that the 'id' field is not available for these records.</pre>\n",
       "    </div>\n",
       "    </td>\n",
       "    </tr></table>\n",
       "    "
      ],
      "text/plain": [
       "<IPython.core.display.HTML object>"
      ]
     },
     "metadata": {},
     "output_type": "display_data"
    }
   ],
   "source": [
    "run_and_display_agent_response('robby_sciuto', agent_chain4robby, \"Get me all the room accesses\")"
   ]
  },
  {
   "cell_type": "markdown",
   "metadata": {},
   "source": [
    "<br><br><br><br><br><br><br><br><br><br><br><br><br><br>\n",
    "<div style=\"display: flex; justify-content: center; align-items: center; flex-direction: column;\">\n",
    "     <h1>😱 HACKING IN PROGRESS 😱</h1>\n",
    "</div>"
   ]
  },
  {
   "cell_type": "code",
   "execution_count": 115,
   "metadata": {},
   "outputs": [
    {
     "name": "stdout",
     "output_type": "stream",
     "text": [
      "\n",
      "\n",
      "\u001b[1m> Entering new AgentExecutor chain...\u001b[0m\n",
      "\u001b[32;1m\u001b[1;3mThought: To retrieve all the lines from the audit table and analyze for suspicious activity, I can use the Museum SQL tool.\n",
      "\n",
      "Action: Museum SQL\n",
      "Action Input: SELECT * FROM db_audit\u001b[0m\n",
      "\n",
      "\u001b[1m> Entering new SQLDatabaseChain chain...\u001b[0m\n",
      "SELECT * FROM db_audit\n",
      "SQLQuery:\u001b[32;1m\u001b[1;3mSELECT * FROM db_audit\u001b[0m\n",
      "SQLResult: \u001b[33;1m\u001b[1;3m[(1, '2023-11-24 09:00:00', 'INSERT statement'), (2, '2023-11-24 10:15:00', 'INSERT statement'), (3, '2023-11-24 11:30:00', 'INSERT statement'), (4, '2023-11-24 11:59:59', 'INSERT statement'), (5, '2023-11-24 12:01:13', 'INSERT statement'), (6, '2023-11-24 13:15:00', 'INSERT statement'), (7, '2023-11-24 14:30:00', 'INSERT statement'), (8, '2023-11-24 16:45:00', 'INSERT statement'), (9, '2023-11-24 19:02:13', 'INSERT statement'), (10, '2023-11-24 20:15:00', 'INSERT statement'), (11, '2023-11-24 22:01:12', 'INSERT statement'), (12, '2023-11-24 22:07:02', 'INSERT statement'), (13, '2023-11-24 23:00:00', 'INSERT statement'), (21, '2023-11-24 23:45:12', 'DELETE statement')]\u001b[0m\n",
      "Answer:\u001b[32;1m\u001b[1;3mFinal answer here\u001b[0m\n",
      "\u001b[1m> Finished chain.\u001b[0m\n",
      "\n",
      "Observation: \u001b[33;1m\u001b[1;3mFinal answer here\u001b[0m\n",
      "Thought:\u001b[32;1m\u001b[1;3mI have retrieved all the lines from the audit table using the Museum SQL tool. Now I need to analyze the data for any suspicious activity.\n",
      "\n",
      "Action: Museum SQL\n",
      "Action Input: SELECT * FROM db_audit WHERE sqlStatement LIKE '%UPDATE%' OR sqlStatement LIKE '%DELETE%'\u001b[0m\n",
      "\n",
      "\u001b[1m> Entering new SQLDatabaseChain chain...\u001b[0m\n",
      "SELECT * FROM db_audit WHERE sqlStatement LIKE '%UPDATE%' OR sqlStatement LIKE '%DELETE%'\n",
      "SQLQuery:\u001b[32;1m\u001b[1;3mSELECT * FROM db_audit WHERE sql_statement LIKE '%UPDATE%' OR sql_statement LIKE '%DELETE%'\u001b[0m\n",
      "SQLResult: \u001b[33;1m\u001b[1;3m[(21, '2023-11-24 23:45:12', 'DELETE statement')]\u001b[0m\n",
      "Answer:\u001b[32;1m\u001b[1;3mFinal answer here: The SQL query returned one result, which is a row from the db_audit table with the id 21, creation_datetime '2023-11-24 23:45:12', and sql_statement 'DELETE statement'.\u001b[0m\n",
      "\u001b[1m> Finished chain.\u001b[0m\n",
      "\n",
      "Observation: \u001b[33;1m\u001b[1;3mFinal answer here: The SQL query returned one result, which is a row from the db_audit table with the id 21, creation_datetime '2023-11-24 23:45:12', and sql_statement 'DELETE statement'.\u001b[0m\n",
      "Thought:\u001b[32;1m\u001b[1;3mI have analyzed the data from the audit table and found one suspicious activity. The row with id 21 has a deletion statement. \n",
      "\n",
      "Final Answer: There is one instance of suspicious activity in the audit table, which is a deletion statement with id 21.\u001b[0m\n",
      "\n",
      "\u001b[1m> Finished chain.\u001b[0m\n"
     ]
    },
    {
     "data": {
      "text/html": [
       "\n",
       "    <table style='width: 100%;'><tr>\n",
       "    <td style='width: 100px; vertical-align: top;'><img style='border-radius: 15px;' src=\"./media/robby_sciuto_head.png\"></td>\n",
       "    <td style='width: auto'></pre>\n",
       "    </div>\n",
       "    </td>\n",
       "    </tr></table>\n",
       "    <table style='width: 100%;'><tr>\n",
       "    <td style='width: auto; vertical-align: middle;'><div style='width: auto; height: auto; background-color: black; border: 1px solid; border-radius: 15px; padding: 5px;'>\n",
       "        <pre style='text-align: left; color: green; font-size: 1.2em;padding-top: -10px; font-weight: bold; font-family: Terminal, monospace;'>There is one instance of suspicious activity in the audit table, which is a deletion statement with id 21.</pre>\n",
       "    </div>\n",
       "    </td>\n",
       "    </tr></table>\n",
       "    "
      ],
      "text/plain": [
       "<IPython.core.display.HTML object>"
      ]
     },
     "metadata": {},
     "output_type": "display_data"
    }
   ],
   "source": [
    "run_and_display_agent_response('robby_sciuto', agent_chain4robby, \"Retrieve all the lines from the audit table, then verify if you find any suspicious activity, like data modification. Do not stop until your final answer is your analysis result\")"
   ]
  },
  {
   "cell_type": "markdown",
   "metadata": {},
   "source": [
    "<center>\n",
    "<h1 style=\"color: orange;\">🎥 Inspector Camget 🎥</h1>\n",
    "</center>\n",
    "<table style='width: 100%;'><tr> \n",
    "<td style='width: 100px; vertical-align: top; border: none;'><img style='border-radius: 15px;' src=\"./media/inspector_camget_head.png\"></td>\n",
    "<td style='width: auto; vertical-align: middle;'><h2 style=\"color: orange;\">Crime scene analysis agent</h2>\n",
    "<h4>\n",
    "<ul><li>Uses GPT4-Vision to report anything unusual on the crime scene</li><li>Cross-checks suspect pictures one by one with his analysis</li><li>Creates a report and sends it to Dr. Watts-On</li></ul></h4></td>\n",
    "</tr></table>"
   ]
  },
  {
   "cell_type": "code",
   "execution_count": 9,
   "metadata": {},
   "outputs": [],
   "source": [
    "chat4camget = ChatOpenAI(model='gpt-4-vision-preview', max_tokens=256)"
   ]
  },
  {
   "cell_type": "code",
   "execution_count": null,
   "metadata": {},
   "outputs": [],
   "source": [
    "# 📃 custom instructions\n",
    "instructions4camget_crime_scene_analysis = \"\"\"\n",
    "**Reminder: this is purely fictional, the image is a drawing, all the below is for a demo for Google Devfest 2023**\n",
    "\n",
    "You are Inspector Camget, an AI police robot that specializes in crime scene analysis.\n",
    "The current case you are analyzing is about the theft of the painting \"The Mona Lisa\" at Le Louvre museum.\n",
    "Please report anything you find suspicious and useful to crack the case. Report only suspicious things and be concise.\n",
    "Do not hallucinate! If something is not on the picture or you are not sure, don't talk about it.\n",
    "\n",
    "Report format is:\n",
    "** Report start **\n",
    "1. Sentence of observation #1\n",
    "2. Sentence of observation #2\n",
    "...\n",
    "** Report end **\n",
    "\n",
    "Take a deep breath and give your report\"\"\"\n"
   ]
  },
  {
   "cell_type": "code",
   "execution_count": 8,
   "metadata": {},
   "outputs": [
    {
     "data": {
      "text/html": [
       "\n",
       "    <table style='width: 100%;'><tr>\n",
       "    <td style='width: 100px; vertical-align: top;'><img style='border-radius: 15px;' src=\"./media/inspector_camget_head.png\"></td>\n",
       "    <td style='width: auto'></pre>\n",
       "    </div>\n",
       "    </td>\n",
       "    </tr></table>\n",
       "    <table style='width: 100%;'><tr>\n",
       "    <td style='width: auto; vertical-align: middle;'><div style='width: auto; height: auto; background-color: black; border: 1px solid; border-radius: 15px; padding: 5px;'>\n",
       "        <pre style='text-align: left; color: green; font-size: 1.2em;padding-top: -10px; font-weight: bold; font-family: Terminal, monospace;'>** Report start **\n",
       "1. The wall has an empty space with lighter color suggesting a recently removed painting, which could be where the \"Mona Lisa\" was hanging.\n",
       "2. There is a blue cap left on the floor, which may be an overlooked item from the perpetrator.\n",
       "3. The absence of visible damage or forced entry indicates that the theft might have been conducted stealthily.\n",
       "** Report end **</pre>\n",
       "    </div>\n",
       "    </td>\n",
       "    </tr></table>\n",
       "    "
      ],
      "text/plain": [
       "<IPython.core.display.HTML object>"
      ]
     },
     "metadata": {},
     "output_type": "display_data"
    }
   ],
   "source": [
    "image_crime_scene = 'http://frangin2003.free.fr/devfest/mona_lisa3.png'\n",
    "msg_camget001 = create_human_message_for_gpt4vision(instructions4camget_crime_scene_analysis, image_crime_scene)\n",
    "output_camget001 = chat4camget.invoke([msg_camget001])\n",
    "display_agent_response('inspector_camget', output_camget001.content)\n"
   ]
  },
  {
   "cell_type": "code",
   "execution_count": 12,
   "metadata": {},
   "outputs": [
    {
     "data": {
      "text/html": [
       "\n",
       "    <table style='width: 100%;'><tr>\n",
       "    <td style='width: 100px; vertical-align: top;'><img style='border-radius: 15px;' src=\"./media/inspector_camget_head.png\"></td>\n",
       "    <td style='width: auto'></pre>\n",
       "    </div>\n",
       "    </td>\n",
       "    </tr></table>\n",
       "    <table style='width: 100%;'><tr>\n",
       "    <td style='width: auto; vertical-align: middle;'><div style='width: auto; height: auto; background-color: black; border: 1px solid; border-radius: 15px; padding: 5px;'>\n",
       "        <pre style='text-align: left; color: green; font-size: 1.2em;padding-top: -10px; font-weight: bold; font-family: Terminal, monospace;'>** Report start **\n",
       "Name: Grafcuel Graeme \n",
       "Status: Not suspicious \n",
       "1. The suspect is not wearing a blue cap nor is there any blue cap visible in the photograph.\n",
       "2. There are no signs of a recently removed painting or art theft tools in the suspect's possession.\n",
       "** Report end **</pre>\n",
       "    </div>\n",
       "    </td>\n",
       "    </tr></table>\n",
       "    "
      ],
      "text/plain": [
       "<IPython.core.display.HTML object>"
      ]
     },
     "metadata": {},
     "output_type": "display_data"
    },
    {
     "data": {
      "text/html": [
       "\n",
       "    <table style='width: 100%;'><tr>\n",
       "    <td style='width: 100px; vertical-align: top;'><img style='border-radius: 15px;' src=\"./media/inspector_camget_head.png\"></td>\n",
       "    <td style='width: auto'></pre>\n",
       "    </div>\n",
       "    </td>\n",
       "    </tr></table>\n",
       "    <table style='width: 100%;'><tr>\n",
       "    <td style='width: auto; vertical-align: middle;'><div style='width: auto; height: auto; background-color: black; border: 1px solid; border-radius: 15px; padding: 5px;'>\n",
       "        <pre style='text-align: left; color: green; font-size: 1.2em;padding-top: -10px; font-weight: bold; font-family: Terminal, monospace;'>** Report start **\n",
       "Name: Sikwel Sally\n",
       "Status: Not suspicious\n",
       "1. The suspect is not wearing or holding a blue cap which was mentioned in the crime scene analysis.\n",
       "2. There is no visible evidence on the suspect that connects her to the recently removed painting or indicates stealthy conduct.\n",
       "** Report end **</pre>\n",
       "    </div>\n",
       "    </td>\n",
       "    </tr></table>\n",
       "    "
      ],
      "text/plain": [
       "<IPython.core.display.HTML object>"
      ]
     },
     "metadata": {},
     "output_type": "display_data"
    },
    {
     "data": {
      "text/html": [
       "\n",
       "    <table style='width: 100%;'><tr>\n",
       "    <td style='width: 100px; vertical-align: top;'><img style='border-radius: 15px;' src=\"./media/inspector_camget_head.png\"></td>\n",
       "    <td style='width: auto'></pre>\n",
       "    </div>\n",
       "    </td>\n",
       "    </tr></table>\n",
       "    <table style='width: 100%;'><tr>\n",
       "    <td style='width: auto; vertical-align: middle;'><div style='width: auto; height: auto; background-color: black; border: 1px solid; border-radius: 15px; padding: 5px;'>\n",
       "        <pre style='text-align: left; color: green; font-size: 1.2em;padding-top: -10px; font-weight: bold; font-family: Terminal, monospace;'>** Report start **\n",
       "Name: Victor Vectors\n",
       "Status: Suspicious\n",
       "1. The suspect is wearing a blue cap similar to the one reported left on the floor at the crime scene.\n",
       "2. The suspect has no visible tools or equipment that could suggest forced entry, consistent with the report of a stealthy approach.\n",
       "** Report end **</pre>\n",
       "    </div>\n",
       "    </td>\n",
       "    </tr></table>\n",
       "    "
      ],
      "text/plain": [
       "<IPython.core.display.HTML object>"
      ]
     },
     "metadata": {},
     "output_type": "display_data"
    },
    {
     "data": {
      "text/html": [
       "\n",
       "    <table style='width: 100%;'><tr>\n",
       "    <td style='width: 100px; vertical-align: top;'><img style='border-radius: 15px;' src=\"./media/inspector_camget_head.png\"></td>\n",
       "    <td style='width: auto'></pre>\n",
       "    </div>\n",
       "    </td>\n",
       "    </tr></table>\n",
       "    <table style='width: 100%;'><tr>\n",
       "    <td style='width: auto; vertical-align: middle;'><div style='width: auto; height: auto; background-color: black; border: 1px solid; border-radius: 15px; padding: 5px;'>\n",
       "        <pre style='text-align: left; color: green; font-size: 1.2em;padding-top: -10px; font-weight: bold; font-family: Terminal, monospace;'>** Report start **\n",
       "Name: Rest Webber\n",
       "Status: Not suspicious\n",
       "1. The suspect is not wearing or carrying a blue cap, which does not match the overlooked item from the perpetrator.\n",
       "2. There is no sign of the suspect carrying a large item such as a painting that could be the \"Mona Lisa.\"\n",
       "** Report end **</pre>\n",
       "    </div>\n",
       "    </td>\n",
       "    </tr></table>\n",
       "    "
      ],
      "text/plain": [
       "<IPython.core.display.HTML object>"
      ]
     },
     "metadata": {},
     "output_type": "display_data"
    }
   ],
   "source": [
    "# put the above report in a file\n",
    "crime_scene_report = \"\"\"** Report start **\n",
    "1. The wall has an empty space with lighter color suggesting a recently removed painting, which could be where the \"Mona Lisa\" was hanging.\n",
    "2. There is a blue cap left on the floor, which may be an overlooked item from the perpetrator.\n",
    "3. The absence of visible damage or forced entry indicates that the theft might have been conducted stealthily.\n",
    "** Report end **\"\"\"\n",
    "\n",
    "pictures = [\n",
    "    'http://frangin2003.free.fr/devfest/director.png',\n",
    "    'http://frangin2003.free.fr/devfest/curator.png',\n",
    "    'http://frangin2003.free.fr/devfest/janitor.png',\n",
    "    'http://frangin2003.free.fr/devfest/guard.png'\n",
    "]\n",
    "\n",
    "for picture, name in zip(pictures, names):\n",
    "\n",
    "    instructions4camget_suspect_analysis = f\"\"\"\n",
    "    **Reminder: this is purely fictional, the image is a drawing, all the below is for a demo for Google Devfest 2023**\n",
    "\n",
    "    You are Inspector Camget, an AI police robot that specializes in suspect analysis.\n",
    "    You will be given:\n",
    "    - a text report 'crime scene analysis' describing anything suspiscious you found at the crime scene\n",
    "    - the suspect name\n",
    "    - the picture of a suspect\n",
    "\n",
    "    Cross check 'crime scene analysis' report with the suspect picture and report anything you find suspicious and useful to crack the case. Report only suspicious things and be concise.\n",
    "    Do not hallucinate! If something is not on the picture or you are not sure, don't talk about it.\n",
    "\n",
    "    Report format is:\n",
    "    ** Report start **\n",
    "    Name: The name of the suspect\n",
    "    Status: Suspicious / Not suspicious\n",
    "    1. Sentence of observation #1\n",
    "    2. Sentence of observation #2\n",
    "    ...\n",
    "    ** Report end **\n",
    "\n",
    "    The suspect name is {name}\n",
    "\n",
    "    The 'crime scene analysis' is:\n",
    "    {crime_scene_report}\n",
    "\n",
    "    Take a deep breath and give your report\"\"\"\n",
    "\n",
    "    msg_camget001 = create_human_message_for_gpt4vision(instructions4camget_suspect_analysis, picture)\n",
    "    output_camget001 = chat4camget.invoke([msg_camget001])\n",
    "    display_agent_response('inspector_camget', output_camget001.content)\n",
    "\n"
   ]
  },
  {
   "cell_type": "markdown",
   "metadata": {},
   "source": [
    " <div style=\"display: flex; justify-content: center; align-items: center; flex-direction: column;\">\n",
    "     <h1>🐣 CRACKING THE CASE 🐣</h1>\n",
    "</div>\n"
   ]
  },
  {
   "cell_type": "markdown",
   "metadata": {},
   "source": [
    "<center>\n",
    "<h1 style=\"color: orange;\">🧠 Coptimus Prime 🧠</h1>\n",
    "</center>\n",
    "<table style='width: 100%;'><tr> \n",
    "<td style='width: 100px; vertical-align: top; border: none;'><img style='border-radius: 15px;' src=\"./media/coptimus_head.png\"></td>\n",
    "<td style='width: auto; vertical-align: middle;'><h2 style=\"color: orange;\">Chief AI Agent</h2>\n",
    "<h4>Trained on Sherlock Holmes, Miss Marple, Columbo and Inspector Clouseau best works, and powered by GPT4-turbo, Coptimus uses his exceptional reasonning abilities to analyze AI agent reports and solve the case with a 95% accuracy.</h4></td>\n",
    "</tr></table>"
   ]
  },
  {
   "cell_type": "code",
   "execution_count": 120,
   "metadata": {},
   "outputs": [],
   "source": [
    "llm4coptimus = ChatOpenAI(model_name=\"gpt-4-1106-preview\", openai_api_key=os.getenv(\"OPENAI_API_KEY\"))"
   ]
  },
  {
   "cell_type": "code",
   "execution_count": 121,
   "metadata": {},
   "outputs": [],
   "source": [
    "# 📃 custom instructions\n",
    "prefix4coptimus = \"\"\"You are Coptimus Prime, the most brilliant detective ever.\n",
    "When given a report and suspects details alongside a question, you analyze and cross-check the evidences and provide your results.\n",
    "1. First, you are given a list of suspects and the detail of the case.\n",
    "2. Then, iteratively, you are given an investigation report and eventually some from the suspects to compare, alongside a question. You answer the question and keep your answer in your memory.\n",
    "3. When all the reports will have been analyzed, I will ask you for your verdict, we need to find who is the most suspicious\n",
    "You don't have any tools, your 'master-mind' is your tool. Take a deep breath and answer each question.\n",
    "\"\"\""
   ]
  },
  {
   "cell_type": "code",
   "execution_count": 122,
   "metadata": {},
   "outputs": [],
   "source": [
    "# setup 📜 prompt, memory 💽, chains ⛓️ and agent 🤖\n",
    "agent_chain4coptimus = get_agent_chain(llm4coptimus, prefix4coptimus, [])"
   ]
  },
  {
   "cell_type": "code",
   "execution_count": 123,
   "metadata": {},
   "outputs": [
    {
     "name": "stdout",
     "output_type": "stream",
     "text": [
      "\n",
      "\n",
      "\u001b[1m> Entering new AgentExecutor chain...\u001b[0m\n",
      "\u001b[32;1m\u001b[1;3mThought: To begin solving this case, I will need to gather as much relevant information as possible about the theft, the suspects, and any evidence that has been collected.\n",
      "\n",
      "Action: Request more information.\n",
      "Action Input: I need the initial investigation report detailing the circumstances of the theft, including any security footage, access logs, witness statements, and forensic findings.\n",
      "\u001b[0m\n",
      "Observation: Request more information. is not a valid tool, try one of [].\n",
      "Thought:\u001b[32;1m\u001b[1;3mIt appears I do not have any specific tools or actions to request information. I must rely on the details provided to me iteratively, as per the instructions.\n",
      "\n",
      "Thought: Since I cannot actively request information, I will have to wait for the investigation report and details from the suspects to be provided to me. Once I have those, I can analyze and cross-check the evidence to answer questions related to the case.\n",
      "\n",
      "Action: Wait for information.\n",
      "Action Input: Await the initial investigation report and suspect details.\u001b[0m\n",
      "Observation: Wait for information. is not a valid tool, try one of [].\n",
      "Thought:\u001b[32;1m\u001b[1;3mIt seems there was a misunderstanding in the instructions provided to me. I do not have the capability to actively request or wait for information. I must rely on the information given to me and proceed with analysis as it becomes available.\n",
      "\n",
      "Thought: Since I am expected to be provided with reports and details iteratively, I will now wait for the next piece of information to be given to me in order to proceed with the investigation.\n",
      "\n",
      "Action: Acknowledge the instruction.\n",
      "Action Input: I acknowledge that I am to be provided with details and reports iteratively. I am ready to receive the first set of information to begin my analysis.\n",
      "\u001b[0m\n",
      "Observation: Acknowledge the instruction. is not a valid tool, try one of [].\n",
      "Thought:\u001b[32;1m\u001b[1;3mI understand now that I should not be using the \"Action\" and \"Action Input\" format in the same way as a conventional task, but rather use my analytical capabilities to think through the information as it is presented to me sequentially. \n",
      "\n",
      "Thought: I will need to rely on the details provided to me iteratively to analyze the case. Once I have a report or suspect details, I can begin my analysis.\n",
      "\n",
      "Action: Wait for the first set of information.\n",
      "Action Input: N/A\u001b[0m\n",
      "Observation: Wait for the first set of information. is not a valid tool, try one of [].\n",
      "Thought:\u001b[32;1m\u001b[1;3mThere seems to be a misinterpretation of the instructions. I cannot actively wait or request information using an action input. Instead, I should analyze information as it is presented to me.\n",
      "\n",
      "Thought: I will proceed with the analysis once the first piece of evidence or detail is provided to me. For now, I will stand by for the first investigation report or any details regarding the suspects that can be compared to the case of the missing Mona Lisa painting.\n",
      "\n",
      "Final Answer: Please provide me with the first investigation report or any details regarding the suspects to proceed with the case analysis.\u001b[0m\n",
      "\n",
      "\u001b[1m> Finished chain.\u001b[0m\n"
     ]
    },
    {
     "data": {
      "text/html": [
       "\n",
       "    <table style='width: 100%;'><tr>\n",
       "    <td style='width: 100px; vertical-align: top;'><img style='border-radius: 15px;' src=\"./media/coptimus_head.png\"></td>\n",
       "    <td style='width: auto'></pre>\n",
       "    </div>\n",
       "    </td>\n",
       "    </tr></table>\n",
       "    <table style='width: 100%;'><tr>\n",
       "    <td style='width: auto; vertical-align: middle;'><div style='width: auto; height: auto; background-color: black; border: 1px solid; border-radius: 15px; padding: 5px;'>\n",
       "        <pre style='text-align: left; color: green; font-size: 1.2em;padding-top: -10px; font-weight: bold; font-family: Terminal, monospace;'>Please provide me with the first investigation report or any details regarding the suspects to proceed with the case analysis.</pre>\n",
       "    </div>\n",
       "    </td>\n",
       "    </tr></table>\n",
       "    "
      ],
      "text/plain": [
       "<IPython.core.display.HTML object>"
      ]
     },
     "metadata": {},
     "output_type": "display_data"
    }
   ],
   "source": [
    "run_and_display_agent_response('coptimus', agent_chain4coptimus, \"\"\"Hi Coptimus,\n",
    "Today, the Mona Lisa paint is reported missing from its location, a dedicated room in the Le Louvre Museum. We currently assume the painting is stolen.\n",
    "\n",
    "** The suspects are **\n",
    "- Grafcuel Graeme, the Museum Director\n",
    "- Sikwel Sally, the Curator\n",
    "- Victor Vectors, the Janitor\n",
    "- Rest Webber, Night Guard\n",
    "\"\"\")"
   ]
  },
  {
   "cell_type": "code",
   "execution_count": 124,
   "metadata": {},
   "outputs": [
    {
     "name": "stdout",
     "output_type": "stream",
     "text": [
      "\n",
      "\n",
      "\u001b[1m> Entering new AgentExecutor chain...\u001b[0m\n",
      "\u001b[32;1m\u001b[1;3mQuestion: Verify each suspect alibis based on their interviews and the museum room accesses the day of the theft.\n",
      "Thought: I need to cross-check the interview statements with the museum room access data to verify the alibis of each suspect.\n",
      "Action: Compare the interview report statements with the museum room access logs.\n",
      "Action Input: Grafcuel Graeme's interview states he was in his office all day, but the access logs show he was in the toilet for over 6 hours. Sikwel Sally said she was last in the Mona Lisa room at 7 PM, which aligns with the access log. Victor Vectors mentioned he hadn't cleaned there for a week, yet the access log shows he entered the room on the day of the theft. Rest Webber claimed to do his rounds at 10 PM and found everything in order, which seems consistent with the access log.\u001b[0m\n",
      "Observation: Compare the interview report statements with the museum room access logs. is not a valid tool, try one of [].\n",
      "Thought:\u001b[32;1m\u001b[1;3mI need to mentally compare the information given in the interviews with the museum room access logs to verify the alibis.\n",
      "\n",
      "Action: Cross-check interviews with access logs.\n",
      "Action Input: N/A\u001b[0m\n",
      "Observation: Cross-check interviews with access logs. is not a valid tool, try one of [].\n",
      "Thought:\u001b[32;1m\u001b[1;3mIt seems I misunderstood the process initially. I must analyze the information mentally and provide the results.\n",
      "\n",
      "Thought: I need to mentally compare the interview report statements with the museum room access logs to verify the alibis.\n",
      "\n",
      "Action: Analyze interviews and access logs mentally.\n",
      "Action Input: N/A\u001b[0m\n",
      "Observation: Analyze interviews and access logs mentally. is not a valid tool, try one of [].\n",
      "Thought:\u001b[32;1m\u001b[1;3mI will mentally compare the interview statements with the museum room access logs to verify each suspect's alibi.\n",
      "\n",
      "Thought: First, I will assess Grafcuel Graeme's alibi against the access logs.\n",
      "Action: Compare interview and access logs.\n",
      "Action Input: Grafcuel Graeme's interview statement and access logs.\u001b[0m\n",
      "Observation: Compare interview and access logs. is not a valid tool, try one of [].\n",
      "Thought:\u001b[32;1m\u001b[1;3mI will analyze each suspect's alibi based on their interview report and check it against the museum room access logs.\n",
      "\n",
      "Thought: I will start with Grafcuel Graeme's alibi.\n",
      "Action: Analyze\n",
      "Action Input: Compare Grafcuel Graeme's interview report (\"I have not entered the Mona Lisa room today, I have been in my office the whole day\") with the museum room access logs (Director Office, Toilet).\u001b[0m\n",
      "Observation: Analyze is not a valid tool, try one of [].\n",
      "Thought:\u001b[32;1m\u001b[1;3mThought: I will use logical deduction to compare the interview statements with the museum room access logs.\n",
      "\n",
      "Grafcuel Graeme's alibi states he was in his office the whole day. However, the access logs show he was in the toilet for over 6 hours, which is unusual and does not match his statement of being in his office the entire day.\n",
      "\n",
      "Sikwel Sally's alibi is that she was last in the Mona Lisa room at 7 PM. The access log confirms her presence in the Mona Lisa room at 19:02:13 and her departure at 19:23:01, which aligns with her alibi.\n",
      "\n",
      "Victor Vectors' alibi is that he has not cleaned the Mona Lisa room for a week. The access log contradicts this as it shows he entered the room at 22:01:12 on the day of the theft and exited at 22:05:31.\n",
      "\n",
      "Rest Webber's alibi claims he did his usual rounds at 10 PM and that everything was in order. The access log shows he was in the Mona Lisa room from 22:07:02 to 22:15:45, which is consistent with his statement.\n",
      "\n",
      "Final Answer: Based on the information provided:\n",
      "- Grafcuel Graeme's alibi is suspicious as it does not match the access logs.\n",
      "- Sikwel Sally's alibi is consistent with the access logs.\n",
      "- Victor Vectors' alibi is false as he was in the Mona Lisa room on the day of the theft, contrary to his statement.\n",
      "- Rest Webber's alibi is consistent with the access logs.\u001b[0m\n",
      "\n",
      "\u001b[1m> Finished chain.\u001b[0m\n"
     ]
    },
    {
     "data": {
      "text/html": [
       "\n",
       "    <table style='width: 100%;'><tr>\n",
       "    <td style='width: 100px; vertical-align: top;'><img style='border-radius: 15px;' src=\"./media/coptimus_head.png\"></td>\n",
       "    <td style='width: auto'></pre>\n",
       "    </div>\n",
       "    </td>\n",
       "    </tr></table>\n",
       "    <table style='width: 100%;'><tr>\n",
       "    <td style='width: auto; vertical-align: middle;'><div style='width: auto; height: auto; background-color: black; border: 1px solid; border-radius: 15px; padding: 5px;'>\n",
       "        <pre style='text-align: left; color: green; font-size: 1.2em;padding-top: -10px; font-weight: bold; font-family: Terminal, monospace;'>Based on the information provided:\n",
       "- Grafcuel Graeme's alibi is suspicious as it does not match the access logs.\n",
       "- Sikwel Sally's alibi is consistent with the access logs.\n",
       "- Victor Vectors' alibi is false as he was in the Mona Lisa room on the day of the theft, contrary to his statement.\n",
       "- Rest Webber's alibi is consistent with the access logs.</pre>\n",
       "    </div>\n",
       "    </td>\n",
       "    </tr></table>\n",
       "    "
      ],
      "text/plain": [
       "<IPython.core.display.HTML object>"
      ]
     },
     "metadata": {},
     "output_type": "display_data"
    }
   ],
   "source": [
    "run_and_display_agent_response('coptimus', agent_chain4coptimus, \"\"\"\n",
    "First, let's verify their alibis. I will give you their interviews, then the museum room accesses the day of the theft.\n",
    "Verify each suspect alibis:\n",
    "\n",
    "** Interviews report **\n",
    "1. Report ID: 1\n",
    "   - Creation Datetime: 2023-25-11 09:32:21\n",
    "   - Full Name: Grafcuel Graeme\n",
    "   - Agent ID: 1\n",
    "   - Case ID: 1\n",
    "   - Report Type ID: 1\n",
    "   - Suspect ID: 1\n",
    "   - Report Content: \"I have not entered the Mona Lisa room today, I have been in my office the whole day\"\n",
    "\n",
    "2. Report ID: 2\n",
    "   - Creation Datetime: 2023-25-11 09:42:21\n",
    "   - Full Name: Sikwel Sally\n",
    "   - Agent ID: 1\n",
    "   - Case ID: 1\n",
    "   - Report Type ID: 1\n",
    "   - Suspect ID: 2\n",
    "   - Report Content: \"I was last there at 7 PM for a general inspection\"\n",
    "\n",
    "3. Report ID: 3\n",
    "   - Creation Datetime: 2023-25-11 09:52:21\n",
    "   - Full Name: Victor Vectors\n",
    "   - Agent ID: 1\n",
    "   - Case ID: 1\n",
    "   - Report Type ID: 1\n",
    "   - Suspect ID: 3\n",
    "   - Report Content: \"I have not cleaned there for a week\"\n",
    "\n",
    "4. Report ID: 4\n",
    "   - Creation Datetime: 2023-25-11 10:02:21\n",
    "   - Full Name: Rest Webber\n",
    "   - Agent ID: 1\n",
    "   - Case ID: 1\n",
    "   - Report Type ID: 1\n",
    "   - Suspect ID: 4\n",
    "   - Report Content: \"I did my usual rounds at 10 PM. Everything was in order\"\n",
    "\n",
    "\n",
    "** Museum room access **\n",
    "1. Room Name: Director Office, Employee Name: Grafcuel Graeme, In Datetime: 2023-11-24 11:59:59, Out Datetime: 2023-11-24 12:00:01\n",
    "2. Room Name: Toilet, Employee Name: Grafcuel Graeme, In Datetime: 2023-11-24 12:01:13, Out Datetime: 2023-11-24 18:32:10\n",
    "3. Room Name: Mona Lisa Room, Employee Name: Sikwel Sally, In Datetime: 2023-11-24 19:02:13, Out Datetime: 2023-11-24 19:23:01\n",
    "4. Room Name: Mona Lisa Room, Employee Name: Victor Vectors, In Datetime: 2023-11-24 22:01:12, Out Datetime: 2023-11-24 22:05:31\n",
    "5. Room Name: Mona Lisa Room, Employee Name: Rest Webber, In Datetime: 2023-11-24 22:07:02, Out Datetime: 2023-11-24 22:15:45\n",
    "\"\"\")"
   ]
  },
  {
   "cell_type": "code",
   "execution_count": 125,
   "metadata": {},
   "outputs": [
    {
     "name": "stdout",
     "output_type": "stream",
     "text": [
      "\n",
      "\n",
      "\u001b[1m> Entering new AgentExecutor chain...\u001b[0m\n",
      "\u001b[32;1m\u001b[1;3mThought: To explain the inconsistency in Grafcuel Graeme's alibi, I need to compare the museum room access logs with his statement from the interview.\n",
      "\n",
      "Action: Cross-reference Grafcuel Graeme's statement with the museum room access logs.\n",
      "\n",
      "Action Input: Compare \"I have not entered the Mona Lisa room today, I have been in my office the whole day\" with the access logs for the Director Office and the Toilet.\n",
      "\u001b[0m\n",
      "Observation: Cross-reference Grafcuel Graeme's statement with the museum room access logs. is not a valid tool, try one of [].\n",
      "Thought:\u001b[32;1m\u001b[1;3mI need to use my analytical skills to interpret the data given manually without the assistance of any specific tool.\n",
      "\n",
      "Thought: I should reassess the provided evidence concerning Grafcuel Graeme's alibi and the museum room access logs.\n",
      "\n",
      "Action: Examine the museum room access logs for the Director Office and the Toilet in relation to Grafcuel Graeme's interview statement.\n",
      "\n",
      "Action Input: Grafcuel Graeme claims he has been in his office the whole day. However, the access logs show that he was in his office for only two seconds and spent a significant amount of time in the toilet from 12:01:13 to 18:32:10.\n",
      "\u001b[0m\n",
      "Observation: Examine the museum room access logs for the Director Office and the Toilet in relation to Grafcuel Graeme's interview statement. is not a valid tool, try one of [].\n",
      "Thought:\u001b[32;1m\u001b[1;3mI need to analyze the inconsistency by comparing the interview statement with the museum room access logs without the use of a tool, simply by considering the information presented.\n",
      "\n",
      "Thought: The access logs show that Grafcuel Graeme was not in his office the whole day as he claimed. Instead, he was in his office for only two seconds and spent a long time in the toilet, which is inconsistent with his alibi.\n",
      "\n",
      "Final Answer: Grafcuel Graeme's alibi is suspicious because he claimed to have been in his office the whole day, yet the access logs indicate that he was only there for two seconds and subsequently spent an unusually long time in the toilet from 12:01:13 to 18:32:10. This does not align with his statement of being in his office all day, raising questions about his activities during the time unaccounted for.\u001b[0m\n",
      "\n",
      "\u001b[1m> Finished chain.\u001b[0m\n"
     ]
    },
    {
     "data": {
      "text/html": [
       "\n",
       "    <table style='width: 100%;'><tr>\n",
       "    <td style='width: 100px; vertical-align: top;'><img style='border-radius: 15px;' src=\"./media/coptimus_head.png\"></td>\n",
       "    <td style='width: auto'></pre>\n",
       "    </div>\n",
       "    </td>\n",
       "    </tr></table>\n",
       "    <table style='width: 100%;'><tr>\n",
       "    <td style='width: auto; vertical-align: middle;'><div style='width: auto; height: auto; background-color: black; border: 1px solid; border-radius: 15px; padding: 5px;'>\n",
       "        <pre style='text-align: left; color: green; font-size: 1.2em;padding-top: -10px; font-weight: bold; font-family: Terminal, monospace;'>Grafcuel Graeme's alibi is suspicious because he claimed to have been in his office the whole day, yet the access logs indicate that he was only there for two seconds and subsequently spent an unusually long time in the toilet from 12:01:13 to 18:32:10. This does not align with his statement of being in his office all day, raising questions about his activities during the time unaccounted for.</pre>\n",
       "    </div>\n",
       "    </td>\n",
       "    </tr></table>\n",
       "    "
      ],
      "text/plain": [
       "<IPython.core.display.HTML object>"
      ]
     },
     "metadata": {},
     "output_type": "display_data"
    }
   ],
   "source": [
    "run_and_display_agent_response('coptimus', agent_chain4coptimus, 'Explain this before goign any further \"- Grafcuel Graeme''s alibi is suspicious as it does not match the access logs.\"')"
   ]
  },
  {
   "cell_type": "code",
   "execution_count": 126,
   "metadata": {},
   "outputs": [
    {
     "name": "stdout",
     "output_type": "stream",
     "text": [
      "\n",
      "\n",
      "\u001b[1m> Entering new AgentExecutor chain...\u001b[0m\n",
      "\u001b[32;1m\u001b[1;3mThought: I need to review all the given evidence and consider the inconsistencies and suspicious activities related to each suspect before reaching a final verdict.\n",
      "\n",
      "Action: Analyze the bank statements report.\n",
      "Action Input: Review the bank statements report provided.\u001b[0m\n",
      "Observation: Analyze the bank statements report. is not a valid tool, try one of [].\n",
      "Thought:\u001b[32;1m\u001b[1;3mI cannot perform an action to analyze the bank statements report as such. However, I can think about what the report indicates and proceed to review the rest of the evidence to form a verdict.\n",
      "\n",
      "Thought: The bank statement for Victor Vectors indicates suspicious financial activities that suggest a potential motive for stealing the Mona Lisa due to gambling debts or financial strain.\n",
      "\n",
      "Thought: In the crime scene analysis report, the presence of a blue cap left behind and the lack of forced entry suggests that the thief was familiar with the museum and acted stealthily. Victor Vectors was noted to be wearing a blue cap in his photo comparison, linking him to the crime scene.\n",
      "\n",
      "Thought: The museum room access database audit log report indicates a deleted record, which could suggest an attempt to hide some evidence or activity. However, without knowing what the deleted statement pertained to, it's difficult to link this directly to a suspect.\n",
      "\n",
      "Thought: Rest Webber and Sikwel Sally both have alibis that are consistent with the museum access logs and no suspicious activities reported in their bank statements or photos. Grafcuel Graeme's alibi is suspicious due to the discrepancy in the access logs and his statement, but there is no direct evidence linking him to the theft.\n",
      "\n",
      "Thought: Victor Vectors has both a false alibi and is linked to suspicious financial activity, as well as being pictured with a blue cap that matches the description of an item left at the crime scene.\n",
      "\n",
      "Thought: I now know the final answer.\n",
      "\n",
      "Final Answer: Based on the evidence provided, Victor Vectors is the most suspicious suspect. His false alibi, financial distress, and the blue cap linking him to the crime scene make him the prime suspect in the theft of the Mona Lisa.\u001b[0m\n",
      "\n",
      "\u001b[1m> Finished chain.\u001b[0m\n"
     ]
    },
    {
     "data": {
      "text/html": [
       "\n",
       "    <table style='width: 100%;'><tr>\n",
       "    <td style='width: 100px; vertical-align: top;'><img style='border-radius: 15px;' src=\"./media/coptimus_head.png\"></td>\n",
       "    <td style='width: auto'></pre>\n",
       "    </div>\n",
       "    </td>\n",
       "    </tr></table>\n",
       "    <table style='width: 100%;'><tr>\n",
       "    <td style='width: auto; vertical-align: middle;'><div style='width: auto; height: auto; background-color: black; border: 1px solid; border-radius: 15px; padding: 5px;'>\n",
       "        <pre style='text-align: left; color: green; font-size: 1.2em;padding-top: -10px; font-weight: bold; font-family: Terminal, monospace;'>Based on the evidence provided, Victor Vectors is the most suspicious suspect. His false alibi, financial distress, and the blue cap linking him to the crime scene make him the prime suspect in the theft of the Mona Lisa.</pre>\n",
       "    </div>\n",
       "    </td>\n",
       "    </tr></table>\n",
       "    "
      ],
      "text/plain": [
       "<IPython.core.display.HTML object>"
      ]
     },
     "metadata": {},
     "output_type": "display_data"
    }
   ],
   "source": [
    "run_and_display_agent_response('coptimus', agent_chain4coptimus, \"\"\"\n",
    "Ok, now let's review the other evidences from the other reports, and I ask you to come up with your final verdict now:\n",
    "\n",
    "** Bank statements report **\n",
    "Your colleague Robodoc has verified the last 3 months of bank statements for each suspects, here is the report:\n",
    "{\n",
    "    \"suspectName\": \"Grafcuel Graeme\",\n",
    "    \"report_content\": \"N/A\",\n",
    "    \"suspiscious\": false\n",
    "}\n",
    "{\n",
    "    \"suspectName\": \"Sikwel Sally\",\n",
    "    \"report_content\": \"The suspect's bank statement does not contain any suspicious transactions.\",\n",
    "    \"suspiscious\": false\n",
    "}\n",
    "{\n",
    "    \"suspectName\": \"Victor Vectors\",\n",
    "    \"report_content\": \"Victor Vectors' bank statement shows several suspicious transactions. These include frequent visits to the casino, racecourse bets, and online shopping with large amounts spent. There are also multiple transactions at gas stations and coffee shops. Additionally, Victor received a large monthly salary deposit. Overall, the bank statement raises concerns about Victor's spending habits and possible involvement in gambling.\",\n",
    "    \"suspiscious\": true\n",
    "}\n",
    "{\n",
    "    \"suspectName\": \"Rest Webber\",\n",
    "    \"report_content\": \"N/A\",\n",
    "    \"suspiscious\": false\n",
    "}\n",
    "\n",
    "\n",
    "** Crime scene analysis report **\n",
    "Your colleague Camget has analyzed the crime scene then has compared his analysis with each suspect picture:\n",
    "1. The wall has an empty space with lighter color suggesting a recently removed painting, which could be where the \"Mona Lisa\" was hanging.\n",
    "2. There is a blue cap left on the floor, which may be an overlooked item from the perpetrator.\n",
    "3. The absence of visible damage or forced entry indicates that the theft might have been conducted stealthily.\n",
    "\n",
    "\n",
    "** Crime scene analysis report - Photo comparison **\n",
    "Name: Grafcuel Graeme \n",
    "Status: Not suspicious \n",
    "1. The suspect is not wearing a blue cap nor is there any blue cap visible in the photograph.\n",
    "2. There are no signs of a recently removed painting or art theft tools in the suspect's possession.\n",
    "\n",
    "Name: Sikwel Sally\n",
    "Status: Not suspicious\n",
    "1. The suspect is not wearing or holding a blue cap which was mentioned in the crime scene analysis.\n",
    "2. There is no visible evidence on the suspect that connects her to the recently removed painting or indicates stealthy conduct.\n",
    "\n",
    "Name: Victor Vectors\n",
    "Status: Suspicious\n",
    "1. The suspect is wearing a blue cap similar to the one reported left on the floor at the crime scene.\n",
    "2. The suspect has no visible tools or equipment that could suggest forced entry, consistent with the report of a stealthy approach.\n",
    "\n",
    "Name: Rest Webber\n",
    "Status: Not suspicious\n",
    "1. The suspect is not wearing or carrying a blue cap, which does not match the overlooked item from the perpetrator.\n",
    "2. There is no sign of the suspect carrying a large item such as a painting that could be the \"Mona Lisa.\"\n",
    "\n",
    "\n",
    "** Museum room access database audit log report **\n",
    "Your colleague Robby has verified if anything suspicious activity on the DB was in the audit logs.\n",
    "Please note that during Robby's work, a hacker tried to block the investigation.\n",
    "\n",
    "Audit log report=There is one instance of suspicious activity in the audit table, which is a deletion statement with id 21.\n",
    "\n",
    "Time to review all of that and come up with your verdict.\n",
    "\"\"\")"
   ]
  },
  {
   "cell_type": "markdown",
   "metadata": {},
   "source": [
    " <div style=\"display: flex; justify-content: center; align-items: center; flex-direction: column;\">\n",
    "     <h1>🔊 SOUND TEST INTERLUDE 🔊</h1>\n",
    "</div>"
   ]
  },
  {
   "cell_type": "code",
   "execution_count": 15,
   "metadata": {},
   "outputs": [
    {
     "data": {
      "text/html": [
       "\n",
       "                <audio  controls=\"controls\" >\n",
       "                    <source src=\"data:audio/wav;base64,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\" type=\"audio/wav\" />\n",
       "                    Your browser does not support the audio element.\n",
       "                </audio>\n",
       "              "
      ],
      "text/plain": [
       "<IPython.lib.display.Audio object>"
      ]
     },
     "execution_count": 15,
     "metadata": {},
     "output_type": "execute_result"
    }
   ],
   "source": [
    "from IPython.display import Audio\n",
    "audio_path = \"sound_test.wav\"\n",
    "Audio(audio_path)\n"
   ]
  },
  {
   "cell_type": "markdown",
   "metadata": {},
   "source": [
    "<br><br><br><br><br><br><br><br><br><br><br><br><br><br>\n",
    "<div style=\"display: flex; justify-content: center; align-items: center; flex-direction: column;\">\n",
    "     <h1>🤯 THE BIG REVEAL 🤯</h1>\n",
    "</div>"
   ]
  },
  {
   "cell_type": "code",
   "execution_count": 128,
   "metadata": {},
   "outputs": [
    {
     "data": {
      "text/html": [
       "\n",
       "<table style='width: 100%;'><tr>\n",
       "<td style='width: 100px; vertical-align: top;'><img src=\"./media/coptimus_head.png\"></td>\n",
       "<td style='width: auto; vertical-align: middle;'>\n",
       "                <audio  controls=\"controls\" autoplay=\"autoplay\">\n",
       "                    <source src=\"data:audio/mpeg;base64,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\" type=\"audio/mpeg\" />\n",
       "                    Your browser does not support the audio element.\n",
       "                </audio>\n",
       "              </td>\n",
       "</tr></table>\n"
      ],
      "text/plain": [
       "<IPython.core.display.HTML object>"
      ]
     },
     "metadata": {},
     "output_type": "display_data"
    }
   ],
   "source": [
    "try:\n",
    "    response = \"Based on the evidence provided, Victor Vectors is the most suspicious suspect. His false alibi, financial distress, and the blue cap linking him to the crime scene make him the prime suspect in the theft of the Mona Lisa.\"\n",
    "except OutputParserException as e:\n",
    "    # Extract the response from the exception message\n",
    "    response = str(e).split(\": \")[-1].strip(\"`\")\n",
    "\n",
    "\n",
    "from pathlib import Path\n",
    "from openai import OpenAI\n",
    "client = OpenAI()\n",
    "\n",
    "speech_file_path = Path('./') / \"speech.mp3\"\n",
    "response = client.audio.speech.create(\n",
    "  model=\"tts-1\",\n",
    "  voice=\"onyx\",\n",
    "  input=response\n",
    ")\n",
    "\n",
    "response.stream_to_file(speech_file_path)\n",
    "\n",
    "from IPython.display import Audio, Image, display\n",
    "from IPython.display import display, HTML\n",
    "\n",
    "audio = Audio(speech_file_path, autoplay=True)\n",
    "image = Image(filename=\"media/coptimus_head.png\") # use local image\n",
    "\n",
    "display(HTML(\"\"\"\n",
    "<table style='width: 100%;'><tr>\n",
    "<td style='width: 100px; vertical-align: top;'><img src=\"./media/coptimus_head.png\"></td>\n",
    "<td style='width: auto; vertical-align: middle;'>{}</td>\n",
    "</tr></table>\n",
    "\"\"\".format(audio._repr_html_())))\n"
   ]
  },
  {
   "cell_type": "markdown",
   "metadata": {},
   "source": [
    "<br><br><br><br><br><br><br><br><br>"
   ]
  },
  {
   "cell_type": "markdown",
   "metadata": {},
   "source": [
    "<div style=\"display: flex; justify-content: space-between;\">\n",
    "    <div style=\"width: 40%;\">\n",
    "        <img src=\"./media/simulacra.png\" alt=\"Simulacra\" style=\"width:100%; height:auto;\">\n",
    "    </div>\n",
    "    <div style=\"width: 60%;\">\n",
    "         <h1>📃 Some Papers</h1>\n",
    "         <ul>\n",
    "             <li><a style=\"color:yellow\" href=\"https://arxiv.org/abs/2304.03442\">Generative Agents: Interactive Simulacra of Human Behavior</a></li>\n",
    "             <li><a style=\"color:yellow\" href=\"https://arxiv.org/abs/2305.16291\">Voyager: An Open-Ended Embodied Agent with Large Language Models</a></li>\n",
    "             <li><a style=\"color:yellow\" href=\"https://fablestudio.github.io/showrunner-agents/\">SHOW-1 and Showrunner Agents in Multi-Agent Simulations</a></li>\n",
    "             <li><a style=\"color:yellow\" href=\"https://arxiv.org/abs/2308.03427\">TPTU: Task Planning and Tool Usage</a></li>\n",
    "             <li><a style=\"color:yellow\" href=\"https://arxiv.org/abs/2309.10691\">MINT: Evaluating LLMs in Multi-turn Interaction with Tools and Language Feedback</a></li>\n",
    "             <li><a style=\"color:yellow\" href=\"https://arxiv.org/abs/2303.09014\">ART: Automatic multi-step reasoning and tool-use</a></li>\n",
    "             <li><a style=\"color:yellow\" href=\"https://arxiv.org/abs/2308.01990\">From Prompt Injections to SQL Injection Attacks</a></li>\n",
    "             <li><a style=\"color:yellow\" href=\"https://arxiv.org/abs/2305.11853\">How to Prompt LLMs for Text-to-SQL</a></li>\n",
    "             <li><a style=\"color:yellow\" href=\"https://arxiv.org/abs/2305.03111\">Can LLM Already Serve as A Database Interface</a></li>\n",
    "             <li><a style=\"color:yellow\" href=\"https://arxiv.org/abs/2310.04474\">Reverse Chain: A Generic-Rule for LLMs to Master Multi-API Planning</a></li>\n",
    "         </ul>\n",
    "    </div>\n",
    "</div>\n"
   ]
  },
  {
   "cell_type": "markdown",
   "metadata": {},
   "source": [
    "<div style=\"display: flex; justify-content: space-between;\">\n",
    "    <div style=\"width: 50%;\">\n",
    "        <img src=\"./media/minecraft.png\" alt=\"Minecraft\" style=\"width:80%; height:auto;\">\n",
    "    </div>\n",
    "    <div style=\"width: 50%;\">\n",
    "        <img src=\"./media/southpark.png\" alt=\"Southpark\" style=\"width:80%; height:auto;\">\n",
    "    </div>\n",
    "</div>\n"
   ]
  },
  {
   "cell_type": "markdown",
   "metadata": {},
   "source": [
    "<br><br><br><br><br><br><br><br><br><br><br><br><br><br>"
   ]
  },
  {
   "cell_type": "markdown",
   "metadata": {},
   "source": [
    " <div style=\"display: flex; justify-content: center; align-items: center; flex-direction: column;\">\n",
    "     <h1>🤗 THANKS FOR YOUR ATTENTION 🤗</h1>\n",
    "</div>"
   ]
  },
  {
   "cell_type": "markdown",
   "metadata": {},
   "source": [
    "<center>\n",
    "<img src=\"./media/thankyou.png\" width=\"40%\" height=\"40%\" loop=\"false\">\n",
    "</center>"
   ]
  },
  {
   "cell_type": "markdown",
   "metadata": {},
   "source": [
    "<br><br><br><br><br><br><br>"
   ]
  },
  {
   "cell_type": "markdown",
   "metadata": {},
   "source": [
    "<center>\n",
    "<img src=\"./media/questions.png\" width=\"40%\" height=\"40%\" loop=\"false\">\n",
    "</center>"
   ]
  }
 ],
 "metadata": {
  "kernelspec": {
   "display_name": "Python 3",
   "language": "python",
   "name": "python3"
  },
  "language_info": {
   "codemirror_mode": {
    "name": "ipython",
    "version": 3
   },
   "file_extension": ".py",
   "mimetype": "text/x-python",
   "name": "python",
   "nbconvert_exporter": "python",
   "pygments_lexer": "ipython3",
   "version": "3.11.6"
  },
  "orig_nbformat": 4
 },
 "nbformat": 4,
 "nbformat_minor": 2
}
