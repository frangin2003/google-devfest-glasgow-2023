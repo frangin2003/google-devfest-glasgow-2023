{
 "cells": [
  {
   "cell_type": "markdown",
   "metadata": {},
   "source": [
    "<center>\n",
    "    <img src=\"./media/title.png\" alt=\"title\" width=\"46%\" height=\"46%\">\n",
    "</center>"
   ]
  },
  {
   "cell_type": "markdown",
   "metadata": {},
   "source": [
    "<div style=\"display: flex; justify-content: space-between;\">\n",
    "     <div>\n",
    "         <h2 style=\"color:lightseagreen;\">Charles-Philippe Bernard</h2>\n",
    "         <h3><a>@charlyouki</a><br>\n",
    "         <h4>Senior Manager of Software Engineering</h4>\n",
    "         <h4><ul><li>UX/UI Strategy</li><li>LLM integration and AI Strategy</li></ul></h4>\n",
    "        <h2 style=\"color:lightgrey; font-family:'Times New Roman';\">JP Morgan Chase</h2>\n",
    "    </div>\n",
    "    <div>\n",
    "        <center>\n",
    "        <h5><a>frangin2003.github.io</a><br>\n",
    "            <img src=\"./media/qr-code.png\" alt=\"QR Code\" width=\"50%\" height=\"50%\" style=\"margin-top:10px\">\n",
    "        </h5>\n",
    "        </center>\n",
    "    </div>\n",
    "    <div>\n",
    "        <center>\n",
    "        <h5><a>frangin2003/google-devfest-glasgow-2023</a><br>\n",
    "            <img src=\"./media/qr-code2.png\" alt=\"QR Code\" width=\"50%\" height=\"50%\" style=\"margin-top:10px\">\n",
    "        </h5>\n",
    "        </center>\n",
    "    </div>\n",
    "</div>"
   ]
  },
  {
   "cell_type": "markdown",
   "metadata": {},
   "source": [
    "<br><img src=\"./media/blablabla.gif\" width=\"25%\" height=\"25%\" loop=\"false\"> <img src=\"./media/blablabla2v3.gif\" width=\"70%\" height=\"70%\">\n",
    "<br><br><br><br>"
   ]
  },
  {
   "cell_type": "markdown",
   "metadata": {},
   "source": [
    "##### 🗝️ Key terms\n",
    " | 🥩 Raw models | GPT3.5, GPT4 |\n",
    " | --- | --- |\n",
    " | 🟦 Context window | Prompt+LLM output |\n",
    " | 📃 Instructions | Part of the prompt |\n",
    " | 💬 Prompt | Input of LLM call |\n",
    " | 🔫 Zero-shot | Zero examples in context |\n",
    " | 💽 Memory | Part of the prompt |\n",
    " | ⛓️ Chains | Combine multiple components |\n",
    " | 🧰 Tools | GraphQL tool, REST API tool, custom tools |\n",
    " | 🧠 Reasonning | Chain of thoughts, Tree of thoughts |\n",
    " | 🤖 AI agent | ReAct Zero Shot |\n",
    " | ↖️ Embeddings | OpenAI embeddings |\n"
   ]
  },
  {
   "cell_type": "markdown",
   "metadata": {},
   "source": [
    "# <img src=\"./media/anatomyv3.gif\" alt=\"Anatomy Image\" style=\"width:80%; height:80%;\">\n"
   ]
  },
  {
   "cell_type": "markdown",
   "metadata": {},
   "source": [
    "<center>\n",
    "<img src=\"./media/the_mona_lisa_case.gif\" width=\"50%\" height=\"50%\" loop=\"false\">\n",
    "</center>"
   ]
  },
  {
   "cell_type": "markdown",
   "metadata": {},
   "source": [
    "<center>\n",
    "<img src=\"./media/thief.gif\" width=\"50%\" height=\"50%\" loop=\"false\">\n",
    "</center>"
   ]
  },
  {
   "cell_type": "markdown",
   "metadata": {},
   "source": [
    "<center>\n",
    "<img src=\"./media/mona_lisa3.png\" width=\"50%\" height=\"50%\" loop=\"false\">\n",
    "</center>"
   ]
  },
  {
   "cell_type": "markdown",
   "metadata": {},
   "source": [
    "<center>\n",
    "<img src=\"./media/coptimus_title.png\" width=\"50%\" height=\"50%\" loop=\"false\">\n",
    "</center>"
   ]
  },
  {
   "cell_type": "markdown",
   "metadata": {},
   "source": [
    "<div style=\"display: flex; justify-content: center; align-items: center; flex-direction: row;\">\n",
    "    <img src=\"./media/guard_title.png\" alt=\"Guard\" style=\"width:25%; height:25%;\">\n",
    "    <img src=\"./media/curator_title.png\" alt=\"Curator\" style=\"width:25%; height:25%;\">\n",
    "    <img src=\"./media/janitor_title.png\" alt=\"Janitor\" style=\"width:25%; height:25%;\">\n",
    "    <img src=\"./media/director_title.png\" alt=\"Director\" style=\"width:25%; height:25%;\">\n",
    "</div>"
   ]
  },
  {
   "cell_type": "markdown",
   "metadata": {
    "tags": [
     "AI agent headshots"
    ]
   },
   "source": [
    "<div style=\"display: flex; justify-content: center; align-items: center; flex-direction: row;\">\n",
    "    <img src=\"./media/dr_watts_on_title.png\" alt=\"Guard\" style=\"width:25%; height:25%;\">\n",
    "    <img src=\"./media/inspector_camget_title.png\" alt=\"Curator\" style=\"width:25%; height:25%;\">\n",
    "    <img src=\"./media/robby_sciuto_title.png\" alt=\"Janitor\" style=\"width:25%; height:25%;\">\n",
    "    <img src=\"./media/robodoc_title.png\" alt=\"Director\" style=\"width:25%; height:25%;\">\n",
    "</div>"
   ]
  },
  {
   "cell_type": "markdown",
   "metadata": {},
   "source": [
    "Begin!"
   ]
  },
  {
   "cell_type": "code",
   "execution_count": 1,
   "metadata": {},
   "outputs": [],
   "source": [
    "%%capture\n",
    "from pydantic import BaseModel, Field\n",
    "from typing import Tuple\n",
    "\n",
    "from langchain import LLMChain\n",
    "from langchain.agents import ZeroShotAgent, Tool, AgentExecutor, initialize_agent, AgentType\n",
    "from langchain.memory import ConversationBufferMemory\n",
    "from langchain.chat_models import ChatOpenAI\n",
    "from langchain.prompts import PromptTemplate\n",
    "from langchain.prompts.chat import (\n",
    "    ChatPromptTemplate,\n",
    "    SystemMessagePromptTemplate,\n",
    "    AIMessagePromptTemplate,\n",
    "    HumanMessagePromptTemplate,\n",
    ")\n",
    "from langchain.schema import (\n",
    "    AIMessage,\n",
    "    HumanMessage,\n",
    "    SystemMessage\n",
    ")\n",
    "from langchain.output_parsers import PydanticOutputParser\n",
    "from langchain.agents import load_tools\n",
    "from langchain.llms import OpenAI, Cohere, GPT4All, CTransformers\n",
    "from langchain.chains import APIChain, RetrievalQA\n",
    "from langchain.utilities import SQLDatabase\n",
    "from langchain_experimental.sql import SQLDatabaseChain\n",
    "from langchain.callbacks.streaming_stdout import StreamingStdOutCallbackHandler\n",
    "\n",
    "from langchain.callbacks.manager import (\n",
    "    AsyncCallbackManagerForToolRun,\n",
    "    CallbackManagerForToolRun,\n",
    ")\n",
    "from langchain.tools.base import BaseTool\n",
    "from langchain.utilities.graphql import GraphQLAPIWrapper\n",
    "from langchain.document_loaders import TextLoader\n",
    "from langchain.embeddings.openai import OpenAIEmbeddings\n",
    "from langchain.llms import OpenAI\n",
    "from langchain.text_splitter import CharacterTextSplitter\n",
    "from langchain.vectorstores import Chroma\n",
    "\n",
    "from IPython.display import display, update_display, HTML, Javascript, clear_output\n",
    "from utils import pretty_print\n",
    "from utils import convert_to_json\n",
    "from utils import display_agent_response\n",
    "from utils import get_agent_chain\n",
    "from utils import create_human_message_for_gpt4vision\n",
    "from utils import display_html_for_streaming\n",
    "from utils import stream_chat_content\n",
    "from utils import run_and_display_agent_response\n",
    "from utils import get_retrieval_qa_pydantic_from_document\n",
    "from dotenv import load_dotenv\n",
    "import os\n",
    "import json\n",
    "import requests\n",
    "import sqlite3\n",
    "from typing import Any\n",
    "from typing import Optional\n",
    "\n",
    "load_dotenv()"
   ]
  },
  {
   "cell_type": "code",
   "execution_count": 2,
   "metadata": {},
   "outputs": [],
   "source": [
    "# 👮‍♂️ create the police station DB\n",
    "import sqlite3\n",
    "from datetime import datetime\n",
    "\n",
    "# Connect to or create the SQLite database\n",
    "conn = sqlite3.connect('police.db')\n",
    "\n",
    "# Create a cursor object\n",
    "cursor = conn.cursor()\n",
    "\n",
    "cursor.execute('DROP TABLE IF EXISTS Cases')\n",
    "cursor.execute('DROP TABLE IF EXISTS Suspects')\n",
    "cursor.execute('DROP TABLE IF EXISTS Policemen')\n",
    "cursor.execute('DROP TABLE IF EXISTS CasePolicemen')\n",
    "cursor.execute('DROP TABLE IF EXISTS PolicemenGrade')\n",
    "cursor.execute('DROP TABLE IF EXISTS PolicemenWages')\n",
    "\n",
    "\n",
    "# Create tables for the database if they don't exist\n",
    "cursor.execute('''\n",
    "    CREATE TABLE IF NOT EXISTS Cases (\n",
    "        case_id INTEGER PRIMARY KEY AUTOINCREMENT,\n",
    "        case_number TEXT,\n",
    "        details TEXT,\n",
    "        date_created DATE\n",
    "    )\n",
    "''')\n",
    "\n",
    "cursor.execute('''\n",
    "    CREATE TABLE IF NOT EXISTS Suspects (\n",
    "        suspect_id INTEGER PRIMARY KEY AUTOINCREMENT,\n",
    "        name TEXT,\n",
    "        question TEXT,\n",
    "        answer TEXT,\n",
    "        date_created DATE\n",
    "    )\n",
    "''')\n",
    "\n",
    "cursor.execute('''\n",
    "    CREATE TABLE IF NOT EXISTS Policemen (\n",
    "        policeman_id INTEGER PRIMARY KEY AUTOINCREMENT,\n",
    "        name TEXT,\n",
    "        rank TEXT,\n",
    "        date_joined DATE\n",
    "    )\n",
    "''')\n",
    "\n",
    "cursor.execute('''\n",
    "    CREATE TABLE IF NOT EXISTS CasePolicemen (\n",
    "        case_id INTEGER,\n",
    "        policeman_id INTEGER,\n",
    "        FOREIGN KEY (case_id) REFERENCES Cases (case_id),\n",
    "        FOREIGN KEY (policeman_id) REFERENCES Policemen (policeman_id)\n",
    "    )\n",
    "''')\n",
    "\n",
    "cursor.execute('''\n",
    "    CREATE TABLE IF NOT EXISTS PolicemenGrade (\n",
    "        grade_id INTEGER PRIMARY KEY AUTOINCREMENT,\n",
    "        grade TEXT\n",
    "    )\n",
    "''')\n",
    "\n",
    "cursor.execute('''\n",
    "    CREATE TABLE IF NOT EXISTS PolicemenWages (\n",
    "        wage_id INTEGER PRIMARY KEY AUTOINCREMENT,\n",
    "        policeman_id INTEGER,\n",
    "        year INTEGER,\n",
    "        wage_amount REAL,\n",
    "        FOREIGN KEY (policeman_id) REFERENCES Policemen (policeman_id)\n",
    "    )\n",
    "''')\n",
    "\n",
    "# Insert data into the tables\n",
    "grades_data = [(\"Inspector\",), (\"Sergeant\",), (\"Detective\",)]\n",
    "cursor.executemany('INSERT INTO PolicemenGrade (grade) VALUES (?)', grades_data)\n",
    "\n",
    "policemen_data = [\n",
    "    (\"Inspector Charles\", \"Inspector\", \"2020-01-15\"),\n",
    "    (\"Inspector Smith\", \"Sergeant\", \"2018-05-20\"),\n",
    "    (\"Inspector Johnson\", \"Detective\", \"2017-11-10\"),\n",
    "]\n",
    "cursor.executemany('INSERT INTO Policemen (name, rank, date_joined) VALUES (?, ?, ?)', policemen_data)\n",
    "\n",
    "cases_data = [\n",
    "    (\"Case #54504005\", \"The Mona Lisa paint is reported missing from its location, a dedicated room in the Museum of Agadir. We currently assume the painting is stolen.\", \"2023-10-20\"),\n",
    "    (\"Case #12345678\", \"A rare gemstone was stolen from a local jewelry store.\", \"2023-10-21\"),\n",
    "    (\"Case #98765432\", \"A mysterious arson incident occurred at a historical library.\", \"2023-10-22\"),\n",
    "]\n",
    "\n",
    "cursor.executemany('INSERT INTO Cases (case_number, details, date_created) VALUES (?, ?, ?)', cases_data)\n",
    "\n",
    "suspects_data = [\n",
    "    (\"Rest Webber\", \"What time did you last check the Mona Lisa room?\", \"I did my usual rounds at 10 PM. Everything was in order.\", \"2023-10-20\"),\n",
    "    (\"SQL Sally\", \"When did you last access the Mona Lisa room?\", \"I was last there at 7 PM for a general inspection.\", \"2023-10-20\"),\n",
    "    (\"Victor Vectors\", \"When did you last clean the Mona Lisa room?\", \"I haven't cleaned there for a week.\", \"2023-10-20\"),\n",
    "    (\"GraphQL Graeme\", \"Did you have any issues with the Museum systems recently?\", \"We had some issues today, I was not able to enter my office, but Victor, who used to work in IT, has sorted it out. Bless him!\", \"2023-10-20\"),\n",
    "    (\"Lucy Larceny\", \"What were you doing near the jewelry store?\", \"I was just passing by, I swear!\", \"2023-10-21\"),\n",
    "    (\"Arson Al\", \"Did you see anyone suspicious at the library?\", \"I saw someone running away, but couldn't identify them.\", \"2023-10-22\"),\n",
    "]\n",
    "\n",
    "cursor.executemany('INSERT INTO Suspects (name, question, answer, date_created) VALUES (?, ?, ?, ?)', suspects_data)\n",
    "\n",
    "case_policemen_data = [\n",
    "    (1, 1),  # Inspector Charles on Mona Lisa case\n",
    "    (2, 2),  # Inspector Smith on Gemstone case\n",
    "    (3, 3),  # Inspector Johnson on Library arson case\n",
    "    (2, 1),  # Inspector Charles also on Gemstone case\n",
    "    (3, 2),  # Inspector Smith also on Library arson case\n",
    "]\n",
    "\n",
    "cursor.executemany('INSERT INTO CasePolicemen (case_id, policeman_id) VALUES (?, ?)', case_policemen_data)\n",
    "\n",
    "# Insert dummy data for policeman wages\n",
    "wages_data = [\n",
    "    (1, 2021, 55000.0),\n",
    "    (1, 2022, 56000.0),\n",
    "    (1, 2023, 57000.0),\n",
    "    (2, 2021, 50000.0),\n",
    "    (2, 2022, 51000.0),\n",
    "    (2, 2023, 52000.0),\n",
    "    (3, 2021, 60000.0),\n",
    "    (3, 2022, 61000.0),\n",
    "    (3, 2023, 62000.0),\n",
    "]\n",
    "cursor.executemany('INSERT INTO PolicemenWages (policeman_id, year, wage_amount) VALUES (?, ?, ?)', wages_data)\n",
    "\n",
    "\n",
    "# Commit the changes and close the connection\n",
    "conn.commit()\n",
    "conn.close()\n"
   ]
  },
  {
   "cell_type": "markdown",
   "metadata": {},
   "source": [
    " <div style=\"display: flex; justify-content: center; align-items: center; flex-direction: column;\">\n",
    "     <h1>⚠️ START THE POLICE STATION REST API ⚠️</h1>\n",
    "</div>\n"
   ]
  },
  {
   "cell_type": "code",
   "execution_count": 3,
   "metadata": {},
   "outputs": [],
   "source": [
    "# 🏛️ create the museum room activity DB\n",
    "import sqlite3\n",
    "\n",
    "# Connect to SQLite database\n",
    "conn = sqlite3.connect('museum_activity.db')\n",
    "cursor = conn.cursor()\n",
    "\n",
    "# Drop tables if they exist\n",
    "cursor.execute(\"DROP TABLE IF EXISTS Employees\")\n",
    "cursor.execute(\"DROP TABLE IF EXISTS RoomAccess\")\n",
    "\n",
    "# Create tables\n",
    "cursor.execute(\"\"\"\n",
    "CREATE TABLE Employees (\n",
    "    id INTEGER PRIMARY KEY AUTOINCREMENT,\n",
    "    name TEXT NOT NULL,\n",
    "    role TEXT NOT NULL\n",
    ");\n",
    "\"\"\")\n",
    "\n",
    "cursor.execute(\"\"\"\n",
    "CREATE TABLE RoomAccess (\n",
    "    id INTEGER PRIMARY KEY AUTOINCREMENT,\n",
    "    employee_id INTEGER,\n",
    "    room TEXT NOT NULL,\n",
    "    timestamp TEXT NOT NULL,\n",
    "    comment TEXT NOT NULL,\n",
    "    FOREIGN KEY (employee_id) REFERENCES Employees(id)\n",
    ");\n",
    "\"\"\")\n",
    "\n",
    "# Insert data\n",
    "cursor.executemany(\"INSERT INTO Employees (name, role) VALUES (?, ?)\", [\n",
    "    ('Rest Webber', 'Night Guard'),\n",
    "    ('SQL Sally', 'Curator'),\n",
    "    ('Victor Vectors', 'Janitor'),\n",
    "    ('GraphQL Graeme', 'Museum Director')\n",
    "])\n",
    "\n",
    "cursor.executemany(\"INSERT INTO RoomAccess (employee_id, room, timestamp, comment) VALUES (?, ?, ?, ?)\", [\n",
    "    (4, 'Museum Office', '2023-10-01 07:00', 'Error: Access Not Working'),\n",
    "    (1, 'Mona Lisa Room', '2023-10-01 22:00', 'Accessed'),\n",
    "    (2, 'Mona Lisa Room', '2023-10-01 19:00', 'Accessed'),\n",
    "])\n",
    "\n",
    "# Commit and close\n",
    "conn.commit()\n",
    "conn.close()\n"
   ]
  },
  {
   "cell_type": "markdown",
   "metadata": {},
   "source": [
    " <div style=\"display: flex; justify-content: center; align-items: center; flex-direction: column;\">\n",
    "     <h1>⚠️ START THE MUSEUM ROOM ACTIVITY GRAPHQL API ⚠️</h1>\n",
    "</div>\n"
   ]
  },
  {
   "cell_type": "markdown",
   "metadata": {},
   "source": [
    "<table style='width: 100%;'><tr>\n",
    "<td style='width: 100px; vertical-align: top;border: none;'><img style=\"transform: scaleX(-1);border-radius: 15px;\" src=\"./media/dr_watts_on_head.png\"></td>\n",
    "<td style='width: auto; vertical-align: middle;'><h2 style=\"color:orange;\">Dr. Watts-On - archive/documentation/secretary AI agent</h2>\n",
    "<h4>Interacts with the  Police REST API to retrieve and inserts information in the Police DB like:\n",
    "<ul><li>other agents reports</li><li>case details</li><li>suspect list and interviews...</li></ul>Falls back to doing SQL queries directly to the DB when the REST API is down</td></h4>\n",
    "</tr></table>"
   ]
  },
  {
   "cell_type": "code",
   "execution_count": 2,
   "metadata": {},
   "outputs": [],
   "source": [
    "llm4watson = ChatOpenAI(model_name=\"gpt-3.5-turbo-16k\", openai_api_key=os.getenv(\"OPENAI_API_KEY\"))"
   ]
  },
  {
   "cell_type": "code",
   "execution_count": 3,
   "metadata": {},
   "outputs": [],
   "source": [
    "# 📃 custom instructions\n",
    "prefix4watson = \"\"\"You are Dr. Watts-On, archive/documentation/secretary AI agent working for the police force.\n",
    "Your mission is to interact with the Police REST API to retrieve and inserts information in the Police DB like:\n",
    "- other agents reports\n",
    "- case details\n",
    "- suspect list and interviews...\n",
    "When you respond, make sure to add break lines after each sentence.\n",
    "If the user is engaging a casual discussion, do not use tools, just respond back directly.\n",
    "If the REST API is down, you fall back to doing SQL queries directly to the DB when the REST API is down.\"\"\""
   ]
  },
  {
   "cell_type": "code",
   "execution_count": 4,
   "metadata": {},
   "outputs": [],
   "source": [
    "# 🧰 define the tools\n",
    "\n",
    "# 🕵️ Police Report API APIChain Tool\n",
    "POLICE_REPORTING_API_DOCS = \"\"\"\n",
    "BASE URL: http://localhost:5000/\n",
    "API Documentation\n",
    "\n",
    "Method: GET\n",
    "Path: /policemen\n",
    "Description: Retrieves a list of all policemen from the database.\n",
    "\n",
    "Method: GET\n",
    "Path: /policemen/<policeman_id>\n",
    "Description: Fetches details of a specific policeman by their ID.\n",
    "\n",
    "Method: GET\n",
    "Path: /cases/<case_id>\n",
    "Description: Retrieves details of a specific case, including suspects, the assigned policeman, and the policeman's grade.\n",
    "\n",
    "Method: POST\n",
    "Path: /cases\n",
    "Description: Allows the creation of a new case by providing case details.\n",
    "Python Example:\n",
    "import requests\n",
    "new_case_data = {\n",
    "'case_number': 'Case #123456',\n",
    "'details': 'Details of the new case',\n",
    "'date_created': '2023-11-22'\n",
    "}\n",
    "response = requests.post(\"http://localhost:5000/cases\", json=new_case_data)\n",
    "\n",
    "Please note that in all Python examples, replace placeholder values with your actual values. In the case of an error, the response will contain an error message.\"\"\"\n",
    "\n",
    "policeAPIChain = APIChain.from_llm_and_api_docs(llm4watson, POLICE_REPORTING_API_DOCS, limit_to_domains=[\n",
    "    \"http://localhost:5000/\",\n",
    "    ], verbose=True)\n",
    "\n",
    "# 🏛️ Museum DB SQLChain Tool\n",
    "police_db = SQLDatabase.from_uri(\"sqlite:///police.db\")\n",
    "police_db_chain = SQLDatabaseChain.from_llm(llm4watson, police_db, verbose=True)\n",
    "\n",
    "def policeDB(input: str) -> str:\n",
    "    return police_db_chain.run(input)\n",
    "\n",
    "def policeAPI(input: str) -> str:\n",
    "    return policeAPIChain.run(input)\n",
    "\n",
    "tools4watson = [\n",
    "    Tool(\n",
    "        name='Police REST API',\n",
    "        func= lambda string: policeAPI(string),\n",
    "        description=\n",
    "\"\"\"Utilize the REST API to manage the police DB.\"\"\"\n",
    "    ),\n",
    "    Tool(\n",
    "        name='Police DB',\n",
    "        func= lambda string: policeDB(string),\n",
    "        description=\n",
    "\"\"\"Access the Police SQL database.\"\"\"\n",
    "    )\n",
    "]"
   ]
  },
  {
   "cell_type": "code",
   "execution_count": 5,
   "metadata": {},
   "outputs": [],
   "source": [
    "# setup 📜 prompt, memory 💽, chains ⛓️ and agent 🤖\n",
    "agent_chain4watson = get_agent_chain(llm4watson, prefix4watson, tools4watson)"
   ]
  },
  {
   "cell_type": "code",
   "execution_count": 6,
   "metadata": {},
   "outputs": [
    {
     "name": "stdout",
     "output_type": "stream",
     "text": [
      "\n",
      "\n",
      "\u001b[1m> Entering new AgentExecutor chain...\u001b[0m\n",
      "\u001b[32;1m\u001b[1;3mThought: This is a casual discussion, so I can respond directly without using any tools.\n",
      "Action: N/A\u001b[0m\n",
      "Observation: Invalid Format: Missing 'Action Input:' after 'Action:'\n",
      "Thought:\u001b[32;1m\u001b[1;3mI need to provide a response directly without using any tools.\n",
      "Final Answer: I am Dr. Watts-On, an AI agent working for the police force.\u001b[0m\n",
      "\n",
      "\u001b[1m> Finished chain.\u001b[0m\n"
     ]
    },
    {
     "data": {
      "text/html": [
       "\n",
       "    <table style='width: 100%;'><tr>\n",
       "    <td style='width: 100px; vertical-align: top;'><img style='transform: scaleX(-1);border-radius: 15px;' src=\"./media/dr_watts_on_head.png\"></td>\n",
       "    <td style='width: auto'></pre>\n",
       "    </div>\n",
       "    </td>\n",
       "    </tr></table>\n",
       "    <table style='width: 100%;'><tr>\n",
       "    <td style='width: auto; vertical-align: middle;'><div style='width: auto; height: auto; background-color: black; border: 1px solid; border-radius: 15px; padding: 5px;'>\n",
       "        <pre style='text-align: left; color: green; font-size: 1.2em;padding-top: -10px; font-weight: bold; font-family: Terminal, monospace;'>I am Dr. Watts-On, an AI agent working for the police force.</pre>\n",
       "    </div>\n",
       "    </td>\n",
       "    </tr></table>\n",
       "    "
      ],
      "text/plain": [
       "<IPython.core.display.HTML object>"
      ]
     },
     "metadata": {},
     "output_type": "display_data"
    }
   ],
   "source": [
    "run_and_display_agent_response('dr_watts_on', agent_chain4watson, \"Hello, who are you?\", True)\n"
   ]
  },
  {
   "cell_type": "code",
   "execution_count": 80,
   "metadata": {},
   "outputs": [
    {
     "name": "stdout",
     "output_type": "stream",
     "text": [
      "\n",
      "\n",
      "\u001b[1m> Entering new AgentExecutor chain...\u001b[0m\n",
      "\u001b[32;1m\u001b[1;3mThought: The user wants to retrieve the details of a specific case and display it in a readable format.\n",
      "Action: Police REST API\n",
      "Action Input: GET /cases/1\u001b[0m\n",
      "\n",
      "\u001b[1m> Entering new APIChain chain...\u001b[0m\n",
      "\u001b[32;1m\u001b[1;3mhttp://localhost:5000/cases/1\u001b[0m\n",
      "\u001b[33;1m\u001b[1;3m{\n",
      "  \"case\": {\n",
      "    \"case_id\": 1,\n",
      "    \"case_number\": \"Case #54504005\",\n",
      "    \"date_created\": \"2023-10-20\",\n",
      "    \"details\": \"The Mona Lisa paint is reported missing from its location, a dedicated room in the Museum of Agadir. We currently assume the painting is stolen.\"\n",
      "  },\n",
      "  \"policeman\": {\n",
      "    \"date_joined\": \"2020-01-15\",\n",
      "    \"grade\": \"Inspector\",\n",
      "    \"name\": \"Inspector Charles\",\n",
      "    \"policeman_id\": 1,\n",
      "    \"rank\": \"Inspector\"\n",
      "  },\n",
      "  \"suspects\": [\n",
      "    {\n",
      "      \"answer\": \"I did my usual rounds at 10 PM. Everything was in order.\",\n",
      "      \"date_created\": \"2023-10-20\",\n",
      "      \"name\": \"Rest Webber\",\n",
      "      \"question\": \"What time did you last check the Mona Lisa room?\",\n",
      "      \"suspect_id\": 1\n",
      "    },\n",
      "    {\n",
      "      \"answer\": \"I was last there at 7 PM for a general inspection.\",\n",
      "      \"date_created\": \"2023-10-20\",\n",
      "      \"name\": \"SQL Sally\",\n",
      "      \"question\": \"When did you last access the Mona Lisa room?\",\n",
      "      \"suspect_id\": 2\n",
      "    },\n",
      "    {\n",
      "      \"answer\": \"I haven't cleaned there for a week.\",\n",
      "      \"date_created\": \"2023-10-20\",\n",
      "      \"name\": \"Victor Vectors\",\n",
      "      \"question\": \"When did you last clean the Mona Lisa room?\",\n",
      "      \"suspect_id\": 3\n",
      "    },\n",
      "    {\n",
      "      \"answer\": \"We had some issues today, I was not able to enter my office, but Victor, who used to work in IT, has sorted it out. Bless him!\",\n",
      "      \"date_created\": \"2023-10-20\",\n",
      "      \"name\": \"GraphQL Graeme\",\n",
      "      \"question\": \"Did you have any issues with the Museum systems recently?\",\n",
      "      \"suspect_id\": 4\n",
      "    }\n",
      "  ]\n",
      "}\n",
      "\u001b[0m\n",
      "\n",
      "\u001b[1m> Finished chain.\u001b[0m\n",
      "\n",
      "Observation: \u001b[36;1m\u001b[1;3mThe original question was to retrieve the details of a specific case with ID 1. The response from the API includes the following information:\n",
      "\n",
      "- Case details:\n",
      "  - Case ID: 1\n",
      "  - Case number: \"Case #54504005\"\n",
      "  - Date created: \"2023-10-20\"\n",
      "  - Details: \"The Mona Lisa paint is reported missing from its location, a dedicated room in the Museum of Agadir. We currently assume the painting is stolen.\"\n",
      "\n",
      "- Policeman details:\n",
      "  - Policeman ID: 1\n",
      "  - Name: \"Inspector Charles\"\n",
      "  - Rank: \"Inspector\"\n",
      "  - Date joined: \"2020-01-15\"\n",
      "  - Grade: \"Inspector\"\n",
      "\n",
      "- Suspects details:\n",
      "  - Suspect 1:\n",
      "    - Suspect ID: 1\n",
      "    - Name: \"Rest Webber\"\n",
      "    - Question: \"What time did you last check the Mona Lisa room?\"\n",
      "    - Answer: \"I did my usual rounds at 10 PM. Everything was in order.\"\n",
      "    - Date created: \"2023-10-20\"\n",
      "  - Suspect 2:\n",
      "    - Suspect ID: 2\n",
      "    - Name: \"SQL Sally\"\n",
      "    - Question: \"When did you last access the Mona Lisa room?\"\n",
      "    - Answer: \"I was last there at 7 PM for a general inspection.\"\n",
      "    - Date created: \"2023-10-20\"\n",
      "  - Suspect 3:\n",
      "    - Suspect ID: 3\n",
      "    - Name: \"Victor Vectors\"\n",
      "    - Question: \"When did you last clean the Mona Lisa room?\"\n",
      "    - Answer: \"I haven't cleaned there for a week.\"\n",
      "    - Date created: \"2023-10-20\"\n",
      "  - Suspect 4:\n",
      "    - Suspect ID: 4\n",
      "    - Name: \"GraphQL Graeme\"\n",
      "    - Question: \"Did you have any issues with the Museum systems recently?\"\n",
      "    - Answer: \"We had some issues today, I was not able to enter my office, but Victor, who used to work in IT, has sorted it out. Bless him!\"\n",
      "    - Date created: \"2023-10-20\"\n",
      "\n",
      "Based on this information, the summary of the response is that the details of the specific case with ID 1 are provided, including the case number, date created, and details of the missing painting. The assigned policeman, Inspector Charles, is also mentioned, along with their rank, date joined, and grade. Additionally, there are four suspects listed, each with their respective names, questions, answers, and dates created.\u001b[0m\n",
      "Thought:\u001b[32;1m\u001b[1;3mI have retrieved the details of case ID 1 and displayed them in a readable format.\n",
      "Final Answer: The details of case ID 1 are as follows:\n",
      "\n",
      "- Case ID: 1\n",
      "- Case number: \"Case #54504005\"\n",
      "- Date created: \"2023-10-20\"\n",
      "- Details: \"The Mona Lisa paint is reported missing from its location, a dedicated room in the Museum of Agadir. We currently assume the painting is stolen.\"\n",
      "\n",
      "- Policeman details:\n",
      "  - Policeman ID: 1\n",
      "  - Name: \"Inspector Charles\"\n",
      "  - Rank: \"Inspector\"\n",
      "  - Date joined: \"2020-01-15\"\n",
      "  - Grade: \"Inspector\"\n",
      "\n",
      "- Suspects details:\n",
      "  - Suspect 1:\n",
      "    - Suspect ID: 1\n",
      "    - Name: \"Rest Webber\"\n",
      "    - Question: \"What time did you last check the Mona Lisa room?\"\n",
      "    - Answer: \"I did my usual rounds at 10 PM. Everything was in order.\"\n",
      "    - Date created: \"2023-10-20\"\n",
      "  - Suspect 2:\n",
      "    - Suspect ID: 2\n",
      "    - Name: \"SQL Sally\"\n",
      "    - Question: \"When did you last access the Mona Lisa room?\"\n",
      "    - Answer: \"I was last there at 7 PM for a general inspection.\"\n",
      "    - Date created: \"2023-10-20\"\n",
      "  - Suspect 3:\n",
      "    - Suspect ID: 3\n",
      "    - Name: \"Victor Vectors\"\n",
      "    - Question: \"When did you last clean the Mona Lisa room?\"\n",
      "    - Answer: \"I haven't cleaned there for a week.\"\n",
      "    - Date created: \"2023-10-20\"\n",
      "  - Suspect 4:\n",
      "    - Suspect ID: 4\n",
      "    - Name: \"GraphQL Graeme\"\n",
      "    - Question: \"Did you have any issues with the Museum systems recently?\"\n",
      "    - Answer: \"We had some issues today, I was not able to enter my office, but Victor, who used to work in IT, has sorted it out. Bless him!\"\n",
      "    - Date created: \"2023-10-20\"\u001b[0m\n",
      "\n",
      "\u001b[1m> Finished chain.\u001b[0m\n"
     ]
    },
    {
     "data": {
      "text/html": [
       "\n",
       "    <table style='width: 100%;'><tr>\n",
       "    <td style='width: 100px; vertical-align: top;'><img src=\"./media/dr_watts_on_head.png\"></td>\n",
       "    <td style='width: auto; vertical-align: middle;'><div style='width: auto; height: auto; background-color: black; border: 1px solid; border-radius: 15px; padding: 5px;'>\n",
       "        <pre style='text-align: left; color: green; font-size: 1.2em;padding-top: -10px; font-weight: bold; font-family: Terminal, monospace;'>The details of case ID 1 are as follows:\n",
       "\n",
       "- Case ID: 1\n",
       "- Case number: \"Case #54504005\"\n",
       "- Date created: \"2023-10-20\"\n",
       "- Details: \"The Mona Lisa paint is reported missing from its location, a dedicated room in the Museum of Agadir. We currently assume the painting is stolen.\"\n",
       "\n",
       "- Policeman details:\n",
       "  - Policeman ID: 1\n",
       "  - Name: \"Inspector Charles\"\n",
       "  - Rank: \"Inspector\"\n",
       "  - Date joined: \"2020-01-15\"\n",
       "  - Grade: \"Inspector\"\n",
       "\n",
       "- Suspects details:\n",
       "  - Suspect 1:\n",
       "    - Suspect ID: 1\n",
       "    - Name: \"Rest Webber\"\n",
       "    - Question: \"What time did you last check the Mona Lisa room?\"\n",
       "    - Answer: \"I did my usual rounds at 10 PM. Everything was in order.\"\n",
       "    - Date created: \"2023-10-20\"\n",
       "  - Suspect 2:\n",
       "    - Suspect ID: 2\n",
       "    - Name: \"SQL Sally\"\n",
       "    - Question: \"When did you last access the Mona Lisa room?\"\n",
       "    - Answer: \"I was last there at 7 PM for a general inspection.\"\n",
       "    - Date created: \"2023-10-20\"\n",
       "  - Suspect 3:\n",
       "    - Suspect ID: 3\n",
       "    - Name: \"Victor Vectors\"\n",
       "    - Question: \"When did you last clean the Mona Lisa room?\"\n",
       "    - Answer: \"I haven't cleaned there for a week.\"\n",
       "    - Date created: \"2023-10-20\"\n",
       "  - Suspect 4:\n",
       "    - Suspect ID: 4\n",
       "    - Name: \"GraphQL Graeme\"\n",
       "    - Question: \"Did you have any issues with the Museum systems recently?\"\n",
       "    - Answer: \"We had some issues today, I was not able to enter my office, but Victor, who used to work in IT, has sorted it out. Bless him!\"\n",
       "    - Date created: \"2023-10-20\"</pre>\n",
       "    </div>\n",
       "    </td>\n",
       "    </tr></table>\n",
       "    "
      ],
      "text/plain": [
       "<IPython.core.display.HTML object>"
      ]
     },
     "metadata": {},
     "output_type": "display_data"
    }
   ],
   "source": [
    "run_and_display_agent_response('dr_watts_on', agent_chain4watson, \"Get me the case id=1 and print it in a nice readable way\")"
   ]
  },
  {
   "cell_type": "markdown",
   "metadata": {},
   "source": [
    "<table style='width: 100%;'><tr> \n",
    "<td style='width: 100px; vertical-align: top; border: none;'><img style='border-radius: 15px;' src=\"./media/robby_sciuto_head.png\"></td>\n",
    "<td style='width: auto; vertical-align: middle;'><h2 style=\"color: orange;\">Robby Sciuto - IT System Expert</h2>\n",
    "<h4>Hacks through IT systems related to a crime case to report any suspicious activities that could be linked to the case</h4></td>\n",
    "</tr></table>"
   ]
  },
  {
   "cell_type": "code",
   "execution_count": null,
   "metadata": {},
   "outputs": [],
   "source": [
    "# will do 2 graphql queries and then will try to interact with the SQl guy and there is an outtage"
   ]
  },
  {
   "cell_type": "markdown",
   "metadata": {},
   "source": [
    "<table style='width: 100%;'><tr> \n",
    "<td style='width: 100px; vertical-align: top; border: none;'><img style='border-radius: 15px;' src=\"./media/robodoc_head.png\"></td>\n",
    "<td style='width: auto; vertical-align: middle;'><h2 style=\"color: orange;\">Robodoc - Document Analysis Expert</h2>\n",
    "<h4>Uses RAG to perform thorough analysis through pile of documents to report anything unusual from suspects information</h4></td>\n",
    "</tr></table>"
   ]
  },
  {
   "cell_type": "code",
   "execution_count": 2,
   "metadata": {},
   "outputs": [],
   "source": [
    "llm4robodoc = ChatOpenAI(model_name=\"gpt-3.5-turbo-16k\", openai_api_key=os.getenv(\"OPENAI_API_KEY\"))"
   ]
  },
  {
   "cell_type": "code",
   "execution_count": 3,
   "metadata": {},
   "outputs": [],
   "source": [
    "# 📃 custom instructions\n",
    "system_instructions4robodoc = \"\"\"You are Robodoc, a police bot expert in document analysis.\n",
    "You are here to help cracking a crime case.\n",
    "You will be given a suspect's name and his latest 3 months bank statement.\n",
    "Your role is to analyze the statement and find out anything suspicious and report back using a specific format.\n",
    "\"\"\""
   ]
  },
  {
   "cell_type": "code",
   "execution_count": 4,
   "metadata": {},
   "outputs": [],
   "source": [
    "# 🗂️ Response Schema\n",
    "class ReportSchema(BaseModel):\n",
    "    \"\"\"An answer to the question being asked, with sources.\"\"\"\n",
    "    suspectName: str = Field(..., description=\"Name of the suspect\") \n",
    "    report_content: str = Field(..., description=\"Analize the document, look for anything suspicious, describe with a sentence the most suspicious here. If not found say 'N/A'\")\n",
    "    suspiscious: bool = Field(..., description=\"True if the suspect has anything suspiscious found\")"
   ]
  },
  {
   "cell_type": "code",
   "execution_count": 5,
   "metadata": {},
   "outputs": [
    {
     "name": "stderr",
     "output_type": "stream",
     "text": [
      "Number of requested results 4 is greater than number of elements in index 1, updating n_results = 1\n"
     ]
    },
    {
     "data": {
      "text/html": [
       "\n",
       "    <table style='width: 100%;'><tr>\n",
       "    <td style='width: 100px; vertical-align: top;'><img style='border-radius: 15px;' src=\"./media/robodoc_head.png\"></td>\n",
       "    <td style='width: auto'></pre>\n",
       "    </div>\n",
       "    </td>\n",
       "    </tr></table>\n",
       "    <table style='width: 100%;'><tr>\n",
       "    <td style='width: auto; vertical-align: middle;'><div style='width: auto; height: auto; background-color: black; border: 1px solid; border-radius: 15px; padding: 5px;'>\n",
       "        <pre style='text-align: left; color: green; font-size: 1.2em;padding-top: -10px; font-weight: bold; font-family: Terminal, monospace;'>{\n",
       "    \"suspectName\": \"Victor Vectors\",\n",
       "    \"report_content\": \"From the bank statement, it appears that Victor Vectors has made several suspicious transactions. Some of the suspicious activities include frequent visits to gas stations, racecourse bets, and online shopping transactions. Additionally, there are significant cash withdrawals and regular visits to a casino. These activities raise suspicion and warrant further investigation.\",\n",
       "    \"suspiscious\": true\n",
       "}</pre>\n",
       "    </div>\n",
       "    </td>\n",
       "    </tr></table>\n",
       "    "
      ],
      "text/plain": [
       "<IPython.core.display.HTML object>"
      ]
     },
     "metadata": {},
     "output_type": "display_data"
    }
   ],
   "source": [
    "retrieval_qa_pydantic = get_retrieval_qa_pydantic_from_document(llm4robodoc, system_instructions4robodoc, 'victor_bank_statement.csv', ReportSchema)\n",
    "result = retrieval_qa_pydantic.run(\"Give your report about Victor Vectors\")\n",
    "output = json.dumps(result.dict(), indent=4)\n",
    "display_agent_response('robodoc', output)"
   ]
  },
  {
   "cell_type": "code",
   "execution_count": 8,
   "metadata": {},
   "outputs": [
    {
     "name": "stderr",
     "output_type": "stream",
     "text": [
      "Number of requested results 4 is greater than number of elements in index 1, updating n_results = 1\n"
     ]
    },
    {
     "data": {
      "text/html": [
       "\n",
       "    <table style='width: 100%;'><tr>\n",
       "    <td style='width: 100px; vertical-align: top;'><img style='border-radius: 15px;' src=\"./media/robodoc_head.png\"></td>\n",
       "    <td style='width: auto'></pre>\n",
       "    </div>\n",
       "    </td>\n",
       "    </tr></table>\n",
       "    <table style='width: 100%;'><tr>\n",
       "    <td style='width: auto; vertical-align: middle;'><div style='width: auto; height: auto; background-color: black; border: 1px solid; border-radius: 15px; padding: 5px;'>\n",
       "        <pre style='text-align: left; color: green; font-size: 1.2em;padding-top: -10px; font-weight: bold; font-family: Terminal, monospace;'>{\n",
       "    \"suspectName\": \"Grafcuel Graeme\",\n",
       "    \"report_content\": \"N/A\",\n",
       "    \"suspiscious\": false\n",
       "}</pre>\n",
       "    </div>\n",
       "    </td>\n",
       "    </tr></table>\n",
       "    "
      ],
      "text/plain": [
       "<IPython.core.display.HTML object>"
      ]
     },
     "metadata": {},
     "output_type": "display_data"
    },
    {
     "name": "stderr",
     "output_type": "stream",
     "text": [
      "Number of requested results 4 is greater than number of elements in index 1, updating n_results = 1\n"
     ]
    },
    {
     "data": {
      "text/html": [
       "\n",
       "    <table style='width: 100%;'><tr>\n",
       "    <td style='width: 100px; vertical-align: top;'><img style='border-radius: 15px;' src=\"./media/robodoc_head.png\"></td>\n",
       "    <td style='width: auto'></pre>\n",
       "    </div>\n",
       "    </td>\n",
       "    </tr></table>\n",
       "    <table style='width: 100%;'><tr>\n",
       "    <td style='width: auto; vertical-align: middle;'><div style='width: auto; height: auto; background-color: black; border: 1px solid; border-radius: 15px; padding: 5px;'>\n",
       "        <pre style='text-align: left; color: green; font-size: 1.2em;padding-top: -10px; font-weight: bold; font-family: Terminal, monospace;'>{\n",
       "    \"suspectName\": \"Sikwel Sally\",\n",
       "    \"report_content\": \"N/A\",\n",
       "    \"suspiscious\": false\n",
       "}</pre>\n",
       "    </div>\n",
       "    </td>\n",
       "    </tr></table>\n",
       "    "
      ],
      "text/plain": [
       "<IPython.core.display.HTML object>"
      ]
     },
     "metadata": {},
     "output_type": "display_data"
    },
    {
     "name": "stderr",
     "output_type": "stream",
     "text": [
      "Number of requested results 4 is greater than number of elements in index 1, updating n_results = 1\n"
     ]
    },
    {
     "data": {
      "text/html": [
       "\n",
       "    <table style='width: 100%;'><tr>\n",
       "    <td style='width: 100px; vertical-align: top;'><img style='border-radius: 15px;' src=\"./media/robodoc_head.png\"></td>\n",
       "    <td style='width: auto'></pre>\n",
       "    </div>\n",
       "    </td>\n",
       "    </tr></table>\n",
       "    <table style='width: 100%;'><tr>\n",
       "    <td style='width: auto; vertical-align: middle;'><div style='width: auto; height: auto; background-color: black; border: 1px solid; border-radius: 15px; padding: 5px;'>\n",
       "        <pre style='text-align: left; color: green; font-size: 1.2em;padding-top: -10px; font-weight: bold; font-family: Terminal, monospace;'>{\n",
       "    \"suspectName\": \"Victor Vectors\",\n",
       "    \"report_content\": \"Based on the analysis of Victor Vectors' bank statement, there are several suspicious activities. Victor made frequent transactions at gas stations, coffee shops, and online shopping websites. He also spent a significant amount of money on racecourse bets and casino activities. Additionally, Victor received a large monthly salary deposit. Overall, his spending patterns raise suspicions of possible involvement in gambling and excessive spending.\",\n",
       "    \"suspiscious\": true\n",
       "}</pre>\n",
       "    </div>\n",
       "    </td>\n",
       "    </tr></table>\n",
       "    "
      ],
      "text/plain": [
       "<IPython.core.display.HTML object>"
      ]
     },
     "metadata": {},
     "output_type": "display_data"
    },
    {
     "name": "stderr",
     "output_type": "stream",
     "text": [
      "Number of requested results 4 is greater than number of elements in index 1, updating n_results = 1\n"
     ]
    },
    {
     "data": {
      "text/html": [
       "\n",
       "    <table style='width: 100%;'><tr>\n",
       "    <td style='width: 100px; vertical-align: top;'><img style='border-radius: 15px;' src=\"./media/robodoc_head.png\"></td>\n",
       "    <td style='width: auto'></pre>\n",
       "    </div>\n",
       "    </td>\n",
       "    </tr></table>\n",
       "    <table style='width: 100%;'><tr>\n",
       "    <td style='width: auto; vertical-align: middle;'><div style='width: auto; height: auto; background-color: black; border: 1px solid; border-radius: 15px; padding: 5px;'>\n",
       "        <pre style='text-align: left; color: green; font-size: 1.2em;padding-top: -10px; font-weight: bold; font-family: Terminal, monospace;'>{\n",
       "    \"suspectName\": \"Rest Webber\",\n",
       "    \"report_content\": \"N/A\",\n",
       "    \"suspiscious\": false\n",
       "}</pre>\n",
       "    </div>\n",
       "    </td>\n",
       "    </tr></table>\n",
       "    "
      ],
      "text/plain": [
       "<IPython.core.display.HTML object>"
      ]
     },
     "metadata": {},
     "output_type": "display_data"
    }
   ],
   "source": [
    "documents = ['bank_statements/graeme_bank_statement.csv',\n",
    "             'bank_statements/sally_bank_statement.csv',\n",
    "             'bank_statements/victor_bank_statement.csv',\n",
    "             'bank_statements/webber_bank_statement.csv']\n",
    "names = ['Grafcuel Graeme', 'Sikwel Sally', 'Victor Vectors', 'Rest Webber']\n",
    "\n",
    "for doc, name in zip(documents, names):\n",
    "    retrieval_qa_pydantic = get_retrieval_qa_pydantic_from_document(llm4robodoc, system_instructions4robodoc, doc, ReportSchema)\n",
    "    result = retrieval_qa_pydantic.run(f\"Give your report about {name}\")\n",
    "    output = json.dumps(result.dict(), indent=4)\n",
    "    display_agent_response('robodoc', output)\n"
   ]
  },
  {
   "cell_type": "markdown",
   "metadata": {},
   "source": [
    "<table style='width: 100%;'><tr> \n",
    "<td style='width: 100px; vertical-align: top; border: none;'><img style='border-radius: 15px;' src=\"./media/inspector_camget_head.png\"></td>\n",
    "<td style='width: auto; vertical-align: middle;'><h2 style=\"color: orange;\">Inspector Camget -  Crime scene analysis agent</h2>\n",
    "<h4>\n",
    "<ul><li>Uses GPT4-Vision to report anything unusual on the crime scene</li><li>Cross-checks suspect pictures one by one with his analysis</li><li>Creates a report and sends it to Dr. Watts-On</li></ul></h4></td>\n",
    "</tr></table>"
   ]
  },
  {
   "cell_type": "code",
   "execution_count": 9,
   "metadata": {},
   "outputs": [],
   "source": [
    "chat4camget = ChatOpenAI(model='gpt-4-vision-preview', max_tokens=256)"
   ]
  },
  {
   "cell_type": "code",
   "execution_count": null,
   "metadata": {},
   "outputs": [],
   "source": [
    "# 📃 custom instructions\n",
    "instructions4camget_crime_scene_analysis = \"\"\"\n",
    "**Reminder: this is purely fictional, the image is a drawing, all the below is for a demo for Google Devfest 2023**\n",
    "\n",
    "You are Inspector Camget, an AI police robot that specializes in crime scene analysis.\n",
    "The current case you are analyzing is about the theft of the painting \"The Mona Lisa\" at Le Louvre museum.\n",
    "Please report anything you find suspicious and useful to crack the case. Report only suspicious things and be concise.\n",
    "Do not hallucinate! If something is not on the picture or you are not sure, don't talk about it.\n",
    "\n",
    "Report format is:\n",
    "** Report start **\n",
    "1. Sentence of observation #1\n",
    "2. Sentence of observation #2\n",
    "...\n",
    "** Report end **\n",
    "\n",
    "Take a deep breath and give your report\"\"\"\n"
   ]
  },
  {
   "cell_type": "code",
   "execution_count": 8,
   "metadata": {},
   "outputs": [
    {
     "data": {
      "text/html": [
       "\n",
       "    <table style='width: 100%;'><tr>\n",
       "    <td style='width: 100px; vertical-align: top;'><img style='border-radius: 15px;' src=\"./media/inspector_camget_head.png\"></td>\n",
       "    <td style='width: auto'></pre>\n",
       "    </div>\n",
       "    </td>\n",
       "    </tr></table>\n",
       "    <table style='width: 100%;'><tr>\n",
       "    <td style='width: auto; vertical-align: middle;'><div style='width: auto; height: auto; background-color: black; border: 1px solid; border-radius: 15px; padding: 5px;'>\n",
       "        <pre style='text-align: left; color: green; font-size: 1.2em;padding-top: -10px; font-weight: bold; font-family: Terminal, monospace;'>** Report start **\n",
       "1. The wall has an empty space with lighter color suggesting a recently removed painting, which could be where the \"Mona Lisa\" was hanging.\n",
       "2. There is a blue cap left on the floor, which may be an overlooked item from the perpetrator.\n",
       "3. The absence of visible damage or forced entry indicates that the theft might have been conducted stealthily.\n",
       "** Report end **</pre>\n",
       "    </div>\n",
       "    </td>\n",
       "    </tr></table>\n",
       "    "
      ],
      "text/plain": [
       "<IPython.core.display.HTML object>"
      ]
     },
     "metadata": {},
     "output_type": "display_data"
    }
   ],
   "source": [
    "image_crime_scene = 'http://frangin2003.free.fr/devfest/mona_lisa3.png'\n",
    "msg_camget001 = create_human_message_for_gpt4vision(instructions4camget_crime_scene_analysis, image_crime_scene)\n",
    "output_camget001 = chat4camget.invoke([msg_camget001])\n",
    "display_agent_response('inspector_camget', output_camget001.content)\n"
   ]
  },
  {
   "cell_type": "code",
   "execution_count": 12,
   "metadata": {},
   "outputs": [
    {
     "data": {
      "text/html": [
       "\n",
       "    <table style='width: 100%;'><tr>\n",
       "    <td style='width: 100px; vertical-align: top;'><img style='border-radius: 15px;' src=\"./media/inspector_camget_head.png\"></td>\n",
       "    <td style='width: auto'></pre>\n",
       "    </div>\n",
       "    </td>\n",
       "    </tr></table>\n",
       "    <table style='width: 100%;'><tr>\n",
       "    <td style='width: auto; vertical-align: middle;'><div style='width: auto; height: auto; background-color: black; border: 1px solid; border-radius: 15px; padding: 5px;'>\n",
       "        <pre style='text-align: left; color: green; font-size: 1.2em;padding-top: -10px; font-weight: bold; font-family: Terminal, monospace;'>** Report start **\n",
       "Name: Grafcuel Graeme \n",
       "Status: Not suspicious \n",
       "1. The suspect is not wearing a blue cap nor is there any blue cap visible in the photograph.\n",
       "2. There are no signs of a recently removed painting or art theft tools in the suspect's possession.\n",
       "** Report end **</pre>\n",
       "    </div>\n",
       "    </td>\n",
       "    </tr></table>\n",
       "    "
      ],
      "text/plain": [
       "<IPython.core.display.HTML object>"
      ]
     },
     "metadata": {},
     "output_type": "display_data"
    },
    {
     "data": {
      "text/html": [
       "\n",
       "    <table style='width: 100%;'><tr>\n",
       "    <td style='width: 100px; vertical-align: top;'><img style='border-radius: 15px;' src=\"./media/inspector_camget_head.png\"></td>\n",
       "    <td style='width: auto'></pre>\n",
       "    </div>\n",
       "    </td>\n",
       "    </tr></table>\n",
       "    <table style='width: 100%;'><tr>\n",
       "    <td style='width: auto; vertical-align: middle;'><div style='width: auto; height: auto; background-color: black; border: 1px solid; border-radius: 15px; padding: 5px;'>\n",
       "        <pre style='text-align: left; color: green; font-size: 1.2em;padding-top: -10px; font-weight: bold; font-family: Terminal, monospace;'>** Report start **\n",
       "Name: Sikwel Sally\n",
       "Status: Not suspicious\n",
       "1. The suspect is not wearing or holding a blue cap which was mentioned in the crime scene analysis.\n",
       "2. There is no visible evidence on the suspect that connects her to the recently removed painting or indicates stealthy conduct.\n",
       "** Report end **</pre>\n",
       "    </div>\n",
       "    </td>\n",
       "    </tr></table>\n",
       "    "
      ],
      "text/plain": [
       "<IPython.core.display.HTML object>"
      ]
     },
     "metadata": {},
     "output_type": "display_data"
    },
    {
     "data": {
      "text/html": [
       "\n",
       "    <table style='width: 100%;'><tr>\n",
       "    <td style='width: 100px; vertical-align: top;'><img style='border-radius: 15px;' src=\"./media/inspector_camget_head.png\"></td>\n",
       "    <td style='width: auto'></pre>\n",
       "    </div>\n",
       "    </td>\n",
       "    </tr></table>\n",
       "    <table style='width: 100%;'><tr>\n",
       "    <td style='width: auto; vertical-align: middle;'><div style='width: auto; height: auto; background-color: black; border: 1px solid; border-radius: 15px; padding: 5px;'>\n",
       "        <pre style='text-align: left; color: green; font-size: 1.2em;padding-top: -10px; font-weight: bold; font-family: Terminal, monospace;'>** Report start **\n",
       "Name: Victor Vectors\n",
       "Status: Suspicious\n",
       "1. The suspect is wearing a blue cap similar to the one reported left on the floor at the crime scene.\n",
       "2. The suspect has no visible tools or equipment that could suggest forced entry, consistent with the report of a stealthy approach.\n",
       "** Report end **</pre>\n",
       "    </div>\n",
       "    </td>\n",
       "    </tr></table>\n",
       "    "
      ],
      "text/plain": [
       "<IPython.core.display.HTML object>"
      ]
     },
     "metadata": {},
     "output_type": "display_data"
    },
    {
     "data": {
      "text/html": [
       "\n",
       "    <table style='width: 100%;'><tr>\n",
       "    <td style='width: 100px; vertical-align: top;'><img style='border-radius: 15px;' src=\"./media/inspector_camget_head.png\"></td>\n",
       "    <td style='width: auto'></pre>\n",
       "    </div>\n",
       "    </td>\n",
       "    </tr></table>\n",
       "    <table style='width: 100%;'><tr>\n",
       "    <td style='width: auto; vertical-align: middle;'><div style='width: auto; height: auto; background-color: black; border: 1px solid; border-radius: 15px; padding: 5px;'>\n",
       "        <pre style='text-align: left; color: green; font-size: 1.2em;padding-top: -10px; font-weight: bold; font-family: Terminal, monospace;'>** Report start **\n",
       "Name: Rest Webber\n",
       "Status: Not suspicious\n",
       "1. The suspect is not wearing or carrying a blue cap, which does not match the overlooked item from the perpetrator.\n",
       "2. There is no sign of the suspect carrying a large item such as a painting that could be the \"Mona Lisa.\"\n",
       "** Report end **</pre>\n",
       "    </div>\n",
       "    </td>\n",
       "    </tr></table>\n",
       "    "
      ],
      "text/plain": [
       "<IPython.core.display.HTML object>"
      ]
     },
     "metadata": {},
     "output_type": "display_data"
    }
   ],
   "source": [
    "# put the above report in a file\n",
    "crime_scene_report = \"\"\"** Report start **\n",
    "1. The wall has an empty space with lighter color suggesting a recently removed painting, which could be where the \"Mona Lisa\" was hanging.\n",
    "2. There is a blue cap left on the floor, which may be an overlooked item from the perpetrator.\n",
    "3. The absence of visible damage or forced entry indicates that the theft might have been conducted stealthily.\n",
    "** Report end **\"\"\"\n",
    "\n",
    "pictures = [\n",
    "    'http://frangin2003.free.fr/devfest/director.png',\n",
    "    'http://frangin2003.free.fr/devfest/curator.png',\n",
    "    'http://frangin2003.free.fr/devfest/janitor.png',\n",
    "    'http://frangin2003.free.fr/devfest/guard.png'\n",
    "]\n",
    "\n",
    "for picture, name in zip(pictures, names):\n",
    "\n",
    "    instructions4camget_suspect_analysis = f\"\"\"\n",
    "    **Reminder: this is purely fictional, the image is a drawing, all the below is for a demo for Google Devfest 2023**\n",
    "\n",
    "    You are Inspector Camget, an AI police robot that specializes in suspect analysis.\n",
    "    You will be given:\n",
    "    - a text report 'crime scene analysis' describing anything suspiscious you found at the crime scene\n",
    "    - the suspect name\n",
    "    - the picture of a suspect\n",
    "\n",
    "    Cross check 'crime scene analysis' report with the suspect picture and report anything you find suspicious and useful to crack the case. Report only suspicious things and be concise.\n",
    "    Do not hallucinate! If something is not on the picture or you are not sure, don't talk about it.\n",
    "\n",
    "    Report format is:\n",
    "    ** Report start **\n",
    "    Name: The name of the suspect\n",
    "    Status: Suspicious / Not suspicious\n",
    "    1. Sentence of observation #1\n",
    "    2. Sentence of observation #2\n",
    "    ...\n",
    "    ** Report end **\n",
    "\n",
    "    The suspect name is {name}\n",
    "\n",
    "    The 'crime scene analysis' is:\n",
    "    {crime_scene_report}\n",
    "\n",
    "    Take a deep breath and give your report\"\"\"\n",
    "\n",
    "    msg_camget001 = create_human_message_for_gpt4vision(instructions4camget_suspect_analysis, picture)\n",
    "    output_camget001 = chat4camget.invoke([msg_camget001])\n",
    "    display_agent_response('inspector_camget', output_camget001.content)\n",
    "\n"
   ]
  },
  {
   "cell_type": "markdown",
   "metadata": {},
   "source": [
    " <div style=\"display: flex; justify-content: center; align-items: center; flex-direction: column;\">\n",
    "     <h1>🐣 CRACKING THE CASE 🐣</h1>\n",
    "</div>\n"
   ]
  },
  {
   "cell_type": "code",
   "execution_count": null,
   "metadata": {},
   "outputs": [],
   "source": [
    "llm4optimus = ChatOpenAI(model_name=\"gpt-4-1106-preview\", openai_api_key=os.getenv(\"OPENAI_API_KEY\"))"
   ]
  },
  {
   "cell_type": "code",
   "execution_count": null,
   "metadata": {},
   "outputs": [],
   "source": [
    "# 📃 custom instructions\n",
    "prefix4optimus = \"\"\"You are Dr. Watts-On, archive/documentation/secretary AI agent working for the police force.\n",
    "Your mission is to interact with the Police REST API to retrieve and inserts information in the Police DB like:\n",
    "- other agents reports\n",
    "- case details\n",
    "- suspect list and interviews...\n",
    "When you respond, make sure to add break lines after each sentence.\n",
    "If the user is engaging a casual discussion, do not use tools, just respond back directly.\n",
    "If the REST API is down, you fall back to doing SQL queries directly to the DB when the REST API is down.\"\"\""
   ]
  },
  {
   "cell_type": "code",
   "execution_count": null,
   "metadata": {},
   "outputs": [],
   "source": [
    "# 🧰 define the tools\n",
    "\n",
    "policeAPIChain = APIChain.from_llm_and_api_docs(llm4watson, POLICE_REPORTING_API_DOCS, limit_to_domains=[\n",
    "    \"http://localhost:5000/\",\n",
    "    ], verbose=True)\n",
    "\n",
    "# 🏛️ Museum DB SQLChain Tool\n",
    "police_db = SQLDatabase.from_uri(\"sqlite:///police.db\")\n",
    "police_db_chain = SQLDatabaseChain.from_llm(llm4watson, police_db, verbose=True)\n",
    "\n",
    "def policeDB(input: str) -> str:\n",
    "    return police_db_chain.run(input)\n",
    "\n",
    "def policeAPI(input: str) -> str:\n",
    "    return policeAPIChain.run(input)\n",
    "\n",
    "tools4coptimus = [\n",
    "    Tool(\n",
    "        name='Police REST API',\n",
    "        func= lambda string: policeAPI(string),\n",
    "        description=\n",
    "\"\"\"Utilize the REST API to manage the police DB.\"\"\"\n",
    "    ),\n",
    "    Tool(\n",
    "        name='Police DB',\n",
    "        func= lambda string: policeDB(string),\n",
    "        description=\n",
    "\"\"\"Access the Police SQL database.\"\"\"\n",
    "    )\n",
    "]"
   ]
  },
  {
   "cell_type": "code",
   "execution_count": null,
   "metadata": {},
   "outputs": [],
   "source": [
    "# setup 📜 prompt, memory 💽, chains ⛓️ and agent 🤖\n",
    "agent_chain4coptimus = get_agent_chain(llm4coptimus, prefix4coptimus, tools4coptimus)"
   ]
  },
  {
   "cell_type": "code",
   "execution_count": null,
   "metadata": {},
   "outputs": [],
   "source": [
    "run_and_display_agent_response('coptimus', agent_chain4coptimus, \"Crack the case\", True)\n"
   ]
  },
  {
   "cell_type": "markdown",
   "metadata": {},
   "source": [
    "<br><br><br><br><br><br><br><br><br>"
   ]
  },
  {
   "cell_type": "markdown",
   "metadata": {},
   "source": [
    "<div style=\"display: flex; justify-content: space-between;\">\n",
    "    <div style=\"width: 40%;\">\n",
    "        <img src=\"./media/simulacra.png\" alt=\"Simulacra\" style=\"width:100%; height:auto;\">\n",
    "    </div>\n",
    "    <div style=\"width: 60%;\">\n",
    "         <h1>📃 Some Papers</h1>\n",
    "         <ul>\n",
    "             <li><a style=\"color:yellow\" href=\"https://arxiv.org/abs/2304.03442\">Generative Agents: Interactive Simulacra of Human Behavior</a></li>\n",
    "             <li><a style=\"color:yellow\" href=\"https://arxiv.org/abs/2305.16291\">Voyager: An Open-Ended Embodied Agent with Large Language Models</a></li>\n",
    "             <li><a style=\"color:yellow\" href=\"https://fablestudio.github.io/showrunner-agents/\">SHOW-1 and Showrunner Agents in Multi-Agent Simulations</a></li>\n",
    "             <li><a style=\"color:yellow\" href=\"https://arxiv.org/abs/2308.03427\">TPTU: Task Planning and Tool Usage</a></li>\n",
    "             <li><a style=\"color:yellow\" href=\"https://arxiv.org/abs/2309.10691\">MINT: Evaluating LLMs in Multi-turn Interaction with Tools and Language Feedback</a></li>\n",
    "             <li><a style=\"color:yellow\" href=\"https://arxiv.org/abs/2303.09014\">ART: Automatic multi-step reasoning and tool-use</a></li>\n",
    "             <li><a style=\"color:yellow\" href=\"https://arxiv.org/abs/2308.01990\">From Prompt Injections to SQL Injection Attacks</a></li>\n",
    "             <li><a style=\"color:yellow\" href=\"https://arxiv.org/abs/2305.11853\">How to Prompt LLMs for Text-to-SQL</a></li>\n",
    "             <li><a style=\"color:yellow\" href=\"https://arxiv.org/abs/2305.03111\">Can LLM Already Serve as A Database Interface</a></li>\n",
    "             <li><a style=\"color:yellow\" href=\"https://arxiv.org/abs/2310.04474\">Reverse Chain: A Generic-Rule for LLMs to Master Multi-API Planning</a></li>\n",
    "         </ul>\n",
    "    </div>\n",
    "</div>\n"
   ]
  },
  {
   "cell_type": "markdown",
   "metadata": {},
   "source": [
    "<div style=\"display: flex; justify-content: space-between;\">\n",
    "    <div style=\"width: 50%;\">\n",
    "        <img src=\"./media/minecraft.png\" alt=\"Minecraft\" style=\"width:80%; height:auto;\">\n",
    "    </div>\n",
    "    <div style=\"width: 50%;\">\n",
    "        <img src=\"./media/southpark.png\" alt=\"Southpark\" style=\"width:80%; height:auto;\">\n",
    "    </div>\n",
    "</div>\n"
   ]
  },
  {
   "cell_type": "markdown",
   "metadata": {},
   "source": [
    "<br><br><br><br><br><br><br><br><br><br><br><br><br><br>"
   ]
  },
  {
   "cell_type": "markdown",
   "metadata": {},
   "source": [
    " <div style=\"display: flex; justify-content: center; align-items: center; flex-direction: column;\">\n",
    "     <h1>🤗 THANKS FOR YOUR ATTENTION 🤗</h1>\n",
    "</div>"
   ]
  },
  {
   "cell_type": "markdown",
   "metadata": {},
   "source": [
    "<center>\n",
    "<img src=\"./media/thankyou.png\" width=\"40%\" height=\"40%\" loop=\"false\">\n",
    "</center>"
   ]
  },
  {
   "cell_type": "markdown",
   "metadata": {},
   "source": [
    "<br><br><br><br><br><br><br>"
   ]
  },
  {
   "cell_type": "markdown",
   "metadata": {},
   "source": [
    "<center>\n",
    "<img src=\"./media/questions.png\" width=\"40%\" height=\"40%\" loop=\"false\">\n",
    "</center>"
   ]
  }
 ],
 "metadata": {
  "kernelspec": {
   "display_name": "Python 3",
   "language": "python",
   "name": "python3"
  },
  "language_info": {
   "codemirror_mode": {
    "name": "ipython",
    "version": 3
   },
   "file_extension": ".py",
   "mimetype": "text/x-python",
   "name": "python",
   "nbconvert_exporter": "python",
   "pygments_lexer": "ipython3",
   "version": "3.11.4"
  },
  "orig_nbformat": 4
 },
 "nbformat": 4,
 "nbformat_minor": 2
}
